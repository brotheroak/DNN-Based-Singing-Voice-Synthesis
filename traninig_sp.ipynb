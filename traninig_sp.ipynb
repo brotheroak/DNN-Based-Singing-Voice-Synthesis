{
 "cells": [
  {
   "cell_type": "code",
   "execution_count": 1,
   "metadata": {
    "collapsed": true
   },
   "outputs": [
    {
     "name": "stderr",
     "output_type": "stream",
     "text": [
      "Using TensorFlow backend.\n"
     ]
    },
    {
     "name": "stderr",
     "output_type": "stream",
     "text": [
      "/Users/Zizy/anaconda/envs/tensorflow/lib/python3.5/importlib/_bootstrap.py:222: RuntimeWarning: compiletime version 3.6 of module 'tensorflow.python.framework.fast_tensor_util' does not match runtime version 3.5\n  return f(*args, **kwds)\n"
     ]
    }
   ],
   "source": [
    "import re\n",
    "import numpy as np\n",
    "import pandas as pd\n",
    "from keras.models import *\n",
    "from keras.layers import *\n",
    "from keras.layers import *\n",
    "from keras import optimizers\n",
    "from keras.utils import np_utils\n",
    "from keras.callbacks import TensorBoard\n",
    "from keras.models import load_model\n",
    "import math\n",
    "import os.path\n",
    "from keras.optimizers import *"
   ]
  },
  {
   "cell_type": "code",
   "execution_count": 2,
   "metadata": {},
   "outputs": [
    {
     "name": "stdout",
     "output_type": "stream",
     "text": [
      "120\n"
     ]
    }
   ],
   "source": [
    "reg = \"(.*) (.*) (.*)\\@(.*)\\^(.*)\\-(.*)\\+(.*)\\=(.*)\\_(.*)\\%(.*)\\^(.*)\\_(.*)\\~(.*)\\-(.*)\\!(.*)\\[(.*)\\$(.*)\\](.*)/A:(.*)\\-(.*)\\-(.*)\\@(.*)\\~(.*)/B:(.*)\\_(.*)\\_(.*)\\@(.*)\\|(.*)/C:(.*)\\+(.*)\\+(.*)\\@(.*)\\&(.*)/D:(.*)\\!(.*)\\#(.*)\\$(.*)\\%(.*)\\|(.*)\\&(.*)\\;(.*)\\-(.*)/E:(.*)\\](.*)\\^(.*)\\=(.*)\\~(.*)\\!(.*)\\@(.*)\\#(.*)\\+(.*)\\](.*)\\$(.*)\\|(.*)\\[(.*)\\&(.*)\\](.*)\\=(.*)\\^(.*)\\~(.*)\\#(.*)\\_(.*)\\;(.*)\\$(.*)\\&(.*)\\%(.*)\\[(.*)\\|(.*)\\](.*)\\-(.*)\\^(.*)\\+(.*)\\~(.*)\\=(.*)\\@(.*)\\$(.*)\\!(.*)\\%(.*)\\#(.*)\\|(.*)\\|(.*)\\-(.*)\\&(.*)\\&(.*)\\+(.*)\\[(.*)\\;(.*)\\](.*)\\;(.*)\\~(.*)\\~(.*)\\^(.*)\\^(.*)\\@(.*)\\[(.*)\\#(.*)\\=(.*)\\!(.*)\\~(.*)\\+(.*)\\!(.*)\\^(.*)/F:(.*)\\#(.*)\\#(.*)\\-(.*)\\$(.*)\\$(.*)\\+(.*)\\%(.*)\\;(.*)/G:(.*)\\_(.*)/H:(.*)\\_(.*)/I:(.*)\\_(.*)/J:(.*)\\~(.*)\\@(.*)\"\n",
    "li = re.findall(reg,\"0 12000000 p@xx^xx-pau+d=e_xx%xx^00_00~00-1!1[xx$xx]xx/A:xx-xx-xx@xx~xx/B:1_1_1@xx|xx/C:2+1+1@JPN&0/D:xx!xx#xx$xx%xx|xx&xx;xx-xx/E:xx]xx^2=2/4~100!1@120#48+xx]1$1|0[12&0]48=0^100~xx#xx_xx;xx$xx&xx%xx[xx|0]0-n^xx+xx~xx=xx@xx$xx!xx%xx#xx|xx|xx-xx&xx&xx+xx[xx;xx]xx;xx~xx~xx^xx^xx@xx[xx#xx=xx!xx~xx+xx!xx^xx/F:A4#7#2-2/4$100$1+45%18;xx/G:xx_xx/H:xx_xx/I:13_13/J:3~3@6\")\n",
    "\n",
    "phonemes = ['pau','xx'] +[\"ny\",\"ty\",\"py\",\"ky\",\"ry\",\"f\",\"br\",\"sil\",\"cl\",\"a\",\"i\",\"u\",\"e\",\"o\",\"k\",\"g\",\"s\",\"z\",\"sh\",\"j\",\"t\",\"d\",\"ch\",\"q\",\"ts\",\"h\",\"b\",\"p\",\"m\",\"y\",\"r\",\"w\",\"N\",\"n\",\"v\" ]\n",
    "pitches = ['xx']+[pitch + str(i) for i in range(1,8) for pitch in [\"C\", \"Db\", \"D\", \"Eb\", \"E\", \"F\", \"Gb\", \"G\", \"Ab\", \"A\", \"Bb\", \"B\"]] \n",
    "BOS=9999\n",
    "\n",
    "local_path='/Users/Zizy/Programming/HKU/Dissertation/'\n",
    "\n",
    "lbl_name = ['t0','t1']+['p' + str(i) for i in range(1, 17)] + \\\n",
    "           ['a' + str(i) for i in range(1, 6)] + \\\n",
    "           ['b' + str(i) for i in range(1, 6)] + \\\n",
    "           ['c' + str(i) for i in range(1, 6)] + \\\n",
    "           ['d' + str(i) for i in range(1, 10)] + \\\n",
    "           ['e' + str(i) for i in range(1, 61)] + \\\n",
    "           ['f' + str(i) for i in range(1, 10)] + \\\n",
    "           ['g' + str(i) for i in range(1, 3)] + \\\n",
    "           ['h' + str(i) for i in range(1, 3)] + \\\n",
    "           ['i' + str(i) for i in range(1, 3)] + \\\n",
    "           ['j' + str(i) for i in range(1, 4)] \n",
    "print(len(li[0]))\n",
    "NUM_OUT_PUT= 20"
   ]
  },
  {
   "cell_type": "code",
   "execution_count": 6,
   "metadata": {},
   "outputs": [],
   "source": [
    "def read_songs_labels():\n",
    "    labs = []\n",
    "    for i in range(0, 71):\n",
    "        label_file_name = 'nitech_jp_song070_f001_0' + (('0' + str(i)) if i < 10 else str(i)) + '.lab'\n",
    "        if not os.path.isfile(local_path + 'lab/' + label_file_name):\n",
    "            continue\n",
    "        with open(local_path + 'lab/' + label_file_name, 'r') as lab_file:\n",
    "            lines = lab_file.readlines()\n",
    "            params_list = []\n",
    "            for line in lines:\n",
    "                ps = re.findall(reg, line)\n",
    "                params_list.append(ps[0])\n",
    "            temp = []\n",
    "            for params in params_list:\n",
    "                params_temp = {}\n",
    "                for i in range(0, 120):\n",
    "                    params_temp[lbl_name[i]] = params[i]\n",
    "                temp.append(params_temp)\n",
    "            params_list = temp\n",
    "\n",
    "            labs.append(params_list)\n",
    "    return labs\n",
    "\n",
    "\n",
    "def make_one_hot(data1, size):\n",
    "    data1 = np.array(data1)\n",
    "    return (np.arange(size) == data1[:, None]).astype(np.integer)\n",
    "\n",
    "\n",
    "def make_class(data, classes):\n",
    "    return [classes.index(p) for p in data]\n",
    "\n",
    "def get_params_by_name(name, params_list):\n",
    "    return [params[name] for params in params_list]\n",
    "\n",
    "\n",
    "def convert_params_to_one_hot(name, classes, params_list):\n",
    "    data = get_params_by_name(name, params_list)\n",
    "    data = make_class(data, classes)\n",
    "    data = make_one_hot(data, len(classes))\n",
    "    return data\n",
    "\n",
    "\n",
    "# with mono file updated\n",
    "def read_songs_labels_with_mono():\n",
    "    labs = []\n",
    "    for i in range(0, 71):\n",
    "        label_file_name = 'nitech_jp_song070_f001_0' + (('0' + str(i)) if i < 10 else str(i)) + '.lab'\n",
    "        if not os.path.isfile(local_path + 'lab/' + label_file_name):\n",
    "            continue\n",
    "        if not os.path.isfile(local_path + 'mono/' + label_file_name):\n",
    "            continue\n",
    "\n",
    "        lab_file = open(local_path + 'lab/' + label_file_name, 'r')\n",
    "        lab_file_mono = open(local_path + 'mono/' + label_file_name, 'r')\n",
    "        lines = lab_file.readlines()\n",
    "        lines_mono = lab_file_mono.readlines()\n",
    "        params_list = []\n",
    "        for index, line in enumerate(lines):\n",
    "            ps = list(re.findall(reg, line)[0])\n",
    "            ps2 = re.findall(\"(.*) (.*) (.*)\", lines_mono[index])[0]\n",
    "\n",
    "            ps[0] = ps2[0]\n",
    "            ps[1] = ps2[1]\n",
    "            params_list.append(ps)\n",
    "        temp = []\n",
    "        for params in params_list:\n",
    "            params_temp = {}\n",
    "            for i in range(0, 120):\n",
    "                params_temp[lbl_name[i]] = params[i]\n",
    "            temp.append(params_temp)\n",
    "        params_list = temp\n",
    "\n",
    "        lab_file.close()\n",
    "        lab_file_mono.close()\n",
    "\n",
    "        labs.append(params_list)\n",
    "    return labs\n",
    "\n",
    "\n",
    "def feature_expend(labs):\n",
    "    modified_labs = []\n",
    "    for index, lab_file in enumerate(labs):\n",
    "        modified_labs.append([])\n",
    "        max_time_stamp = int(lab_file[-1][\"t1\"])\n",
    "        # max_time_stamp / 10000 = ms\n",
    "        f0_size = math.ceil((max_time_stamp / 10000 / 5)) + 1\n",
    "        sample_index = 0\n",
    "        for sample in range(0, f0_size):\n",
    "            if int(lab_file[sample_index][\"t1\"]) / 10000 / 5 > sample:\n",
    "                modified_labs[index].append(lab_file[sample_index])\n",
    "            else:\n",
    "                if len(lab_file) > sample_index + 1:\n",
    "                    sample_index += 1\n",
    "                modified_labs[index].append(lab_file[sample_index])\n",
    "\n",
    "    return modified_labs\n",
    "\n",
    "\n",
    "def sp_feature_extract(labs):\n",
    "    stacked_labs_with_feature = []\n",
    "    feature_num = 0\n",
    "\n",
    "    temp = []\n",
    "    for lab in labs:\n",
    "        temp.append(len(lab))\n",
    "    max_sample_size = max(temp)\n",
    "    print(\"max sample size: %s\" % max_sample_size)\n",
    "\n",
    "    for lab in labs:\n",
    "        params_phonemes_one_hot = convert_params_to_one_hot('p4', phonemes, lab)\n",
    "        params_phonemes_pre_one_hot = convert_params_to_one_hot('p3', phonemes, lab)\n",
    "        params_phonemes_next_one_hot = convert_params_to_one_hot('p5', phonemes, lab)\n",
    "        params_phonemes_position = get_params_by_name('p12', lab)\n",
    "\n",
    "        stacked_feature = np.hstack([params_phonemes_one_hot,\n",
    "                                     params_phonemes_pre_one_hot,\n",
    "                                     params_phonemes_next_one_hot,\n",
    "                                     np.reshape(params_phonemes_position, (len(params_phonemes_position), 1)),\n",
    "                                     ])\n",
    "        stacked_feature = np.vstack([stacked_feature,\n",
    "                                     np.zeros((max_sample_size - stacked_feature.shape[0], stacked_feature.shape[1]))])\n",
    "\n",
    "        stacked_labs_with_feature.append(stacked_feature)\n",
    "\n",
    "    stacked_labs_with_feature = np.array(stacked_labs_with_feature)\n",
    "    return stacked_labs_with_feature\n",
    "\n",
    "\n",
    "def read_f0s():\n",
    "    max_f0_size = 0\n",
    "    f0s = []\n",
    "    for i in range(0, 71):\n",
    "        f0_file_name = 'nitech_jp_song070_f001_0' + (('0' + str(i)) if i < 10 else str(i)) + '_f0.txt'\n",
    "        if not os.path.isfile(local_path + 'gen/' + f0_file_name):\n",
    "            continue\n",
    "        with open(local_path + 'gen/' + f0_file_name, 'r') as f0_file:\n",
    "            lines = f0_file.readlines()\n",
    "            lines = np.array(lines).astype(np.float)\n",
    "\n",
    "            if len(lines) > max_f0_size:\n",
    "                max_f0_size = len(lines)\n",
    "            f0s.append(lines)\n",
    "\n",
    "    # 即要生成的最多个f0，\n",
    "    print(max_f0_size)\n",
    "\n",
    "    for index, f0 in enumerate(f0s):\n",
    "        f0s[index] = np.append(f0, np.zeros(max_f0_size - len(f0)))\n",
    "\n",
    "    f0s = np.array(f0s)\n",
    "    f0s = np.reshape(f0s, (f0s.shape[0], f0s.shape[1], 1))\n",
    "\n",
    "    # (31, max_f0_size, 1)\n",
    "    return f0s, max_f0_size\n",
    "\n",
    "\n",
    "def features_add_f0(labs, f0s):\n",
    "    result = np.zeros((labs.shape[0], labs.shape[1], labs.shape[2] + 1))\n",
    "    for i in range(0, labs.shape[0]):\n",
    "        result[i] = np.hstack([labs[i], f0s[i]])\n",
    "    return result\n",
    "\n",
    "\n",
    "def read_sp():\n",
    "    max_sp_size = 0\n",
    "    sps = []\n",
    "    for i in range(0, 10):\n",
    "        sp_file_name = 'nitech_jp_song070_f001_0' + (('0' + str(i)) if i < 10 else str(i)) + '_sp.txt'\n",
    "        if not os.path.isfile(local_path + 'gen/' + sp_file_name):\n",
    "            continue\n",
    "        with open(local_path + 'gen/' + sp_file_name, 'r') as sp_file:\n",
    "            lines = sp_file.readlines()\n",
    "            lines = np.array(lines)\n",
    "            new_lines = []\n",
    "            for line in lines:\n",
    "                new_lines.append(np.array(line.split(',')).astype(float))\n",
    "            new_lines = np.array(new_lines)\n",
    "            if len(lines) > max_sp_size:\n",
    "                max_sp_size = len(lines)\n",
    "            sps.append(new_lines)\n",
    "            print(len(sps))\n",
    "\n",
    "    # 即要生成的最多个sp，\n",
    "    print(max_sp_size)\n",
    "\n",
    "    for index, sp in enumerate(sps):\n",
    "        sps[index]=np.vstack([sps[index], np.zeros((max_sp_size-len(sp),1025))])\n",
    "    sps = np.array(sps)\n",
    "    return sps, max_sp_size\n"
   ]
  },
  {
   "cell_type": "code",
   "execution_count": 7,
   "metadata": {},
   "outputs": [],
   "source": [
    "local_path='/Users/Zizy/Programming/HKU/Dissertation/'\n"
   ]
  },
  {
   "cell_type": "code",
   "execution_count": 9,
   "metadata": {
    "collapsed": false
   },
   "outputs": [
    {
     "name": "stdout",
     "output_type": "stream",
     "text": [
      "max sample size: 29761\n"
     ]
    },
    {
     "name": "stdout",
     "output_type": "stream",
     "text": [
      "29761\n"
     ]
    },
    {
     "name": "stdout",
     "output_type": "stream",
     "text": [
      "1\n"
     ]
    },
    {
     "name": "stdout",
     "output_type": "stream",
     "text": [
      "2\n"
     ]
    },
    {
     "name": "stdout",
     "output_type": "stream",
     "text": [
      "3\n8640\n"
     ]
    }
   ],
   "source": [
    "labs = read_songs_labels_with_mono()\n",
    "labs = feature_expend(labs)\n",
    "labs = sp_feature_extract(labs)\n",
    "f0s, max_f0_size = read_f0s()\n",
    "labs = features_add_f0(labs, f0s)\n",
    "sps, _ = read_sp()"
   ]
  },
  {
   "cell_type": "code",
   "execution_count": 88,
   "metadata": {},
   "outputs": [],
   "source": [
    "def wavenetBlock(n_atrous_filters, atrous_filter_size, dilation_rate):\n",
    "    def f(input_):\n",
    "        residual = input_\n",
    "        tanh_out = Conv1D(n_atrous_filters, atrous_filter_size,\n",
    "                          dilation_rate=dilation_rate,\n",
    "                          padding='causal',\n",
    "\n",
    "                          activation='tanh')(input_)\n",
    "        sigmoid_out = Conv1D(n_atrous_filters, atrous_filter_size,\n",
    "                             dilation_rate=dilation_rate,\n",
    "                             padding='causal',\n",
    "                             activation='sigmoid')(input_)\n",
    "        merged = Multiply()([tanh_out, sigmoid_out])\n",
    "        skip_out = Conv1D(1, 1, activation='relu', padding='same')(merged)\n",
    "        out = Add()([skip_out, residual])\n",
    "        return out, skip_out\n",
    "\n",
    "    return f\n",
    "\n",
    "\n",
    "def get_basic_generative_model(input_dim):\n",
    "    input_ = Input(shape=(input_dim, 1))\n",
    "    A, B = wavenetBlock(64, 2, 2)(input_)\n",
    "    skip_connections = [B]\n",
    "    for i in range(20):\n",
    "        A, B = wavenetBlock(64, 2, 2 ** ((i + 2) % 9))(A)\n",
    "        skip_connections.append(B)\n",
    "    net = Add()(skip_connections)\n",
    "    net = Activation('relu')(net)\n",
    "    net = Convolution1D(1, 1, activation='relu')(net)\n",
    "    net = Convolution1D(1, 1)(net)\n",
    "    net = Flatten()(net)\n",
    "    # net = Dense(32, activation='relu')(net)\n",
    "    net = Dense(math.ceil(1025 / 20), activation='linear')(net)\n",
    "    \n",
    "    \n",
    "    model = Model(input=input_, output=net)\n",
    "    # model.compile(loss='categorical_crossentropy', optimizer='sgd',\n",
    "    #               metrics=['accuracy'])\n",
    "    model.compile(loss='mse', optimizer=Adam(lr=0.0001),\n",
    "                  metrics=['accuracy'])\n",
    "    model.summary()\n",
    "    return model\n",
    "\n",
    "\n",
    "def frame_generator(total_frame, input_data_size, frame_shift, control_input, minibatch_size=20):\n",
    "    X = []\n",
    "    y = []\n",
    "    while 1:\n",
    "\n",
    "        for lab_file_index in range(0, len(total_frame)):\n",
    "            total_frame_len = len(total_frame[lab_file_index])\n",
    "            X = []\n",
    "            y = []\n",
    "            for cold_start_index in range(0, input_data_size):\n",
    "                # frame = np.zeros((input_data_size - cold_start_index, 103))\n",
    "\n",
    "                frame = total_frame[lab_file_index][:cold_start_index]\n",
    "                new_frame = []\n",
    "                for i in range(len(frame)):\n",
    "                    temp = frame[i]\n",
    "                    temp = [0.00000000001 if i == 0 else i for i in temp]\n",
    "                    temp = np.log(temp)\n",
    "                    # temp = np.fft.irfft(temp)\n",
    "                    # temp = temp[:NUM_OUT_PUT]\n",
    "                    # temp = np.fft.rfft(temp)\n",
    "                    temp = np.array([i for index, i in enumerate(temp) if index % 20 == 0])\n",
    "                    temp = -np.round(temp)\n",
    "                    new_frame.append(temp)\n",
    "                frame = np.array(new_frame)\n",
    "                frame = np.append(np.zeros((input_data_size - cold_start_index, math.ceil(1025 / 20))) + BOS,\n",
    "                                  frame)\n",
    "\n",
    "                # frame = np.append(frame.flatten(), total_frame[lab_file_index][:cold_start_index].flatten())\n",
    "                frame = np.append(frame.flatten(), control_input[lab_file_index][cold_start_index])\n",
    "\n",
    "                # X.append(frame.reshape((input_data_size+ control_input.shape[2], 1)))\n",
    "                X.append(frame.reshape((frame.shape[0], 1)))\n",
    "                # print(frame.reshape((frame.shape[0], 1)).shape)\n",
    "                temp = total_frame[lab_file_index][cold_start_index]\n",
    "\n",
    "                temp = [0.00000000001 if i == 0 else i for i in temp]\n",
    "                temp = np.log(temp)\n",
    "                temp = np.array([i for index, i in enumerate(temp) if index % 20 == 0])\n",
    "                temp = -np.round(temp)\n",
    "\n",
    "                # temp = np.fft.irfft(temp)\n",
    "                # temp = temp[:NUM_OUT_PUT]\n",
    "                # temp = np.fft.rfft(temp)\n",
    "                y.append(temp)\n",
    "                # print(temp.shape)\n",
    "                if len(X) == minibatch_size:\n",
    "                    yield np.array(X), np.array(y)\n",
    "                    X = []\n",
    "                    y = []\n",
    "\n",
    "            for i in range(0, total_frame_len - input_data_size - 1, frame_shift):\n",
    "\n",
    "                # 获取一帧 (input_data_size, 1025)\n",
    "                frame = total_frame[lab_file_index][i:i + input_data_size]\n",
    "\n",
    "                # print(frame.shape)\n",
    "                # print(frame.shape)\n",
    "\n",
    "                new_frame = []\n",
    "                for j in range(len(frame)):\n",
    "                    temp = frame[j]\n",
    "                    temp = [0.00000000001 if i == 0 else i for i in temp]\n",
    "                    temp = np.log(temp)\n",
    "                    temp = np.array([i for index, i in enumerate(temp) if index % 20 == 0])\n",
    "                    temp = -np.round(temp)\n",
    "                    # temp = np.fft.irfft(temp)\n",
    "                    # temp = temp[:NUM_OUT_PUT]\n",
    "                    # temp = np.fft.rfft(temp)\n",
    "                    new_frame.append(temp)\n",
    "                frame = np.array(new_frame)\n",
    "\n",
    "                if len(frame) < input_data_size:\n",
    "                    break\n",
    "\n",
    "                if i + input_data_size >= total_frame_len:\n",
    "                    break\n",
    "\n",
    "                # 获取该帧 frame 后面的那个sample\n",
    "                temp = total_frame[lab_file_index][i + input_data_size]\n",
    "                temp = [0.00000000001 if i == 0 else i for i in temp]\n",
    "                temp = np.log(temp)\n",
    "                temp = np.array([i for index, i in enumerate(temp) if index % 20 == 0])\n",
    "                temp = -np.round(temp)\n",
    "                # temp = [0.00000000001 if i==0 else i for i in temp]\n",
    "                # temp = np.log(temp) \n",
    "                # temp = np.fft.irfft(temp)\n",
    "                # temp = temp[:NUM_OUT_PUT]\n",
    "                # temp = np.fft.rfft(temp)\n",
    "                # (1,1025)? \n",
    "                # target_val = int(temp)\n",
    "\n",
    "                # frame.shape = (64,1)\n",
    "\n",
    "                # Control Input\n",
    "                frame = np.append(frame.flatten(), control_input[lab_file_index][i + input_data_size])\n",
    "                # X值即前一帧\n",
    "                X.append(frame.reshape((frame.shape[0], 1)))\n",
    "                # print(frame.reshape((frame.shape[0], 1)).shape)\n",
    "                y.append(temp)\n",
    "                # print(temp.shape)\n",
    "\n",
    "                # 获取一个mini-batch的数据返回\n",
    "                if len(X) == minibatch_size:\n",
    "                    yield np.array(X), np.array(y)\n",
    "                    X = []\n",
    "                    y = []\n",
    "\n",
    "\n",
    "def f0_generate(model, f0_window_size, input_size, control_input):\n",
    "    print('Generating audio...')\n",
    "    new_f0s = np.zeros(max_f0_size)\n",
    "    seed_audio = np.zeros(f0_window_size)\n",
    "    curr_sample_idx = 0\n",
    "    while curr_sample_idx < new_f0s.shape[0]:\n",
    "        seed = np.append(seed_audio, control_input[curr_sample_idx])\n",
    "\n",
    "        Y = np.array(model.predict(seed.reshape(1, input_size, 1)\n",
    "                                   ), dtype=float)\n",
    "\n",
    "        new_f0s[curr_sample_idx] = Y\n",
    "        seed_audio[:-1] = seed_audio[1:]\n",
    "\n",
    "        seed_audio[-1] = Y\n",
    "\n",
    "        # percent\n",
    "        # pc_str = str(round(100 * curr_sample_idx / float(new_audio.shape[0]), 2))\n",
    "        # sys.stdout.write('Percent complete: ' + pc_str + '\\r')\n",
    "        # sys.stdout.flush()\n",
    "        curr_sample_idx += 1\n",
    "        if curr_sample_idx % int(new_f0s.shape[0] / 10) == 0:\n",
    "            print(curr_sample_idx / int(new_f0s.shape[0] / 10))\n",
    "    print('Audio generated.')\n",
    "    return new_f0s.astype(np.int16)\n",
    "\n",
    "\n",
    "def sp_generate(model, sp_window_size, input_size, control_input):\n",
    "    print('Generating audio...')\n",
    "    MAX_SP_SIZE = 7000\n",
    "    new_sps = np.zeros((MAX_SP_SIZE, math.ceil(1025 / 20)))\n",
    "\n",
    "    seed_audio = np.zeros((sp_window_size, math.ceil(1025 / 20)) + BOS)\n",
    "    curr_sample_idx = 0\n",
    "    while curr_sample_idx < new_sps.shape[0]:\n",
    "        seed = np.append(seed_audio.flatten(), control_input[curr_sample_idx])\n",
    "        Y = np.array(model.predict(seed.reshape(1, input_size, 1)\n",
    "                                   ), dtype=float)\n",
    "\n",
    "        new_sps[curr_sample_idx] = Y\n",
    "        # seed_audio = seed_audio[:-1]\n",
    "        # seed_audio[:-1] = seed_audio[1:]\n",
    "        # seed_audio[-1] = Y\n",
    "        # seed_audio = Y\n",
    "\n",
    "        curr_sample_idx += 1\n",
    "        if curr_sample_idx % int(new_sps.shape[0] / 10) == 0:\n",
    "            print(curr_sample_idx / int(new_sps.shape[0] / 10))\n",
    "\n",
    "    print('Audio generated.')\n",
    "    return new_sps.astype(np.int16)\n"
   ]
  },
  {
   "cell_type": "code",
   "execution_count": 20,
   "metadata": {
    "collapsed": true
   },
   "outputs": [
    {
     "name": "stderr",
     "output_type": "stream",
     "text": [
      "/Users/Zizy/anaconda/envs/tensorflow/lib/python3.5/site-packages/ipykernel_launcher.py:34: UserWarning: Update your `Model` call to the Keras 2 API: `Model(inputs=Tensor(\"in..., outputs=Tensor(\"de...)`\n/Users/Zizy/anaconda/envs/tensorflow/lib/python3.5/site-packages/ipykernel_launcher.py:17: UserWarning: The semantics of the Keras 2 argument `steps_per_epoch` is not the same as the Keras 1 argument `samples_per_epoch`. `steps_per_epoch` is the number of batches to draw from the generator at each epoch. Basically steps_per_epoch = samples_per_epoch/batch_size. Similarly `nb_val_samples`->`validation_steps` and `val_samples`->`steps` arguments have changed. Update your method calls accordingly.\n/Users/Zizy/anaconda/envs/tensorflow/lib/python3.5/site-packages/ipykernel_launcher.py:17: UserWarning: Update your `fit_generator` call to the Keras 2 API: `fit_generator(<generator..., validation_steps=500, callbacks=[<keras.ca..., epochs=2000, steps_per_epoch=3000, validation_data=<generator..., verbose=1)`\n"
     ]
    },
    {
     "name": "stdout",
     "output_type": "stream",
     "text": [
      "__________________________________________________________________________________________________\nLayer (type)                    Output Shape         Param #     Connected to                     \n==================================================================================================\ninput_1 (InputLayer)            (None, 1143, 1)      0                                            \n__________________________________________________________________________________________________\nconv1d_1 (Conv1D)               (None, 1143, 64)     192         input_1[0][0]                    \n__________________________________________________________________________________________________\nconv1d_2 (Conv1D)               (None, 1143, 64)     192         input_1[0][0]                    \n__________________________________________________________________________________________________\nmultiply_1 (Multiply)           (None, 1143, 64)     0           conv1d_1[0][0]                   \n                                                                 conv1d_2[0][0]                   \n__________________________________________________________________________________________________\nconv1d_3 (Conv1D)               (None, 1143, 1)      65          multiply_1[0][0]                 \n__________________________________________________________________________________________________\nadd_1 (Add)                     (None, 1143, 1)      0           conv1d_3[0][0]                   \n                                                                 input_1[0][0]                    \n__________________________________________________________________________________________________\nconv1d_4 (Conv1D)               (None, 1143, 64)     192         add_1[0][0]                      \n__________________________________________________________________________________________________\nconv1d_5 (Conv1D)               (None, 1143, 64)     192         add_1[0][0]                      \n__________________________________________________________________________________________________\nmultiply_2 (Multiply)           (None, 1143, 64)     0           conv1d_4[0][0]                   \n                                                                 conv1d_5[0][0]                   \n__________________________________________________________________________________________________\nconv1d_6 (Conv1D)               (None, 1143, 1)      65          multiply_2[0][0]                 \n__________________________________________________________________________________________________\nadd_2 (Add)                     (None, 1143, 1)      0           conv1d_6[0][0]                   \n                                                                 add_1[0][0]                      \n__________________________________________________________________________________________________\nconv1d_7 (Conv1D)               (None, 1143, 64)     192         add_2[0][0]                      \n__________________________________________________________________________________________________\nconv1d_8 (Conv1D)               (None, 1143, 64)     192         add_2[0][0]                      \n__________________________________________________________________________________________________\nmultiply_3 (Multiply)           (None, 1143, 64)     0           conv1d_7[0][0]                   \n                                                                 conv1d_8[0][0]                   \n__________________________________________________________________________________________________\nconv1d_9 (Conv1D)               (None, 1143, 1)      65          multiply_3[0][0]                 \n__________________________________________________________________________________________________\nadd_3 (Add)                     (None, 1143, 1)      0           conv1d_9[0][0]                   \n                                                                 add_2[0][0]                      \n__________________________________________________________________________________________________\nconv1d_10 (Conv1D)              (None, 1143, 64)     192         add_3[0][0]                      \n__________________________________________________________________________________________________\nconv1d_11 (Conv1D)              (None, 1143, 64)     192         add_3[0][0]                      \n__________________________________________________________________________________________________\nmultiply_4 (Multiply)           (None, 1143, 64)     0           conv1d_10[0][0]                  \n                                                                 conv1d_11[0][0]                  \n__________________________________________________________________________________________________\nconv1d_12 (Conv1D)              (None, 1143, 1)      65          multiply_4[0][0]                 \n__________________________________________________________________________________________________\nadd_4 (Add)                     (None, 1143, 1)      0           conv1d_12[0][0]                  \n                                                                 add_3[0][0]                      \n__________________________________________________________________________________________________\nconv1d_13 (Conv1D)              (None, 1143, 64)     192         add_4[0][0]                      \n__________________________________________________________________________________________________\nconv1d_14 (Conv1D)              (None, 1143, 64)     192         add_4[0][0]                      \n__________________________________________________________________________________________________\nmultiply_5 (Multiply)           (None, 1143, 64)     0           conv1d_13[0][0]                  \n                                                                 conv1d_14[0][0]                  \n__________________________________________________________________________________________________\nconv1d_15 (Conv1D)              (None, 1143, 1)      65          multiply_5[0][0]                 \n__________________________________________________________________________________________________\nadd_5 (Add)                     (None, 1143, 1)      0           conv1d_15[0][0]                  \n                                                                 add_4[0][0]                      \n__________________________________________________________________________________________________\nconv1d_16 (Conv1D)              (None, 1143, 64)     192         add_5[0][0]                      \n__________________________________________________________________________________________________\nconv1d_17 (Conv1D)              (None, 1143, 64)     192         add_5[0][0]                      \n__________________________________________________________________________________________________\nmultiply_6 (Multiply)           (None, 1143, 64)     0           conv1d_16[0][0]                  \n                                                                 conv1d_17[0][0]                  \n__________________________________________________________________________________________________\nconv1d_18 (Conv1D)              (None, 1143, 1)      65          multiply_6[0][0]                 \n__________________________________________________________________________________________________\nadd_6 (Add)                     (None, 1143, 1)      0           conv1d_18[0][0]                  \n                                                                 add_5[0][0]                      \n__________________________________________________________________________________________________\nconv1d_19 (Conv1D)              (None, 1143, 64)     192         add_6[0][0]                      \n__________________________________________________________________________________________________\nconv1d_20 (Conv1D)              (None, 1143, 64)     192         add_6[0][0]                      \n__________________________________________________________________________________________________\nmultiply_7 (Multiply)           (None, 1143, 64)     0           conv1d_19[0][0]                  \n                                                                 conv1d_20[0][0]                  \n__________________________________________________________________________________________________\nconv1d_21 (Conv1D)              (None, 1143, 1)      65          multiply_7[0][0]                 \n__________________________________________________________________________________________________\nadd_7 (Add)                     (None, 1143, 1)      0           conv1d_21[0][0]                  \n                                                                 add_6[0][0]                      \n__________________________________________________________________________________________________\nconv1d_22 (Conv1D)              (None, 1143, 64)     192         add_7[0][0]                      \n__________________________________________________________________________________________________\nconv1d_23 (Conv1D)              (None, 1143, 64)     192         add_7[0][0]                      \n__________________________________________________________________________________________________\nmultiply_8 (Multiply)           (None, 1143, 64)     0           conv1d_22[0][0]                  \n                                                                 conv1d_23[0][0]                  \n__________________________________________________________________________________________________\nconv1d_24 (Conv1D)              (None, 1143, 1)      65          multiply_8[0][0]                 \n__________________________________________________________________________________________________\nadd_8 (Add)                     (None, 1143, 1)      0           conv1d_24[0][0]                  \n                                                                 add_7[0][0]                      \n__________________________________________________________________________________________________\nconv1d_25 (Conv1D)              (None, 1143, 64)     192         add_8[0][0]                      \n__________________________________________________________________________________________________\nconv1d_26 (Conv1D)              (None, 1143, 64)     192         add_8[0][0]                      \n__________________________________________________________________________________________________\nmultiply_9 (Multiply)           (None, 1143, 64)     0           conv1d_25[0][0]                  \n                                                                 conv1d_26[0][0]                  \n__________________________________________________________________________________________________\nconv1d_27 (Conv1D)              (None, 1143, 1)      65          multiply_9[0][0]                 \n__________________________________________________________________________________________________\nadd_9 (Add)                     (None, 1143, 1)      0           conv1d_27[0][0]                  \n                                                                 add_8[0][0]                      \n__________________________________________________________________________________________________\nconv1d_28 (Conv1D)              (None, 1143, 64)     192         add_9[0][0]                      \n__________________________________________________________________________________________________\nconv1d_29 (Conv1D)              (None, 1143, 64)     192         add_9[0][0]                      \n__________________________________________________________________________________________________\nmultiply_10 (Multiply)          (None, 1143, 64)     0           conv1d_28[0][0]                  \n                                                                 conv1d_29[0][0]                  \n__________________________________________________________________________________________________\nconv1d_30 (Conv1D)              (None, 1143, 1)      65          multiply_10[0][0]                \n__________________________________________________________________________________________________\nadd_10 (Add)                    (None, 1143, 1)      0           conv1d_30[0][0]                  \n                                                                 add_9[0][0]                      \n__________________________________________________________________________________________________\nconv1d_31 (Conv1D)              (None, 1143, 64)     192         add_10[0][0]                     \n__________________________________________________________________________________________________\nconv1d_32 (Conv1D)              (None, 1143, 64)     192         add_10[0][0]                     \n__________________________________________________________________________________________________\nmultiply_11 (Multiply)          (None, 1143, 64)     0           conv1d_31[0][0]                  \n                                                                 conv1d_32[0][0]                  \n__________________________________________________________________________________________________\nconv1d_33 (Conv1D)              (None, 1143, 1)      65          multiply_11[0][0]                \n__________________________________________________________________________________________________\nadd_11 (Add)                    (None, 1143, 1)      0           conv1d_33[0][0]                  \n                                                                 add_10[0][0]                     \n__________________________________________________________________________________________________\nconv1d_34 (Conv1D)              (None, 1143, 64)     192         add_11[0][0]                     \n__________________________________________________________________________________________________\nconv1d_35 (Conv1D)              (None, 1143, 64)     192         add_11[0][0]                     \n__________________________________________________________________________________________________\nmultiply_12 (Multiply)          (None, 1143, 64)     0           conv1d_34[0][0]                  \n                                                                 conv1d_35[0][0]                  \n__________________________________________________________________________________________________\nconv1d_36 (Conv1D)              (None, 1143, 1)      65          multiply_12[0][0]                \n__________________________________________________________________________________________________\nadd_12 (Add)                    (None, 1143, 1)      0           conv1d_36[0][0]                  \n                                                                 add_11[0][0]                     \n__________________________________________________________________________________________________\nconv1d_37 (Conv1D)              (None, 1143, 64)     192         add_12[0][0]                     \n__________________________________________________________________________________________________\nconv1d_38 (Conv1D)              (None, 1143, 64)     192         add_12[0][0]                     \n__________________________________________________________________________________________________\nmultiply_13 (Multiply)          (None, 1143, 64)     0           conv1d_37[0][0]                  \n                                                                 conv1d_38[0][0]                  \n__________________________________________________________________________________________________\nconv1d_39 (Conv1D)              (None, 1143, 1)      65          multiply_13[0][0]                \n__________________________________________________________________________________________________\nadd_13 (Add)                    (None, 1143, 1)      0           conv1d_39[0][0]                  \n                                                                 add_12[0][0]                     \n__________________________________________________________________________________________________\nconv1d_40 (Conv1D)              (None, 1143, 64)     192         add_13[0][0]                     \n__________________________________________________________________________________________________\nconv1d_41 (Conv1D)              (None, 1143, 64)     192         add_13[0][0]                     \n__________________________________________________________________________________________________\nmultiply_14 (Multiply)          (None, 1143, 64)     0           conv1d_40[0][0]                  \n                                                                 conv1d_41[0][0]                  \n__________________________________________________________________________________________________\nconv1d_42 (Conv1D)              (None, 1143, 1)      65          multiply_14[0][0]                \n__________________________________________________________________________________________________\nadd_14 (Add)                    (None, 1143, 1)      0           conv1d_42[0][0]                  \n                                                                 add_13[0][0]                     \n__________________________________________________________________________________________________\nconv1d_43 (Conv1D)              (None, 1143, 64)     192         add_14[0][0]                     \n__________________________________________________________________________________________________\nconv1d_44 (Conv1D)              (None, 1143, 64)     192         add_14[0][0]                     \n__________________________________________________________________________________________________\nmultiply_15 (Multiply)          (None, 1143, 64)     0           conv1d_43[0][0]                  \n                                                                 conv1d_44[0][0]                  \n__________________________________________________________________________________________________\nconv1d_45 (Conv1D)              (None, 1143, 1)      65          multiply_15[0][0]                \n__________________________________________________________________________________________________\nadd_15 (Add)                    (None, 1143, 1)      0           conv1d_45[0][0]                  \n                                                                 add_14[0][0]                     \n__________________________________________________________________________________________________\nconv1d_46 (Conv1D)              (None, 1143, 64)     192         add_15[0][0]                     \n__________________________________________________________________________________________________\nconv1d_47 (Conv1D)              (None, 1143, 64)     192         add_15[0][0]                     \n__________________________________________________________________________________________________\nmultiply_16 (Multiply)          (None, 1143, 64)     0           conv1d_46[0][0]                  \n                                                                 conv1d_47[0][0]                  \n__________________________________________________________________________________________________\nconv1d_48 (Conv1D)              (None, 1143, 1)      65          multiply_16[0][0]                \n__________________________________________________________________________________________________\nadd_16 (Add)                    (None, 1143, 1)      0           conv1d_48[0][0]                  \n                                                                 add_15[0][0]                     \n__________________________________________________________________________________________________\nconv1d_49 (Conv1D)              (None, 1143, 64)     192         add_16[0][0]                     \n__________________________________________________________________________________________________\nconv1d_50 (Conv1D)              (None, 1143, 64)     192         add_16[0][0]                     \n__________________________________________________________________________________________________\nmultiply_17 (Multiply)          (None, 1143, 64)     0           conv1d_49[0][0]                  \n                                                                 conv1d_50[0][0]                  \n__________________________________________________________________________________________________\nconv1d_51 (Conv1D)              (None, 1143, 1)      65          multiply_17[0][0]                \n__________________________________________________________________________________________________\nadd_17 (Add)                    (None, 1143, 1)      0           conv1d_51[0][0]                  \n                                                                 add_16[0][0]                     \n__________________________________________________________________________________________________\nconv1d_52 (Conv1D)              (None, 1143, 64)     192         add_17[0][0]                     \n__________________________________________________________________________________________________\nconv1d_53 (Conv1D)              (None, 1143, 64)     192         add_17[0][0]                     \n__________________________________________________________________________________________________\nmultiply_18 (Multiply)          (None, 1143, 64)     0           conv1d_52[0][0]                  \n                                                                 conv1d_53[0][0]                  \n__________________________________________________________________________________________________\nconv1d_54 (Conv1D)              (None, 1143, 1)      65          multiply_18[0][0]                \n__________________________________________________________________________________________________\nadd_18 (Add)                    (None, 1143, 1)      0           conv1d_54[0][0]                  \n                                                                 add_17[0][0]                     \n__________________________________________________________________________________________________\nconv1d_55 (Conv1D)              (None, 1143, 64)     192         add_18[0][0]                     \n__________________________________________________________________________________________________\nconv1d_56 (Conv1D)              (None, 1143, 64)     192         add_18[0][0]                     \n__________________________________________________________________________________________________\nmultiply_19 (Multiply)          (None, 1143, 64)     0           conv1d_55[0][0]                  \n                                                                 conv1d_56[0][0]                  \n__________________________________________________________________________________________________\nconv1d_57 (Conv1D)              (None, 1143, 1)      65          multiply_19[0][0]                \n__________________________________________________________________________________________________\nadd_19 (Add)                    (None, 1143, 1)      0           conv1d_57[0][0]                  \n                                                                 add_18[0][0]                     \n__________________________________________________________________________________________________\nconv1d_58 (Conv1D)              (None, 1143, 64)     192         add_19[0][0]                     \n__________________________________________________________________________________________________\nconv1d_59 (Conv1D)              (None, 1143, 64)     192         add_19[0][0]                     \n__________________________________________________________________________________________________\nmultiply_20 (Multiply)          (None, 1143, 64)     0           conv1d_58[0][0]                  \n                                                                 conv1d_59[0][0]                  \n__________________________________________________________________________________________________\nconv1d_60 (Conv1D)              (None, 1143, 1)      65          multiply_20[0][0]                \n__________________________________________________________________________________________________\nadd_20 (Add)                    (None, 1143, 1)      0           conv1d_60[0][0]                  \n                                                                 add_19[0][0]                     \n__________________________________________________________________________________________________\nconv1d_61 (Conv1D)              (None, 1143, 64)     192         add_20[0][0]                     \n__________________________________________________________________________________________________\nconv1d_62 (Conv1D)              (None, 1143, 64)     192         add_20[0][0]                     \n__________________________________________________________________________________________________\nmultiply_21 (Multiply)          (None, 1143, 64)     0           conv1d_61[0][0]                  \n                                                                 conv1d_62[0][0]                  \n__________________________________________________________________________________________________\nconv1d_63 (Conv1D)              (None, 1143, 1)      65          multiply_21[0][0]                \n__________________________________________________________________________________________________\nadd_22 (Add)                    (None, 1143, 1)      0           conv1d_3[0][0]                   \n                                                                 conv1d_6[0][0]                   \n                                                                 conv1d_9[0][0]                   \n                                                                 conv1d_12[0][0]                  \n                                                                 conv1d_15[0][0]                  \n                                                                 conv1d_18[0][0]                  \n                                                                 conv1d_21[0][0]                  \n                                                                 conv1d_24[0][0]                  \n                                                                 conv1d_27[0][0]                  \n                                                                 conv1d_30[0][0]                  \n                                                                 conv1d_33[0][0]                  \n                                                                 conv1d_36[0][0]                  \n                                                                 conv1d_39[0][0]                  \n                                                                 conv1d_42[0][0]                  \n                                                                 conv1d_45[0][0]                  \n                                                                 conv1d_48[0][0]                  \n                                                                 conv1d_51[0][0]                  \n                                                                 conv1d_54[0][0]                  \n                                                                 conv1d_57[0][0]                  \n                                                                 conv1d_60[0][0]                  \n                                                                 conv1d_63[0][0]                  \n__________________________________________________________________________________________________\nactivation_1 (Activation)       (None, 1143, 1)      0           add_22[0][0]                     \n__________________________________________________________________________________________________\nconv1d_64 (Conv1D)              (None, 1143, 1)      2           activation_1[0][0]               \n__________________________________________________________________________________________________\nconv1d_65 (Conv1D)              (None, 1143, 1)      2           conv1d_64[0][0]                  \n__________________________________________________________________________________________________\nflatten_1 (Flatten)             (None, 1143)         0           conv1d_65[0][0]                  \n__________________________________________________________________________________________________\ndense_1 (Dense)                 (None, 103)          117832      flatten_1[0][0]                  \n==================================================================================================\nTotal params: 127,265\nTrainable params: 127,265\nNon-trainable params: 0\n__________________________________________________________________________________________________\n"
     ]
    },
    {
     "name": "stdout",
     "output_type": "stream",
     "text": [
      "Epoch 1/2000\n"
     ]
    },
    {
     "ename": "KeyboardInterrupt",
     "evalue": "",
     "traceback": [
      "\u001b[0;31m---------------------------------------------------------------------------\u001b[0m",
      "\u001b[0;31mKeyboardInterrupt\u001b[0m                         Traceback (most recent call last)",
      "\u001b[0;32m<ipython-input-20-39d492729bd0>\u001b[0m in \u001b[0;36m<module>\u001b[0;34m()\u001b[0m\n\u001b[1;32m     15\u001b[0m                     \u001b[0mvalidation_data\u001b[0m\u001b[0;34m=\u001b[0m\u001b[0mvalidation_data_gen\u001b[0m\u001b[0;34m,\u001b[0m \u001b[0mnb_val_samples\u001b[0m\u001b[0;34m=\u001b[0m\u001b[0;36m500\u001b[0m\u001b[0;34m,\u001b[0m \u001b[0mverbose\u001b[0m\u001b[0;34m=\u001b[0m\u001b[0;36m1\u001b[0m\u001b[0;34m,\u001b[0m\u001b[0;34m\u001b[0m\u001b[0m\n\u001b[1;32m     16\u001b[0m                     callbacks=[TensorBoard(log_dir='./tmp/log', histogram_freq=0, write_graph=True,\n\u001b[0;32m---> 17\u001b[0;31m                                           write_images=True)])\n\u001b[0m",
      "\u001b[0;32m~/anaconda/envs/tensorflow/lib/python3.5/site-packages/keras/legacy/interfaces.py\u001b[0m in \u001b[0;36mwrapper\u001b[0;34m(*args, **kwargs)\u001b[0m\n\u001b[1;32m     89\u001b[0m                 warnings.warn('Update your `' + object_name +\n\u001b[1;32m     90\u001b[0m                               '` call to the Keras 2 API: ' + signature, stacklevel=2)\n\u001b[0;32m---> 91\u001b[0;31m             \u001b[0;32mreturn\u001b[0m \u001b[0mfunc\u001b[0m\u001b[0;34m(\u001b[0m\u001b[0;34m*\u001b[0m\u001b[0margs\u001b[0m\u001b[0;34m,\u001b[0m \u001b[0;34m**\u001b[0m\u001b[0mkwargs\u001b[0m\u001b[0;34m)\u001b[0m\u001b[0;34m\u001b[0m\u001b[0m\n\u001b[0m\u001b[1;32m     92\u001b[0m         \u001b[0mwrapper\u001b[0m\u001b[0;34m.\u001b[0m\u001b[0m_original_function\u001b[0m \u001b[0;34m=\u001b[0m \u001b[0mfunc\u001b[0m\u001b[0;34m\u001b[0m\u001b[0m\n\u001b[1;32m     93\u001b[0m         \u001b[0;32mreturn\u001b[0m \u001b[0mwrapper\u001b[0m\u001b[0;34m\u001b[0m\u001b[0m\n",
      "\u001b[0;32m~/anaconda/envs/tensorflow/lib/python3.5/site-packages/keras/engine/training.py\u001b[0m in \u001b[0;36mfit_generator\u001b[0;34m(self, generator, steps_per_epoch, epochs, verbose, callbacks, validation_data, validation_steps, class_weight, max_queue_size, workers, use_multiprocessing, shuffle, initial_epoch)\u001b[0m\n\u001b[1;32m   1424\u001b[0m             \u001b[0muse_multiprocessing\u001b[0m\u001b[0;34m=\u001b[0m\u001b[0muse_multiprocessing\u001b[0m\u001b[0;34m,\u001b[0m\u001b[0;34m\u001b[0m\u001b[0m\n\u001b[1;32m   1425\u001b[0m             \u001b[0mshuffle\u001b[0m\u001b[0;34m=\u001b[0m\u001b[0mshuffle\u001b[0m\u001b[0;34m,\u001b[0m\u001b[0;34m\u001b[0m\u001b[0m\n\u001b[0;32m-> 1426\u001b[0;31m             initial_epoch=initial_epoch)\n\u001b[0m\u001b[1;32m   1427\u001b[0m \u001b[0;34m\u001b[0m\u001b[0m\n\u001b[1;32m   1428\u001b[0m     \u001b[0;34m@\u001b[0m\u001b[0minterfaces\u001b[0m\u001b[0;34m.\u001b[0m\u001b[0mlegacy_generator_methods_support\u001b[0m\u001b[0;34m\u001b[0m\u001b[0m\n",
      "\u001b[0;32m~/anaconda/envs/tensorflow/lib/python3.5/site-packages/keras/engine/training_generator.py\u001b[0m in \u001b[0;36mfit_generator\u001b[0;34m(model, generator, steps_per_epoch, epochs, verbose, callbacks, validation_data, validation_steps, class_weight, max_queue_size, workers, use_multiprocessing, shuffle, initial_epoch)\u001b[0m\n\u001b[1;32m    189\u001b[0m                 outs = model.train_on_batch(x, y,\n\u001b[1;32m    190\u001b[0m                                             \u001b[0msample_weight\u001b[0m\u001b[0;34m=\u001b[0m\u001b[0msample_weight\u001b[0m\u001b[0;34m,\u001b[0m\u001b[0;34m\u001b[0m\u001b[0m\n\u001b[0;32m--> 191\u001b[0;31m                                             class_weight=class_weight)\n\u001b[0m\u001b[1;32m    192\u001b[0m \u001b[0;34m\u001b[0m\u001b[0m\n\u001b[1;32m    193\u001b[0m                 \u001b[0;32mif\u001b[0m \u001b[0;32mnot\u001b[0m \u001b[0misinstance\u001b[0m\u001b[0;34m(\u001b[0m\u001b[0mouts\u001b[0m\u001b[0;34m,\u001b[0m \u001b[0mlist\u001b[0m\u001b[0;34m)\u001b[0m\u001b[0;34m:\u001b[0m\u001b[0;34m\u001b[0m\u001b[0m\n",
      "\u001b[0;32m~/anaconda/envs/tensorflow/lib/python3.5/site-packages/keras/engine/training.py\u001b[0m in \u001b[0;36mtrain_on_batch\u001b[0;34m(self, x, y, sample_weight, class_weight)\u001b[0m\n\u001b[1;32m   1218\u001b[0m             \u001b[0mins\u001b[0m \u001b[0;34m=\u001b[0m \u001b[0mx\u001b[0m \u001b[0;34m+\u001b[0m \u001b[0my\u001b[0m \u001b[0;34m+\u001b[0m \u001b[0msample_weights\u001b[0m\u001b[0;34m\u001b[0m\u001b[0m\n\u001b[1;32m   1219\u001b[0m         \u001b[0mself\u001b[0m\u001b[0;34m.\u001b[0m\u001b[0m_make_train_function\u001b[0m\u001b[0;34m(\u001b[0m\u001b[0;34m)\u001b[0m\u001b[0;34m\u001b[0m\u001b[0m\n\u001b[0;32m-> 1220\u001b[0;31m         \u001b[0moutputs\u001b[0m \u001b[0;34m=\u001b[0m \u001b[0mself\u001b[0m\u001b[0;34m.\u001b[0m\u001b[0mtrain_function\u001b[0m\u001b[0;34m(\u001b[0m\u001b[0mins\u001b[0m\u001b[0;34m)\u001b[0m\u001b[0;34m\u001b[0m\u001b[0m\n\u001b[0m\u001b[1;32m   1221\u001b[0m         \u001b[0;32mif\u001b[0m \u001b[0mlen\u001b[0m\u001b[0;34m(\u001b[0m\u001b[0moutputs\u001b[0m\u001b[0;34m)\u001b[0m \u001b[0;34m==\u001b[0m \u001b[0;36m1\u001b[0m\u001b[0;34m:\u001b[0m\u001b[0;34m\u001b[0m\u001b[0m\n\u001b[1;32m   1222\u001b[0m             \u001b[0;32mreturn\u001b[0m \u001b[0moutputs\u001b[0m\u001b[0;34m[\u001b[0m\u001b[0;36m0\u001b[0m\u001b[0;34m]\u001b[0m\u001b[0;34m\u001b[0m\u001b[0m\n",
      "\u001b[0;32m~/anaconda/envs/tensorflow/lib/python3.5/site-packages/keras/backend/tensorflow_backend.py\u001b[0m in \u001b[0;36m__call__\u001b[0;34m(self, inputs)\u001b[0m\n\u001b[1;32m   2665\u001b[0m                     \u001b[0;34m'In order to feed symbolic tensors to a Keras model '\u001b[0m\u001b[0;34m\u001b[0m\u001b[0m\n\u001b[1;32m   2666\u001b[0m                     'in TensorFlow, you need tensorflow 1.8 or higher.')\n\u001b[0;32m-> 2667\u001b[0;31m             \u001b[0;32mreturn\u001b[0m \u001b[0mself\u001b[0m\u001b[0;34m.\u001b[0m\u001b[0m_legacy_call\u001b[0m\u001b[0;34m(\u001b[0m\u001b[0minputs\u001b[0m\u001b[0;34m)\u001b[0m\u001b[0;34m\u001b[0m\u001b[0m\n\u001b[0m\u001b[1;32m   2668\u001b[0m \u001b[0;34m\u001b[0m\u001b[0m\n\u001b[1;32m   2669\u001b[0m \u001b[0;34m\u001b[0m\u001b[0m\n",
      "\u001b[0;32m~/anaconda/envs/tensorflow/lib/python3.5/site-packages/keras/backend/tensorflow_backend.py\u001b[0m in \u001b[0;36m_legacy_call\u001b[0;34m(self, inputs)\u001b[0m\n\u001b[1;32m   2647\u001b[0m         \u001b[0msession\u001b[0m \u001b[0;34m=\u001b[0m \u001b[0mget_session\u001b[0m\u001b[0;34m(\u001b[0m\u001b[0;34m)\u001b[0m\u001b[0;34m\u001b[0m\u001b[0m\n\u001b[1;32m   2648\u001b[0m         updated = session.run(fetches=fetches, feed_dict=feed_dict,\n\u001b[0;32m-> 2649\u001b[0;31m                               **self.session_kwargs)\n\u001b[0m\u001b[1;32m   2650\u001b[0m         \u001b[0;32mreturn\u001b[0m \u001b[0mupdated\u001b[0m\u001b[0;34m[\u001b[0m\u001b[0;34m:\u001b[0m\u001b[0mlen\u001b[0m\u001b[0;34m(\u001b[0m\u001b[0mself\u001b[0m\u001b[0;34m.\u001b[0m\u001b[0moutputs\u001b[0m\u001b[0;34m)\u001b[0m\u001b[0;34m]\u001b[0m\u001b[0;34m\u001b[0m\u001b[0m\n\u001b[1;32m   2651\u001b[0m \u001b[0;34m\u001b[0m\u001b[0m\n",
      "\u001b[0;32m~/anaconda/envs/tensorflow/lib/python3.5/site-packages/tensorflow/python/client/session.py\u001b[0m in \u001b[0;36mrun\u001b[0;34m(self, fetches, feed_dict, options, run_metadata)\u001b[0m\n\u001b[1;32m    893\u001b[0m     \u001b[0;32mtry\u001b[0m\u001b[0;34m:\u001b[0m\u001b[0;34m\u001b[0m\u001b[0m\n\u001b[1;32m    894\u001b[0m       result = self._run(None, fetches, feed_dict, options_ptr,\n\u001b[0;32m--> 895\u001b[0;31m                          run_metadata_ptr)\n\u001b[0m\u001b[1;32m    896\u001b[0m       \u001b[0;32mif\u001b[0m \u001b[0mrun_metadata\u001b[0m\u001b[0;34m:\u001b[0m\u001b[0;34m\u001b[0m\u001b[0m\n\u001b[1;32m    897\u001b[0m         \u001b[0mproto_data\u001b[0m \u001b[0;34m=\u001b[0m \u001b[0mtf_session\u001b[0m\u001b[0;34m.\u001b[0m\u001b[0mTF_GetBuffer\u001b[0m\u001b[0;34m(\u001b[0m\u001b[0mrun_metadata_ptr\u001b[0m\u001b[0;34m)\u001b[0m\u001b[0;34m\u001b[0m\u001b[0m\n",
      "\u001b[0;32m~/anaconda/envs/tensorflow/lib/python3.5/site-packages/tensorflow/python/client/session.py\u001b[0m in \u001b[0;36m_run\u001b[0;34m(self, handle, fetches, feed_dict, options, run_metadata)\u001b[0m\n\u001b[1;32m   1126\u001b[0m     \u001b[0;32mif\u001b[0m \u001b[0mfinal_fetches\u001b[0m \u001b[0;32mor\u001b[0m \u001b[0mfinal_targets\u001b[0m \u001b[0;32mor\u001b[0m \u001b[0;34m(\u001b[0m\u001b[0mhandle\u001b[0m \u001b[0;32mand\u001b[0m \u001b[0mfeed_dict_tensor\u001b[0m\u001b[0;34m)\u001b[0m\u001b[0;34m:\u001b[0m\u001b[0;34m\u001b[0m\u001b[0m\n\u001b[1;32m   1127\u001b[0m       results = self._do_run(handle, final_targets, final_fetches,\n\u001b[0;32m-> 1128\u001b[0;31m                              feed_dict_tensor, options, run_metadata)\n\u001b[0m\u001b[1;32m   1129\u001b[0m     \u001b[0;32melse\u001b[0m\u001b[0;34m:\u001b[0m\u001b[0;34m\u001b[0m\u001b[0m\n\u001b[1;32m   1130\u001b[0m       \u001b[0mresults\u001b[0m \u001b[0;34m=\u001b[0m \u001b[0;34m[\u001b[0m\u001b[0;34m]\u001b[0m\u001b[0;34m\u001b[0m\u001b[0m\n",
      "\u001b[0;32m~/anaconda/envs/tensorflow/lib/python3.5/site-packages/tensorflow/python/client/session.py\u001b[0m in \u001b[0;36m_do_run\u001b[0;34m(self, handle, target_list, fetch_list, feed_dict, options, run_metadata)\u001b[0m\n\u001b[1;32m   1342\u001b[0m     \u001b[0;32mif\u001b[0m \u001b[0mhandle\u001b[0m \u001b[0;32mis\u001b[0m \u001b[0;32mNone\u001b[0m\u001b[0;34m:\u001b[0m\u001b[0;34m\u001b[0m\u001b[0m\n\u001b[1;32m   1343\u001b[0m       return self._do_call(_run_fn, self._session, feeds, fetches, targets,\n\u001b[0;32m-> 1344\u001b[0;31m                            options, run_metadata)\n\u001b[0m\u001b[1;32m   1345\u001b[0m     \u001b[0;32melse\u001b[0m\u001b[0;34m:\u001b[0m\u001b[0;34m\u001b[0m\u001b[0m\n\u001b[1;32m   1346\u001b[0m       \u001b[0;32mreturn\u001b[0m \u001b[0mself\u001b[0m\u001b[0;34m.\u001b[0m\u001b[0m_do_call\u001b[0m\u001b[0;34m(\u001b[0m\u001b[0m_prun_fn\u001b[0m\u001b[0;34m,\u001b[0m \u001b[0mself\u001b[0m\u001b[0;34m.\u001b[0m\u001b[0m_session\u001b[0m\u001b[0;34m,\u001b[0m \u001b[0mhandle\u001b[0m\u001b[0;34m,\u001b[0m \u001b[0mfeeds\u001b[0m\u001b[0;34m,\u001b[0m \u001b[0mfetches\u001b[0m\u001b[0;34m)\u001b[0m\u001b[0;34m\u001b[0m\u001b[0m\n",
      "\u001b[0;32m~/anaconda/envs/tensorflow/lib/python3.5/site-packages/tensorflow/python/client/session.py\u001b[0m in \u001b[0;36m_do_call\u001b[0;34m(self, fn, *args)\u001b[0m\n\u001b[1;32m   1348\u001b[0m   \u001b[0;32mdef\u001b[0m \u001b[0m_do_call\u001b[0m\u001b[0;34m(\u001b[0m\u001b[0mself\u001b[0m\u001b[0;34m,\u001b[0m \u001b[0mfn\u001b[0m\u001b[0;34m,\u001b[0m \u001b[0;34m*\u001b[0m\u001b[0margs\u001b[0m\u001b[0;34m)\u001b[0m\u001b[0;34m:\u001b[0m\u001b[0;34m\u001b[0m\u001b[0m\n\u001b[1;32m   1349\u001b[0m     \u001b[0;32mtry\u001b[0m\u001b[0;34m:\u001b[0m\u001b[0;34m\u001b[0m\u001b[0m\n\u001b[0;32m-> 1350\u001b[0;31m       \u001b[0;32mreturn\u001b[0m \u001b[0mfn\u001b[0m\u001b[0;34m(\u001b[0m\u001b[0;34m*\u001b[0m\u001b[0margs\u001b[0m\u001b[0;34m)\u001b[0m\u001b[0;34m\u001b[0m\u001b[0m\n\u001b[0m\u001b[1;32m   1351\u001b[0m     \u001b[0;32mexcept\u001b[0m \u001b[0merrors\u001b[0m\u001b[0;34m.\u001b[0m\u001b[0mOpError\u001b[0m \u001b[0;32mas\u001b[0m \u001b[0me\u001b[0m\u001b[0;34m:\u001b[0m\u001b[0;34m\u001b[0m\u001b[0m\n\u001b[1;32m   1352\u001b[0m       \u001b[0mmessage\u001b[0m \u001b[0;34m=\u001b[0m \u001b[0mcompat\u001b[0m\u001b[0;34m.\u001b[0m\u001b[0mas_text\u001b[0m\u001b[0;34m(\u001b[0m\u001b[0me\u001b[0m\u001b[0;34m.\u001b[0m\u001b[0mmessage\u001b[0m\u001b[0;34m)\u001b[0m\u001b[0;34m\u001b[0m\u001b[0m\n",
      "\u001b[0;32m~/anaconda/envs/tensorflow/lib/python3.5/site-packages/tensorflow/python/client/session.py\u001b[0m in \u001b[0;36m_run_fn\u001b[0;34m(session, feed_dict, fetch_list, target_list, options, run_metadata)\u001b[0m\n\u001b[1;32m   1327\u001b[0m           return tf_session.TF_Run(session, options,\n\u001b[1;32m   1328\u001b[0m                                    \u001b[0mfeed_dict\u001b[0m\u001b[0;34m,\u001b[0m \u001b[0mfetch_list\u001b[0m\u001b[0;34m,\u001b[0m \u001b[0mtarget_list\u001b[0m\u001b[0;34m,\u001b[0m\u001b[0;34m\u001b[0m\u001b[0m\n\u001b[0;32m-> 1329\u001b[0;31m                                    status, run_metadata)\n\u001b[0m\u001b[1;32m   1330\u001b[0m \u001b[0;34m\u001b[0m\u001b[0m\n\u001b[1;32m   1331\u001b[0m     \u001b[0;32mdef\u001b[0m \u001b[0m_prun_fn\u001b[0m\u001b[0;34m(\u001b[0m\u001b[0msession\u001b[0m\u001b[0;34m,\u001b[0m \u001b[0mhandle\u001b[0m\u001b[0;34m,\u001b[0m \u001b[0mfeed_dict\u001b[0m\u001b[0;34m,\u001b[0m \u001b[0mfetch_list\u001b[0m\u001b[0;34m)\u001b[0m\u001b[0;34m:\u001b[0m\u001b[0;34m\u001b[0m\u001b[0m\n",
      "\u001b[0;31mKeyboardInterrupt\u001b[0m: "
     ],
     "output_type": "error"
    }
   ],
   "source": [
    "n_epochs = 2000\n",
    "input_data_size = 64\n",
    "frame_shift = 1\n",
    "\n",
    "# model = get_basic_generative_model(input_data_size+labs.shape[2])\n",
    "# (65713-control_input_size)/1025 = input_data_size: 64\n",
    "# model = get_basic_generative_model(1143)\n",
    "model = load_model(local_path+\"sp_model_2.h5\")\n",
    "training_data_gen = frame_generator(sps[0:29], input_data_size, frame_shift, \n",
    "                                    labs[0:29])\n",
    "validation_data_gen = frame_generator(sps[29:32], input_data_size, frame_shift, \n",
    "                                      labs[29:32])\n",
    "\n",
    "model.fit_generator(training_data_gen, samples_per_epoch=3000, nb_epoch=n_epochs,\n",
    "                    validation_data=validation_data_gen, nb_val_samples=500, verbose=1,\n",
    "                    callbacks=[TensorBoard(log_dir='./tmp/log', histogram_freq=0, write_graph=True,\n",
    "                                          write_images=True)])"
   ]
  },
  {
   "cell_type": "code",
   "execution_count": 86,
   "metadata": {
    "collapsed": true
   },
   "outputs": [
    {
     "name": "stderr",
     "output_type": "stream",
     "text": [
      "/Users/Zizy/anaconda/envs/tensorflow/lib/python3.5/site-packages/ipykernel_launcher.py:35: UserWarning: Update your `Model` call to the Keras 2 API: `Model(outputs=Tensor(\"de..., inputs=Tensor(\"in...)`\n/Users/Zizy/anaconda/envs/tensorflow/lib/python3.5/site-packages/ipykernel_launcher.py:22: UserWarning: The semantics of the Keras 2 argument `steps_per_epoch` is not the same as the Keras 1 argument `samples_per_epoch`. `steps_per_epoch` is the number of batches to draw from the generator at each epoch. Basically steps_per_epoch = samples_per_epoch/batch_size. Similarly `nb_val_samples`->`validation_steps` and `val_samples`->`steps` arguments have changed. Update your method calls accordingly.\n/Users/Zizy/anaconda/envs/tensorflow/lib/python3.5/site-packages/ipykernel_launcher.py:22: UserWarning: Update your `fit_generator` call to the Keras 2 API: `fit_generator(<generator..., epochs=2000, callbacks=[<keras.ca..., validation_steps=500, steps_per_epoch=5000, verbose=1)`\n"
     ]
    },
    {
     "name": "stdout",
     "output_type": "stream",
     "text": [
      "__________________________________________________________________________________________________\nLayer (type)                    Output Shape         Param #     Connected to                     \n==================================================================================================\ninput_12 (InputLayer)           (None, 113, 1)       0                                            \n__________________________________________________________________________________________________\nconv1d_716 (Conv1D)             (None, 113, 64)      192         input_12[0][0]                   \n__________________________________________________________________________________________________\nconv1d_717 (Conv1D)             (None, 113, 64)      192         input_12[0][0]                   \n__________________________________________________________________________________________________\nmultiply_232 (Multiply)         (None, 113, 64)      0           conv1d_716[0][0]                 \n                                                                 conv1d_717[0][0]                 \n__________________________________________________________________________________________________\nconv1d_718 (Conv1D)             (None, 113, 1)       65          multiply_232[0][0]               \n__________________________________________________________________________________________________\nadd_243 (Add)                   (None, 113, 1)       0           conv1d_718[0][0]                 \n                                                                 input_12[0][0]                   \n__________________________________________________________________________________________________\nconv1d_719 (Conv1D)             (None, 113, 64)      192         add_243[0][0]                    \n__________________________________________________________________________________________________\nconv1d_720 (Conv1D)             (None, 113, 64)      192         add_243[0][0]                    \n__________________________________________________________________________________________________\nmultiply_233 (Multiply)         (None, 113, 64)      0           conv1d_719[0][0]                 \n                                                                 conv1d_720[0][0]                 \n__________________________________________________________________________________________________\nconv1d_721 (Conv1D)             (None, 113, 1)       65          multiply_233[0][0]               \n__________________________________________________________________________________________________\nadd_244 (Add)                   (None, 113, 1)       0           conv1d_721[0][0]                 \n                                                                 add_243[0][0]                    \n__________________________________________________________________________________________________\nconv1d_722 (Conv1D)             (None, 113, 64)      192         add_244[0][0]                    \n__________________________________________________________________________________________________\nconv1d_723 (Conv1D)             (None, 113, 64)      192         add_244[0][0]                    \n__________________________________________________________________________________________________\nmultiply_234 (Multiply)         (None, 113, 64)      0           conv1d_722[0][0]                 \n                                                                 conv1d_723[0][0]                 \n__________________________________________________________________________________________________\nconv1d_724 (Conv1D)             (None, 113, 1)       65          multiply_234[0][0]               \n__________________________________________________________________________________________________\nadd_245 (Add)                   (None, 113, 1)       0           conv1d_724[0][0]                 \n                                                                 add_244[0][0]                    \n__________________________________________________________________________________________________\nconv1d_725 (Conv1D)             (None, 113, 64)      192         add_245[0][0]                    \n__________________________________________________________________________________________________\nconv1d_726 (Conv1D)             (None, 113, 64)      192         add_245[0][0]                    \n__________________________________________________________________________________________________\nmultiply_235 (Multiply)         (None, 113, 64)      0           conv1d_725[0][0]                 \n                                                                 conv1d_726[0][0]                 \n__________________________________________________________________________________________________\nconv1d_727 (Conv1D)             (None, 113, 1)       65          multiply_235[0][0]               \n__________________________________________________________________________________________________\nadd_246 (Add)                   (None, 113, 1)       0           conv1d_727[0][0]                 \n                                                                 add_245[0][0]                    \n__________________________________________________________________________________________________\nconv1d_728 (Conv1D)             (None, 113, 64)      192         add_246[0][0]                    \n__________________________________________________________________________________________________\nconv1d_729 (Conv1D)             (None, 113, 64)      192         add_246[0][0]                    \n__________________________________________________________________________________________________\nmultiply_236 (Multiply)         (None, 113, 64)      0           conv1d_728[0][0]                 \n                                                                 conv1d_729[0][0]                 \n__________________________________________________________________________________________________\nconv1d_730 (Conv1D)             (None, 113, 1)       65          multiply_236[0][0]               \n__________________________________________________________________________________________________\nadd_247 (Add)                   (None, 113, 1)       0           conv1d_730[0][0]                 \n                                                                 add_246[0][0]                    \n__________________________________________________________________________________________________\nconv1d_731 (Conv1D)             (None, 113, 64)      192         add_247[0][0]                    \n__________________________________________________________________________________________________\nconv1d_732 (Conv1D)             (None, 113, 64)      192         add_247[0][0]                    \n__________________________________________________________________________________________________\nmultiply_237 (Multiply)         (None, 113, 64)      0           conv1d_731[0][0]                 \n                                                                 conv1d_732[0][0]                 \n__________________________________________________________________________________________________\nconv1d_733 (Conv1D)             (None, 113, 1)       65          multiply_237[0][0]               \n__________________________________________________________________________________________________\nadd_248 (Add)                   (None, 113, 1)       0           conv1d_733[0][0]                 \n                                                                 add_247[0][0]                    \n__________________________________________________________________________________________________\nconv1d_734 (Conv1D)             (None, 113, 64)      192         add_248[0][0]                    \n__________________________________________________________________________________________________\nconv1d_735 (Conv1D)             (None, 113, 64)      192         add_248[0][0]                    \n__________________________________________________________________________________________________\nmultiply_238 (Multiply)         (None, 113, 64)      0           conv1d_734[0][0]                 \n                                                                 conv1d_735[0][0]                 \n__________________________________________________________________________________________________\nconv1d_736 (Conv1D)             (None, 113, 1)       65          multiply_238[0][0]               \n__________________________________________________________________________________________________\nadd_249 (Add)                   (None, 113, 1)       0           conv1d_736[0][0]                 \n                                                                 add_248[0][0]                    \n__________________________________________________________________________________________________\nconv1d_737 (Conv1D)             (None, 113, 64)      192         add_249[0][0]                    \n__________________________________________________________________________________________________\nconv1d_738 (Conv1D)             (None, 113, 64)      192         add_249[0][0]                    \n__________________________________________________________________________________________________\nmultiply_239 (Multiply)         (None, 113, 64)      0           conv1d_737[0][0]                 \n                                                                 conv1d_738[0][0]                 \n__________________________________________________________________________________________________\nconv1d_739 (Conv1D)             (None, 113, 1)       65          multiply_239[0][0]               \n__________________________________________________________________________________________________\nadd_250 (Add)                   (None, 113, 1)       0           conv1d_739[0][0]                 \n                                                                 add_249[0][0]                    \n__________________________________________________________________________________________________\nconv1d_740 (Conv1D)             (None, 113, 64)      192         add_250[0][0]                    \n__________________________________________________________________________________________________\nconv1d_741 (Conv1D)             (None, 113, 64)      192         add_250[0][0]                    \n__________________________________________________________________________________________________\nmultiply_240 (Multiply)         (None, 113, 64)      0           conv1d_740[0][0]                 \n                                                                 conv1d_741[0][0]                 \n__________________________________________________________________________________________________\nconv1d_742 (Conv1D)             (None, 113, 1)       65          multiply_240[0][0]               \n__________________________________________________________________________________________________\nadd_251 (Add)                   (None, 113, 1)       0           conv1d_742[0][0]                 \n                                                                 add_250[0][0]                    \n__________________________________________________________________________________________________\nconv1d_743 (Conv1D)             (None, 113, 64)      192         add_251[0][0]                    \n__________________________________________________________________________________________________\nconv1d_744 (Conv1D)             (None, 113, 64)      192         add_251[0][0]                    \n__________________________________________________________________________________________________\nmultiply_241 (Multiply)         (None, 113, 64)      0           conv1d_743[0][0]                 \n                                                                 conv1d_744[0][0]                 \n__________________________________________________________________________________________________\nconv1d_745 (Conv1D)             (None, 113, 1)       65          multiply_241[0][0]               \n__________________________________________________________________________________________________\nadd_252 (Add)                   (None, 113, 1)       0           conv1d_745[0][0]                 \n                                                                 add_251[0][0]                    \n__________________________________________________________________________________________________\nconv1d_746 (Conv1D)             (None, 113, 64)      192         add_252[0][0]                    \n__________________________________________________________________________________________________\nconv1d_747 (Conv1D)             (None, 113, 64)      192         add_252[0][0]                    \n__________________________________________________________________________________________________\nmultiply_242 (Multiply)         (None, 113, 64)      0           conv1d_746[0][0]                 \n                                                                 conv1d_747[0][0]                 \n__________________________________________________________________________________________________\nconv1d_748 (Conv1D)             (None, 113, 1)       65          multiply_242[0][0]               \n__________________________________________________________________________________________________\nadd_253 (Add)                   (None, 113, 1)       0           conv1d_748[0][0]                 \n                                                                 add_252[0][0]                    \n__________________________________________________________________________________________________\nconv1d_749 (Conv1D)             (None, 113, 64)      192         add_253[0][0]                    \n__________________________________________________________________________________________________\nconv1d_750 (Conv1D)             (None, 113, 64)      192         add_253[0][0]                    \n__________________________________________________________________________________________________\nmultiply_243 (Multiply)         (None, 113, 64)      0           conv1d_749[0][0]                 \n                                                                 conv1d_750[0][0]                 \n__________________________________________________________________________________________________\nconv1d_751 (Conv1D)             (None, 113, 1)       65          multiply_243[0][0]               \n__________________________________________________________________________________________________\nadd_254 (Add)                   (None, 113, 1)       0           conv1d_751[0][0]                 \n                                                                 add_253[0][0]                    \n__________________________________________________________________________________________________\nconv1d_752 (Conv1D)             (None, 113, 64)      192         add_254[0][0]                    \n__________________________________________________________________________________________________\nconv1d_753 (Conv1D)             (None, 113, 64)      192         add_254[0][0]                    \n__________________________________________________________________________________________________\nmultiply_244 (Multiply)         (None, 113, 64)      0           conv1d_752[0][0]                 \n                                                                 conv1d_753[0][0]                 \n__________________________________________________________________________________________________\nconv1d_754 (Conv1D)             (None, 113, 1)       65          multiply_244[0][0]               \n__________________________________________________________________________________________________\nadd_255 (Add)                   (None, 113, 1)       0           conv1d_754[0][0]                 \n                                                                 add_254[0][0]                    \n__________________________________________________________________________________________________\nconv1d_755 (Conv1D)             (None, 113, 64)      192         add_255[0][0]                    \n__________________________________________________________________________________________________\nconv1d_756 (Conv1D)             (None, 113, 64)      192         add_255[0][0]                    \n__________________________________________________________________________________________________\nmultiply_245 (Multiply)         (None, 113, 64)      0           conv1d_755[0][0]                 \n                                                                 conv1d_756[0][0]                 \n__________________________________________________________________________________________________\nconv1d_757 (Conv1D)             (None, 113, 1)       65          multiply_245[0][0]               \n__________________________________________________________________________________________________\nadd_256 (Add)                   (None, 113, 1)       0           conv1d_757[0][0]                 \n                                                                 add_255[0][0]                    \n__________________________________________________________________________________________________\nconv1d_758 (Conv1D)             (None, 113, 64)      192         add_256[0][0]                    \n__________________________________________________________________________________________________\nconv1d_759 (Conv1D)             (None, 113, 64)      192         add_256[0][0]                    \n__________________________________________________________________________________________________\nmultiply_246 (Multiply)         (None, 113, 64)      0           conv1d_758[0][0]                 \n                                                                 conv1d_759[0][0]                 \n__________________________________________________________________________________________________\nconv1d_760 (Conv1D)             (None, 113, 1)       65          multiply_246[0][0]               \n__________________________________________________________________________________________________\nadd_257 (Add)                   (None, 113, 1)       0           conv1d_760[0][0]                 \n                                                                 add_256[0][0]                    \n__________________________________________________________________________________________________\nconv1d_761 (Conv1D)             (None, 113, 64)      192         add_257[0][0]                    \n__________________________________________________________________________________________________\nconv1d_762 (Conv1D)             (None, 113, 64)      192         add_257[0][0]                    \n__________________________________________________________________________________________________\nmultiply_247 (Multiply)         (None, 113, 64)      0           conv1d_761[0][0]                 \n                                                                 conv1d_762[0][0]                 \n__________________________________________________________________________________________________\nconv1d_763 (Conv1D)             (None, 113, 1)       65          multiply_247[0][0]               \n__________________________________________________________________________________________________\nadd_258 (Add)                   (None, 113, 1)       0           conv1d_763[0][0]                 \n                                                                 add_257[0][0]                    \n__________________________________________________________________________________________________\nconv1d_764 (Conv1D)             (None, 113, 64)      192         add_258[0][0]                    \n__________________________________________________________________________________________________\nconv1d_765 (Conv1D)             (None, 113, 64)      192         add_258[0][0]                    \n__________________________________________________________________________________________________\nmultiply_248 (Multiply)         (None, 113, 64)      0           conv1d_764[0][0]                 \n                                                                 conv1d_765[0][0]                 \n__________________________________________________________________________________________________\nconv1d_766 (Conv1D)             (None, 113, 1)       65          multiply_248[0][0]               \n__________________________________________________________________________________________________\nadd_259 (Add)                   (None, 113, 1)       0           conv1d_766[0][0]                 \n                                                                 add_258[0][0]                    \n__________________________________________________________________________________________________\nconv1d_767 (Conv1D)             (None, 113, 64)      192         add_259[0][0]                    \n__________________________________________________________________________________________________\nconv1d_768 (Conv1D)             (None, 113, 64)      192         add_259[0][0]                    \n__________________________________________________________________________________________________\nmultiply_249 (Multiply)         (None, 113, 64)      0           conv1d_767[0][0]                 \n                                                                 conv1d_768[0][0]                 \n__________________________________________________________________________________________________\nconv1d_769 (Conv1D)             (None, 113, 1)       65          multiply_249[0][0]               \n__________________________________________________________________________________________________\nadd_260 (Add)                   (None, 113, 1)       0           conv1d_769[0][0]                 \n                                                                 add_259[0][0]                    \n__________________________________________________________________________________________________\nconv1d_770 (Conv1D)             (None, 113, 64)      192         add_260[0][0]                    \n__________________________________________________________________________________________________\nconv1d_771 (Conv1D)             (None, 113, 64)      192         add_260[0][0]                    \n__________________________________________________________________________________________________\nmultiply_250 (Multiply)         (None, 113, 64)      0           conv1d_770[0][0]                 \n                                                                 conv1d_771[0][0]                 \n__________________________________________________________________________________________________\nconv1d_772 (Conv1D)             (None, 113, 1)       65          multiply_250[0][0]               \n__________________________________________________________________________________________________\nadd_261 (Add)                   (None, 113, 1)       0           conv1d_772[0][0]                 \n                                                                 add_260[0][0]                    \n__________________________________________________________________________________________________\nconv1d_773 (Conv1D)             (None, 113, 64)      192         add_261[0][0]                    \n__________________________________________________________________________________________________\nconv1d_774 (Conv1D)             (None, 113, 64)      192         add_261[0][0]                    \n__________________________________________________________________________________________________\nmultiply_251 (Multiply)         (None, 113, 64)      0           conv1d_773[0][0]                 \n                                                                 conv1d_774[0][0]                 \n__________________________________________________________________________________________________\nconv1d_775 (Conv1D)             (None, 113, 1)       65          multiply_251[0][0]               \n__________________________________________________________________________________________________\nadd_262 (Add)                   (None, 113, 1)       0           conv1d_775[0][0]                 \n                                                                 add_261[0][0]                    \n__________________________________________________________________________________________________\nconv1d_776 (Conv1D)             (None, 113, 64)      192         add_262[0][0]                    \n__________________________________________________________________________________________________\nconv1d_777 (Conv1D)             (None, 113, 64)      192         add_262[0][0]                    \n__________________________________________________________________________________________________\nmultiply_252 (Multiply)         (None, 113, 64)      0           conv1d_776[0][0]                 \n                                                                 conv1d_777[0][0]                 \n__________________________________________________________________________________________________\nconv1d_778 (Conv1D)             (None, 113, 1)       65          multiply_252[0][0]               \n__________________________________________________________________________________________________\nadd_264 (Add)                   (None, 113, 1)       0           conv1d_718[0][0]                 \n                                                                 conv1d_721[0][0]                 \n                                                                 conv1d_724[0][0]                 \n                                                                 conv1d_727[0][0]                 \n                                                                 conv1d_730[0][0]                 \n                                                                 conv1d_733[0][0]                 \n                                                                 conv1d_736[0][0]                 \n                                                                 conv1d_739[0][0]                 \n                                                                 conv1d_742[0][0]                 \n                                                                 conv1d_745[0][0]                 \n                                                                 conv1d_748[0][0]                 \n                                                                 conv1d_751[0][0]                 \n                                                                 conv1d_754[0][0]                 \n                                                                 conv1d_757[0][0]                 \n                                                                 conv1d_760[0][0]                 \n                                                                 conv1d_763[0][0]                 \n                                                                 conv1d_766[0][0]                 \n                                                                 conv1d_769[0][0]                 \n                                                                 conv1d_772[0][0]                 \n                                                                 conv1d_775[0][0]                 \n                                                                 conv1d_778[0][0]                 \n__________________________________________________________________________________________________\nactivation_12 (Activation)      (None, 113, 1)       0           add_264[0][0]                    \n__________________________________________________________________________________________________\nconv1d_779 (Conv1D)             (None, 113, 1)       2           activation_12[0][0]              \n__________________________________________________________________________________________________\nconv1d_780 (Conv1D)             (None, 113, 1)       2           conv1d_779[0][0]                 \n__________________________________________________________________________________________________\nflatten_12 (Flatten)            (None, 113)          0           conv1d_780[0][0]                 \n__________________________________________________________________________________________________\ndense_12 (Dense)                (None, 52)           5928        flatten_12[0][0]                 \n==================================================================================================\nTotal params: 15,361\nTrainable params: 15,361\nNon-trainable params: 0\n__________________________________________________________________________________________________\n"
     ]
    },
    {
     "name": "stdout",
     "output_type": "stream",
     "text": [
      "Epoch 1/2000\n"
     ]
    },
    {
     "name": "stdout",
     "output_type": "stream",
     "text": [
      "\r   1/5000 [..............................] - ETA: 2:06:01 - loss: 449.2143 - acc: 0.0500"
     ]
    },
    {
     "name": "stdout",
     "output_type": "stream",
     "text": [
      "\b\b\b\b\b\b\b\b\b\b\b\b\b\b\b\b\b\b\b\b\b\b\b\b\b\b\b\b\b\b\b\b\b\b\b\b\b\b\b\b\b\b\b\b\b\b\b\b\b\b\b\b\b\b\b\b\b\b\b\b\b\b\b\b\b\b\b\b\b\b\b\b\b\b\b\b\b\b\b\b\b\b\b\b\b\b\b\b\r   2/5000 [..............................] - ETA: 1:06:51 - loss: 448.7954 - acc: 0.0250"
     ]
    },
    {
     "name": "stdout",
     "output_type": "stream",
     "text": [
      "\b\b\b\b\b\b\b\b\b\b\b\b\b\b\b\b\b\b\b\b\b\b\b\b\b\b\b\b\b\b\b\b\b\b\b\b\b\b\b\b\b\b\b\b\b\b\b\b\b\b\b\b\b\b\b\b\b\b\b\b\b\b\b\b\b\b\b\b\b\b\b\b\b\b\b\b\b\b\b\b\b\b\b\b\b\b\b\b\r   3/5000 [..............................] - ETA: 47:02 - loss: 449.5585 - acc: 0.0333  "
     ]
    },
    {
     "name": "stdout",
     "output_type": "stream",
     "text": [
      "\b\b\b\b\b\b\b\b\b\b\b\b\b\b\b\b\b\b\b\b\b\b\b\b\b\b\b\b\b\b\b\b\b\b\b\b\b\b\b\b\b\b\b\b\b\b\b\b\b\b\b\b\b\b\b\b\b\b\b\b\b\b\b\b\b\b\b\b\b\b\b\b\b\b\b\b\b\b\b\b\b\b\b\b\b\b\r   4/5000 [..............................] - ETA: 37:16 - loss: 450.1448 - acc: 0.0250"
     ]
    },
    {
     "name": "stdout",
     "output_type": "stream",
     "text": [
      "\b\b\b\b\b\b\b\b\b\b\b\b\b\b\b\b\b\b\b\b\b\b\b\b\b\b\b\b\b\b\b\b\b\b\b\b\b\b\b\b\b\b\b\b\b\b\b\b\b\b\b\b\b\b\b\b\b\b\b\b\b\b\b\b\b\b\b\b\b\b\b\b\b\b\b\b\b\b\b\b\b\b\b\b\b\b\r   5/5000 [..............................] - ETA: 31:26 - loss: 448.7058 - acc: 0.0300"
     ]
    },
    {
     "name": "stdout",
     "output_type": "stream",
     "text": [
      "\b\b\b\b\b\b\b\b\b\b\b\b\b\b\b\b\b\b\b\b\b\b\b\b\b\b\b\b\b\b\b\b\b\b\b\b\b\b\b\b\b\b\b\b\b\b\b\b\b\b\b\b\b\b\b\b\b\b\b\b\b\b\b\b\b\b\b\b\b\b\b\b\b\b\b\b\b\b\b\b\b\b\b\b\b\b\r   6/5000 [..............................] - ETA: 27:32 - loss: 448.2072 - acc: 0.0250"
     ]
    },
    {
     "name": "stdout",
     "output_type": "stream",
     "text": [
      "\b\b\b\b\b\b\b\b\b\b\b\b\b\b\b\b\b\b\b\b\b\b\b\b\b\b\b\b\b\b\b\b\b\b\b\b\b\b\b\b\b\b\b\b\b\b\b\b\b\b\b\b\b\b\b\b\b\b\b\b\b\b\b\b\b\b\b\b\b\b\b\b\b\b\b\b\b\b\b\b\b\b\b\b\b\b\r   7/5000 [..............................] - ETA: 24:43 - loss: 447.1831 - acc: 0.0214"
     ]
    },
    {
     "name": "stdout",
     "output_type": "stream",
     "text": [
      "\b\b\b\b\b\b\b\b\b\b\b\b\b\b\b\b\b\b\b\b\b\b\b\b\b\b\b\b\b\b\b\b\b\b\b\b\b\b\b\b\b\b\b\b\b\b\b\b\b\b\b\b\b\b\b\b\b\b\b\b\b\b\b\b\b\b\b\b\b\b\b\b\b\b\b\b\b\b\b\b\b\b\b\b\b\b\r   8/5000 [..............................] - ETA: 22:35 - loss: 439.1818 - acc: 0.0188"
     ]
    },
    {
     "name": "stdout",
     "output_type": "stream",
     "text": [
      "\b\b\b\b\b\b\b\b\b\b\b\b\b\b\b\b\b\b\b\b\b\b\b\b\b\b\b\b\b\b\b\b\b\b\b\b\b\b\b\b\b\b\b\b\b\b\b\b\b\b\b\b\b\b\b\b\b\b\b\b\b\b\b\b\b\b\b\b\b\b\b\b\b\b\b\b\b\b\b\b\b\b\b\b\b\b\r   9/5000 [..............................] - ETA: 20:53 - loss: 434.3547 - acc: 0.0167"
     ]
    },
    {
     "name": "stdout",
     "output_type": "stream",
     "text": [
      "\b\b\b\b\b\b\b\b\b\b\b\b\b\b\b\b\b\b\b\b\b\b\b\b\b\b\b\b\b\b\b\b\b\b\b\b\b\b\b\b\b\b\b\b\b\b\b\b\b\b\b\b\b\b\b\b\b\b\b\b\b\b\b\b\b\b\b\b\b\b\b\b\b\b\b\b\b\b\b\b\b\b\b\b\b\b\r  10/5000 [..............................] - ETA: 19:32 - loss: 426.7095 - acc: 0.0150"
     ]
    },
    {
     "name": "stdout",
     "output_type": "stream",
     "text": [
      "\b\b\b\b\b\b\b\b\b\b\b\b\b\b\b\b\b\b\b\b\b\b\b\b\b\b\b\b\b\b\b\b\b\b\b\b\b\b\b\b\b\b\b\b\b\b\b\b\b\b\b\b\b\b\b\b\b\b\b\b\b\b\b\b\b\b\b\b\b\b\b\b\b\b\b\b\b\b\b\b\b\b\b\b\b\b\r  11/5000 [..............................] - ETA: 18:26 - loss: 423.9802 - acc: 0.0136"
     ]
    },
    {
     "name": "stdout",
     "output_type": "stream",
     "text": [
      "\b\b\b\b\b\b\b\b\b\b\b\b\b\b\b\b\b\b\b\b\b\b\b\b\b\b\b\b\b\b\b\b\b\b\b\b\b\b\b\b\b\b\b\b\b\b\b\b\b\b\b\b\b\b\b\b\b\b\b\b\b\b\b\b\b\b\b\b\b\b\b\b\b\b\b\b\b\b\b\b\b\b\b\b\b\b\r  12/5000 [..............................] - ETA: 17:34 - loss: 423.9162 - acc: 0.0167"
     ]
    },
    {
     "name": "stdout",
     "output_type": "stream",
     "text": [
      "\b\b\b\b\b\b\b\b\b\b\b\b\b\b\b\b\b\b\b\b\b\b\b\b\b\b\b\b\b\b\b\b\b\b\b\b\b\b\b\b\b\b\b\b\b\b\b\b\b\b\b\b\b\b\b\b\b\b\b\b\b\b\b\b\b\b\b\b\b\b\b\b\b\b\b\b\b\b\b\b\b\b\b\b\b\b\r  13/5000 [..............................] - ETA: 16:51 - loss: 409.4670 - acc: 0.0154"
     ]
    },
    {
     "name": "stdout",
     "output_type": "stream",
     "text": [
      "\b\b\b\b\b\b\b\b\b\b\b\b\b\b\b\b\b\b\b\b\b\b\b\b\b\b\b\b\b\b\b\b\b\b\b\b\b\b\b\b\b\b\b\b\b\b\b\b\b\b\b\b\b\b\b\b\b\b\b\b\b\b\b\b\b\b\b\b\b\b\b\b\b\b\b\b\b\b\b\b\b\b\b\b\b\b\r  14/5000 [..............................] - ETA: 16:12 - loss: 396.7050 - acc: 0.0214"
     ]
    },
    {
     "name": "stdout",
     "output_type": "stream",
     "text": [
      "\b\b\b\b\b\b\b\b\b\b\b\b\b\b\b\b\b\b\b\b\b\b\b\b\b\b\b\b\b\b\b\b\b\b\b\b\b\b\b\b\b\b\b\b\b\b\b\b\b\b\b\b\b\b\b\b\b\b\b\b\b\b\b\b\b\b\b\b\b\b\b\b\b\b\b\b\b\b\b\b\b\b\b\b\b\b\r  15/5000 [..............................] - ETA: 15:38 - loss: 385.7830 - acc: 0.0200"
     ]
    },
    {
     "name": "stdout",
     "output_type": "stream",
     "text": [
      "\b\b\b\b\b\b\b\b\b\b\b\b\b\b\b\b\b\b\b\b\b\b\b\b\b\b\b\b\b\b\b\b\b\b\b\b\b\b\b\b\b\b\b\b\b\b\b\b\b\b\b\b\b\b\b\b\b\b\b\b\b\b\b\b\b\b\b\b\b\b\b\b\b\b\b\b\b\b\b\b\b\b\b\b\b\b\r  16/5000 [..............................] - ETA: 15:09 - loss: 375.6561 - acc: 0.0188"
     ]
    },
    {
     "name": "stdout",
     "output_type": "stream",
     "text": [
      "\b\b\b\b\b\b\b\b\b\b\b\b\b\b\b\b\b\b\b\b\b\b\b\b\b\b\b\b\b\b\b\b\b\b\b\b\b\b\b\b\b\b\b\b\b\b\b\b\b\b\b\b\b\b\b\b\b\b\b\b\b\b\b\b\b\b\b\b\b\b\b\b\b\b\b\b\b\b\b\b\b\b\b\b\b\b\r  17/5000 [..............................] - ETA: 14:43 - loss: 370.3354 - acc: 0.0324"
     ]
    },
    {
     "name": "stdout",
     "output_type": "stream",
     "text": [
      "\b\b\b\b\b\b\b\b\b\b\b\b\b\b\b\b\b\b\b\b\b\b\b\b\b\b\b\b\b\b\b\b\b\b\b\b\b\b\b\b\b\b\b\b\b\b\b\b\b\b\b\b\b\b\b\b\b\b\b\b\b\b\b\b\b\b\b\b\b\b\b\b\b\b\b\b\b\b\b\b\b\b\b\b\b\b\r  18/5000 [..............................] - ETA: 14:22 - loss: 367.2462 - acc: 0.0389"
     ]
    },
    {
     "name": "stdout",
     "output_type": "stream",
     "text": [
      "\b\b\b\b\b\b\b\b\b\b\b\b\b\b\b\b\b\b\b\b\b\b\b\b\b\b\b\b\b\b\b\b\b\b\b\b\b\b\b\b\b\b\b\b\b\b\b\b\b\b\b\b\b\b\b\b\b\b\b\b\b\b\b\b\b\b\b\b\b\b\b\b\b\b\b\b\b\b\b\b\b\b\b\b\b\b\r  19/5000 [..............................] - ETA: 14:01 - loss: 360.7208 - acc: 0.0368"
     ]
    },
    {
     "name": "stdout",
     "output_type": "stream",
     "text": [
      "\b\b\b\b\b\b\b\b\b\b\b\b\b\b\b\b\b\b\b\b\b\b\b\b\b\b\b\b\b\b\b\b\b\b\b\b\b\b\b\b\b\b\b\b\b\b\b\b\b\b\b\b\b\b\b\b\b\b\b\b\b\b\b\b\b\b\b\b\b\b\b\b\b\b\b\b\b\b\b\b\b\b\b\b\b\b\r  20/5000 [..............................] - ETA: 13:46 - loss: 353.1398 - acc: 0.0350"
     ]
    },
    {
     "name": "stdout",
     "output_type": "stream",
     "text": [
      "\b\b\b\b\b\b\b\b\b\b\b\b\b\b\b\b\b\b\b\b\b\b\b\b\b\b\b\b\b\b\b\b\b\b\b\b\b\b\b\b\b\b\b\b\b\b\b\b\b\b\b\b\b\b\b\b\b\b\b\b\b\b\b\b\b\b\b\b\b\b\b\b\b\b\b\b\b\b\b\b\b\b\b\b\b\b\r  21/5000 [..............................] - ETA: 13:30 - loss: 347.9520 - acc: 0.0333"
     ]
    },
    {
     "name": "stdout",
     "output_type": "stream",
     "text": [
      "\b\b\b\b\b\b\b\b\b\b\b\b\b\b\b\b\b\b\b\b\b\b\b\b\b\b\b\b\b\b\b\b\b\b\b\b\b\b\b\b\b\b\b\b\b\b\b\b\b\b\b\b\b\b\b\b\b\b\b\b\b\b\b\b\b\b\b\b\b\b\b\b\b\b\b\b\b\b\b\b\b\b\b\b\b\b\r  22/5000 [..............................] - ETA: 13:14 - loss: 347.2844 - acc: 0.0318"
     ]
    },
    {
     "name": "stdout",
     "output_type": "stream",
     "text": [
      "\b\b\b\b\b\b\b\b\b\b\b\b\b\b\b\b\b\b\b\b\b\b\b\b\b\b\b\b\b\b\b\b\b\b\b\b\b\b\b\b\b\b\b\b\b\b\b\b\b\b\b\b\b\b\b\b\b\b\b\b\b\b\b\b\b\b\b\b\b\b\b\b\b\b\b\b\b\b\b\b\b\b\b\r3121/5000 [=================>............] - ETA: 3:06 - loss: 3.0935 - acc: 0.2632"
     ]
    },
    {
     "name": "stdout",
     "output_type": "stream",
     "text": [
      "\b\b\b\b\b\b\b\b\b\b\b\b\b\b\b\b\b\b\b\b\b\b\b\b\b\b\b\b\b\b\b\b\b\b\b\b\b\b\b\b\b\b\b\b\b\b\b\b\b\b\b\b\b\b\b\b\b\b\b\b\b\b\b\b\b\b\b\b\b\b\b\b\b\b\b\b\b\b\b\b\b\b\b\r3122/5000 [=================>............] - ETA: 3:06 - loss: 3.0928 - acc: 0.2631"
     ]
    },
    {
     "name": "stdout",
     "output_type": "stream",
     "text": [
      "\b\b\b\b\b\b\b\b\b\b\b\b\b\b\b\b\b\b\b\b\b\b\b\b\b\b\b\b\b\b\b\b\b\b\b\b\b\b\b\b\b\b\b\b\b\b\b\b\b\b\b\b\b\b\b\b\b\b\b\b\b\b\b\b\b\b\b\b\b\b\b\b\b\b\b\b\b\b\b\b\b\b\b\r3123/5000 [=================>............] - ETA: 3:06 - loss: 3.0919 - acc: 0.2631"
     ]
    },
    {
     "name": "stdout",
     "output_type": "stream",
     "text": [
      "\b\b\b\b\b\b\b\b\b\b\b\b\b\b\b\b\b\b\b\b\b\b\b\b\b\b\b\b\b\b\b\b\b\b\b\b\b\b\b\b\b\b\b\b\b\b\b\b\b\b\b\b\b\b\b\b\b\b\b\b\b\b\b\b\b\b\b\b\b\b\b\b\b\b\b\b\b\b\b\b\b\b\b\r3124/5000 [=================>............] - ETA: 3:06 - loss: 3.0910 - acc: 0.2630"
     ]
    },
    {
     "name": "stdout",
     "output_type": "stream",
     "text": [
      "\b\b\b\b\b\b\b\b\b\b\b\b\b\b\b\b\b\b\b\b\b\b\b\b\b\b\b\b\b\b\b\b\b\b\b\b\b\b\b\b\b\b\b\b\b\b\b\b\b\b\b\b\b\b\b\b\b\b\b\b\b\b\b\b\b\b\b\b\b\b\b\b\b\b\b\b\b\b\b\b\b\b\b\r3125/5000 [=================>............] - ETA: 3:06 - loss: 3.0901 - acc: 0.2629"
     ]
    },
    {
     "name": "stdout",
     "output_type": "stream",
     "text": [
      "\b\b\b\b\b\b\b\b\b\b\b\b\b\b\b\b\b\b\b\b\b\b\b\b\b\b\b\b\b\b\b\b\b\b\b\b\b\b\b\b\b\b\b\b\b\b\b\b\b\b\b\b\b\b\b\b\b\b\b\b\b\b\b\b\b\b\b\b\b\b\b\b\b\b\b\b\b\b\b\b\b\b\b\r3126/5000 [=================>............] - ETA: 3:06 - loss: 3.0892 - acc: 0.2628"
     ]
    },
    {
     "name": "stdout",
     "output_type": "stream",
     "text": [
      "\b\b\b\b\b\b\b\b\b\b\b\b\b\b\b\b\b\b\b\b\b\b\b\b\b\b\b\b\b\b\b\b\b\b\b\b\b\b\b\b\b\b\b\b\b\b\b\b\b\b\b\b\b\b\b\b\b\b\b\b\b\b\b\b\b\b\b\b\b\b\b\b\b\b\b\b\b\b\b\b\b\b\b\r3127/5000 [=================>............] - ETA: 3:06 - loss: 3.0883 - acc: 0.2627"
     ]
    },
    {
     "name": "stdout",
     "output_type": "stream",
     "text": [
      "\b\b\b\b\b\b\b\b\b\b\b\b\b\b\b\b\b\b\b\b\b\b\b\b\b\b\b\b\b\b\b\b\b\b\b\b\b\b\b\b\b\b\b\b\b\b\b\b\b\b\b\b\b\b\b\b\b\b\b\b\b\b\b\b\b\b\b\b\b\b\b\b\b\b\b\b\b\b\b\b\b\b\b\r3128/5000 [=================>............] - ETA: 3:06 - loss: 3.0874 - acc: 0.2626"
     ]
    },
    {
     "name": "stdout",
     "output_type": "stream",
     "text": [
      "\b\b\b\b\b\b\b\b\b\b\b\b\b\b\b\b\b\b\b\b\b\b\b\b\b\b\b\b\b\b\b\b\b\b\b\b\b\b\b\b\b\b\b\b\b\b\b\b\b\b\b\b\b\b\b\b\b\b\b\b\b\b\b\b\b\b\b\b\b\b\b\b\b\b\b\b\b\b\b\b\b\b\b\r3129/5000 [=================>............] - ETA: 3:06 - loss: 3.0864 - acc: 0.2626"
     ]
    },
    {
     "name": "stdout",
     "output_type": "stream",
     "text": [
      "\b\b\b\b\b\b\b\b\b\b\b\b\b\b\b\b\b\b\b\b\b\b\b\b\b\b\b\b\b\b\b\b\b\b\b\b\b\b\b\b\b\b\b\b\b\b\b\b\b\b\b\b\b\b\b\b\b\b\b\b\b\b\b\b\b\b\b\b\b\b\b\b\b\b\b\b\b\b\b\b\b\b\b\r3130/5000 [=================>............] - ETA: 3:05 - loss: 3.0855 - acc: 0.2625"
     ]
    },
    {
     "name": "stdout",
     "output_type": "stream",
     "text": [
      "\b\b\b\b\b\b\b\b\b\b\b\b\b\b\b\b\b\b\b\b\b\b\b\b\b\b\b\b\b\b\b\b\b\b\b\b\b\b\b\b\b\b\b\b\b\b\b\b\b\b\b\b\b\b\b\b\b\b\b\b\b\b\b\b\b\b\b\b\b\b\b\b\b\b\b\b\b\b\b\b\b\b\b\r3131/5000 [=================>............] - ETA: 3:05 - loss: 3.0846 - acc: 0.2624"
     ]
    },
    {
     "name": "stdout",
     "output_type": "stream",
     "text": [
      "\b\b\b\b\b\b\b\b\b\b\b\b\b\b\b\b\b\b\b\b\b\b\b\b\b\b\b\b\b\b\b\b\b\b\b\b\b\b\b\b\b\b\b\b\b\b\b\b\b\b\b\b\b\b\b\b\b\b\b\b\b\b\b\b\b\b\b\b\b\b\b\b\b\b\b\b\b\b\b\b\b\b\b\r3132/5000 [=================>............] - ETA: 3:05 - loss: 3.0836 - acc: 0.2623"
     ]
    },
    {
     "name": "stdout",
     "output_type": "stream",
     "text": [
      "\b\b\b\b\b\b\b\b\b\b\b\b\b\b\b\b\b\b\b\b\b\b\b\b\b\b\b\b\b\b\b\b\b\b\b\b\b\b\b\b\b\b\b\b\b\b\b\b\b\b\b\b\b\b\b\b\b\b\b\b\b\b\b\b\b\b\b\b\b\b\b\b\b\b\b\b\b\b\b\b\b\b\b\r3133/5000 [=================>............] - ETA: 3:05 - loss: 3.0827 - acc: 0.2622"
     ]
    },
    {
     "ename": "KeyboardInterrupt",
     "evalue": "",
     "traceback": [
      "\u001b[0;31m---------------------------------------------------------------------------\u001b[0m",
      "\u001b[0;31mKeyboardInterrupt\u001b[0m                         Traceback (most recent call last)",
      "\u001b[0;32m<ipython-input-86-aed3f15d1a4e>\u001b[0m in \u001b[0;36m<module>\u001b[0;34m()\u001b[0m\n\u001b[1;32m     20\u001b[0m                      \u001b[0mnb_val_samples\u001b[0m\u001b[0;34m=\u001b[0m\u001b[0;36m500\u001b[0m\u001b[0;34m,\u001b[0m \u001b[0mverbose\u001b[0m\u001b[0;34m=\u001b[0m\u001b[0;36m1\u001b[0m\u001b[0;34m,\u001b[0m\u001b[0;34m\u001b[0m\u001b[0m\n\u001b[1;32m     21\u001b[0m                     callbacks=[TensorBoard(log_dir='./tmp/log', histogram_freq=0, write_graph=True,\n\u001b[0;32m---> 22\u001b[0;31m                                           write_images=True)])\n\u001b[0m",
      "\u001b[0;32m~/anaconda/envs/tensorflow/lib/python3.5/site-packages/keras/legacy/interfaces.py\u001b[0m in \u001b[0;36mwrapper\u001b[0;34m(*args, **kwargs)\u001b[0m\n\u001b[1;32m     89\u001b[0m                 warnings.warn('Update your `' + object_name +\n\u001b[1;32m     90\u001b[0m                               '` call to the Keras 2 API: ' + signature, stacklevel=2)\n\u001b[0;32m---> 91\u001b[0;31m             \u001b[0;32mreturn\u001b[0m \u001b[0mfunc\u001b[0m\u001b[0;34m(\u001b[0m\u001b[0;34m*\u001b[0m\u001b[0margs\u001b[0m\u001b[0;34m,\u001b[0m \u001b[0;34m**\u001b[0m\u001b[0mkwargs\u001b[0m\u001b[0;34m)\u001b[0m\u001b[0;34m\u001b[0m\u001b[0m\n\u001b[0m\u001b[1;32m     92\u001b[0m         \u001b[0mwrapper\u001b[0m\u001b[0;34m.\u001b[0m\u001b[0m_original_function\u001b[0m \u001b[0;34m=\u001b[0m \u001b[0mfunc\u001b[0m\u001b[0;34m\u001b[0m\u001b[0m\n\u001b[1;32m     93\u001b[0m         \u001b[0;32mreturn\u001b[0m \u001b[0mwrapper\u001b[0m\u001b[0;34m\u001b[0m\u001b[0m\n",
      "\u001b[0;32m~/anaconda/envs/tensorflow/lib/python3.5/site-packages/keras/engine/training.py\u001b[0m in \u001b[0;36mfit_generator\u001b[0;34m(self, generator, steps_per_epoch, epochs, verbose, callbacks, validation_data, validation_steps, class_weight, max_queue_size, workers, use_multiprocessing, shuffle, initial_epoch)\u001b[0m\n\u001b[1;32m   1424\u001b[0m             \u001b[0muse_multiprocessing\u001b[0m\u001b[0;34m=\u001b[0m\u001b[0muse_multiprocessing\u001b[0m\u001b[0;34m,\u001b[0m\u001b[0;34m\u001b[0m\u001b[0m\n\u001b[1;32m   1425\u001b[0m             \u001b[0mshuffle\u001b[0m\u001b[0;34m=\u001b[0m\u001b[0mshuffle\u001b[0m\u001b[0;34m,\u001b[0m\u001b[0;34m\u001b[0m\u001b[0m\n\u001b[0;32m-> 1426\u001b[0;31m             initial_epoch=initial_epoch)\n\u001b[0m\u001b[1;32m   1427\u001b[0m \u001b[0;34m\u001b[0m\u001b[0m\n\u001b[1;32m   1428\u001b[0m     \u001b[0;34m@\u001b[0m\u001b[0minterfaces\u001b[0m\u001b[0;34m.\u001b[0m\u001b[0mlegacy_generator_methods_support\u001b[0m\u001b[0;34m\u001b[0m\u001b[0m\n",
      "\u001b[0;32m~/anaconda/envs/tensorflow/lib/python3.5/site-packages/keras/engine/training_generator.py\u001b[0m in \u001b[0;36mfit_generator\u001b[0;34m(model, generator, steps_per_epoch, epochs, verbose, callbacks, validation_data, validation_steps, class_weight, max_queue_size, workers, use_multiprocessing, shuffle, initial_epoch)\u001b[0m\n\u001b[1;32m    189\u001b[0m                 outs = model.train_on_batch(x, y,\n\u001b[1;32m    190\u001b[0m                                             \u001b[0msample_weight\u001b[0m\u001b[0;34m=\u001b[0m\u001b[0msample_weight\u001b[0m\u001b[0;34m,\u001b[0m\u001b[0;34m\u001b[0m\u001b[0m\n\u001b[0;32m--> 191\u001b[0;31m                                             class_weight=class_weight)\n\u001b[0m\u001b[1;32m    192\u001b[0m \u001b[0;34m\u001b[0m\u001b[0m\n\u001b[1;32m    193\u001b[0m                 \u001b[0;32mif\u001b[0m \u001b[0;32mnot\u001b[0m \u001b[0misinstance\u001b[0m\u001b[0;34m(\u001b[0m\u001b[0mouts\u001b[0m\u001b[0;34m,\u001b[0m \u001b[0mlist\u001b[0m\u001b[0;34m)\u001b[0m\u001b[0;34m:\u001b[0m\u001b[0;34m\u001b[0m\u001b[0m\n",
      "\u001b[0;32m~/anaconda/envs/tensorflow/lib/python3.5/site-packages/keras/engine/training.py\u001b[0m in \u001b[0;36mtrain_on_batch\u001b[0;34m(self, x, y, sample_weight, class_weight)\u001b[0m\n\u001b[1;32m   1218\u001b[0m             \u001b[0mins\u001b[0m \u001b[0;34m=\u001b[0m \u001b[0mx\u001b[0m \u001b[0;34m+\u001b[0m \u001b[0my\u001b[0m \u001b[0;34m+\u001b[0m \u001b[0msample_weights\u001b[0m\u001b[0;34m\u001b[0m\u001b[0m\n\u001b[1;32m   1219\u001b[0m         \u001b[0mself\u001b[0m\u001b[0;34m.\u001b[0m\u001b[0m_make_train_function\u001b[0m\u001b[0;34m(\u001b[0m\u001b[0;34m)\u001b[0m\u001b[0;34m\u001b[0m\u001b[0m\n\u001b[0;32m-> 1220\u001b[0;31m         \u001b[0moutputs\u001b[0m \u001b[0;34m=\u001b[0m \u001b[0mself\u001b[0m\u001b[0;34m.\u001b[0m\u001b[0mtrain_function\u001b[0m\u001b[0;34m(\u001b[0m\u001b[0mins\u001b[0m\u001b[0;34m)\u001b[0m\u001b[0;34m\u001b[0m\u001b[0m\n\u001b[0m\u001b[1;32m   1221\u001b[0m         \u001b[0;32mif\u001b[0m \u001b[0mlen\u001b[0m\u001b[0;34m(\u001b[0m\u001b[0moutputs\u001b[0m\u001b[0;34m)\u001b[0m \u001b[0;34m==\u001b[0m \u001b[0;36m1\u001b[0m\u001b[0;34m:\u001b[0m\u001b[0;34m\u001b[0m\u001b[0m\n\u001b[1;32m   1222\u001b[0m             \u001b[0;32mreturn\u001b[0m \u001b[0moutputs\u001b[0m\u001b[0;34m[\u001b[0m\u001b[0;36m0\u001b[0m\u001b[0;34m]\u001b[0m\u001b[0;34m\u001b[0m\u001b[0m\n",
      "\u001b[0;32m~/anaconda/envs/tensorflow/lib/python3.5/site-packages/keras/backend/tensorflow_backend.py\u001b[0m in \u001b[0;36m__call__\u001b[0;34m(self, inputs)\u001b[0m\n\u001b[1;32m   2665\u001b[0m                     \u001b[0;34m'In order to feed symbolic tensors to a Keras model '\u001b[0m\u001b[0;34m\u001b[0m\u001b[0m\n\u001b[1;32m   2666\u001b[0m                     'in TensorFlow, you need tensorflow 1.8 or higher.')\n\u001b[0;32m-> 2667\u001b[0;31m             \u001b[0;32mreturn\u001b[0m \u001b[0mself\u001b[0m\u001b[0;34m.\u001b[0m\u001b[0m_legacy_call\u001b[0m\u001b[0;34m(\u001b[0m\u001b[0minputs\u001b[0m\u001b[0;34m)\u001b[0m\u001b[0;34m\u001b[0m\u001b[0m\n\u001b[0m\u001b[1;32m   2668\u001b[0m \u001b[0;34m\u001b[0m\u001b[0m\n\u001b[1;32m   2669\u001b[0m \u001b[0;34m\u001b[0m\u001b[0m\n",
      "\u001b[0;32m~/anaconda/envs/tensorflow/lib/python3.5/site-packages/keras/backend/tensorflow_backend.py\u001b[0m in \u001b[0;36m_legacy_call\u001b[0;34m(self, inputs)\u001b[0m\n\u001b[1;32m   2647\u001b[0m         \u001b[0msession\u001b[0m \u001b[0;34m=\u001b[0m \u001b[0mget_session\u001b[0m\u001b[0;34m(\u001b[0m\u001b[0;34m)\u001b[0m\u001b[0;34m\u001b[0m\u001b[0m\n\u001b[1;32m   2648\u001b[0m         updated = session.run(fetches=fetches, feed_dict=feed_dict,\n\u001b[0;32m-> 2649\u001b[0;31m                               **self.session_kwargs)\n\u001b[0m\u001b[1;32m   2650\u001b[0m         \u001b[0;32mreturn\u001b[0m \u001b[0mupdated\u001b[0m\u001b[0;34m[\u001b[0m\u001b[0;34m:\u001b[0m\u001b[0mlen\u001b[0m\u001b[0;34m(\u001b[0m\u001b[0mself\u001b[0m\u001b[0;34m.\u001b[0m\u001b[0moutputs\u001b[0m\u001b[0;34m)\u001b[0m\u001b[0;34m]\u001b[0m\u001b[0;34m\u001b[0m\u001b[0m\n\u001b[1;32m   2651\u001b[0m \u001b[0;34m\u001b[0m\u001b[0m\n",
      "\u001b[0;32m~/anaconda/envs/tensorflow/lib/python3.5/site-packages/tensorflow/python/client/session.py\u001b[0m in \u001b[0;36mrun\u001b[0;34m(self, fetches, feed_dict, options, run_metadata)\u001b[0m\n\u001b[1;32m    893\u001b[0m     \u001b[0;32mtry\u001b[0m\u001b[0;34m:\u001b[0m\u001b[0;34m\u001b[0m\u001b[0m\n\u001b[1;32m    894\u001b[0m       result = self._run(None, fetches, feed_dict, options_ptr,\n\u001b[0;32m--> 895\u001b[0;31m                          run_metadata_ptr)\n\u001b[0m\u001b[1;32m    896\u001b[0m       \u001b[0;32mif\u001b[0m \u001b[0mrun_metadata\u001b[0m\u001b[0;34m:\u001b[0m\u001b[0;34m\u001b[0m\u001b[0m\n\u001b[1;32m    897\u001b[0m         \u001b[0mproto_data\u001b[0m \u001b[0;34m=\u001b[0m \u001b[0mtf_session\u001b[0m\u001b[0;34m.\u001b[0m\u001b[0mTF_GetBuffer\u001b[0m\u001b[0;34m(\u001b[0m\u001b[0mrun_metadata_ptr\u001b[0m\u001b[0;34m)\u001b[0m\u001b[0;34m\u001b[0m\u001b[0m\n",
      "\u001b[0;32m~/anaconda/envs/tensorflow/lib/python3.5/site-packages/tensorflow/python/client/session.py\u001b[0m in \u001b[0;36m_run\u001b[0;34m(self, handle, fetches, feed_dict, options, run_metadata)\u001b[0m\n\u001b[1;32m   1126\u001b[0m     \u001b[0;32mif\u001b[0m \u001b[0mfinal_fetches\u001b[0m \u001b[0;32mor\u001b[0m \u001b[0mfinal_targets\u001b[0m \u001b[0;32mor\u001b[0m \u001b[0;34m(\u001b[0m\u001b[0mhandle\u001b[0m \u001b[0;32mand\u001b[0m \u001b[0mfeed_dict_tensor\u001b[0m\u001b[0;34m)\u001b[0m\u001b[0;34m:\u001b[0m\u001b[0;34m\u001b[0m\u001b[0m\n\u001b[1;32m   1127\u001b[0m       results = self._do_run(handle, final_targets, final_fetches,\n\u001b[0;32m-> 1128\u001b[0;31m                              feed_dict_tensor, options, run_metadata)\n\u001b[0m\u001b[1;32m   1129\u001b[0m     \u001b[0;32melse\u001b[0m\u001b[0;34m:\u001b[0m\u001b[0;34m\u001b[0m\u001b[0m\n\u001b[1;32m   1130\u001b[0m       \u001b[0mresults\u001b[0m \u001b[0;34m=\u001b[0m \u001b[0;34m[\u001b[0m\u001b[0;34m]\u001b[0m\u001b[0;34m\u001b[0m\u001b[0m\n",
      "\u001b[0;32m~/anaconda/envs/tensorflow/lib/python3.5/site-packages/tensorflow/python/client/session.py\u001b[0m in \u001b[0;36m_do_run\u001b[0;34m(self, handle, target_list, fetch_list, feed_dict, options, run_metadata)\u001b[0m\n\u001b[1;32m   1342\u001b[0m     \u001b[0;32mif\u001b[0m \u001b[0mhandle\u001b[0m \u001b[0;32mis\u001b[0m \u001b[0;32mNone\u001b[0m\u001b[0;34m:\u001b[0m\u001b[0;34m\u001b[0m\u001b[0m\n\u001b[1;32m   1343\u001b[0m       return self._do_call(_run_fn, self._session, feeds, fetches, targets,\n\u001b[0;32m-> 1344\u001b[0;31m                            options, run_metadata)\n\u001b[0m\u001b[1;32m   1345\u001b[0m     \u001b[0;32melse\u001b[0m\u001b[0;34m:\u001b[0m\u001b[0;34m\u001b[0m\u001b[0m\n\u001b[1;32m   1346\u001b[0m       \u001b[0;32mreturn\u001b[0m \u001b[0mself\u001b[0m\u001b[0;34m.\u001b[0m\u001b[0m_do_call\u001b[0m\u001b[0;34m(\u001b[0m\u001b[0m_prun_fn\u001b[0m\u001b[0;34m,\u001b[0m \u001b[0mself\u001b[0m\u001b[0;34m.\u001b[0m\u001b[0m_session\u001b[0m\u001b[0;34m,\u001b[0m \u001b[0mhandle\u001b[0m\u001b[0;34m,\u001b[0m \u001b[0mfeeds\u001b[0m\u001b[0;34m,\u001b[0m \u001b[0mfetches\u001b[0m\u001b[0;34m)\u001b[0m\u001b[0;34m\u001b[0m\u001b[0m\n",
      "\u001b[0;32m~/anaconda/envs/tensorflow/lib/python3.5/site-packages/tensorflow/python/client/session.py\u001b[0m in \u001b[0;36m_do_call\u001b[0;34m(self, fn, *args)\u001b[0m\n\u001b[1;32m   1348\u001b[0m   \u001b[0;32mdef\u001b[0m \u001b[0m_do_call\u001b[0m\u001b[0;34m(\u001b[0m\u001b[0mself\u001b[0m\u001b[0;34m,\u001b[0m \u001b[0mfn\u001b[0m\u001b[0;34m,\u001b[0m \u001b[0;34m*\u001b[0m\u001b[0margs\u001b[0m\u001b[0;34m)\u001b[0m\u001b[0;34m:\u001b[0m\u001b[0;34m\u001b[0m\u001b[0m\n\u001b[1;32m   1349\u001b[0m     \u001b[0;32mtry\u001b[0m\u001b[0;34m:\u001b[0m\u001b[0;34m\u001b[0m\u001b[0m\n\u001b[0;32m-> 1350\u001b[0;31m       \u001b[0;32mreturn\u001b[0m \u001b[0mfn\u001b[0m\u001b[0;34m(\u001b[0m\u001b[0;34m*\u001b[0m\u001b[0margs\u001b[0m\u001b[0;34m)\u001b[0m\u001b[0;34m\u001b[0m\u001b[0m\n\u001b[0m\u001b[1;32m   1351\u001b[0m     \u001b[0;32mexcept\u001b[0m \u001b[0merrors\u001b[0m\u001b[0;34m.\u001b[0m\u001b[0mOpError\u001b[0m \u001b[0;32mas\u001b[0m \u001b[0me\u001b[0m\u001b[0;34m:\u001b[0m\u001b[0;34m\u001b[0m\u001b[0m\n\u001b[1;32m   1352\u001b[0m       \u001b[0mmessage\u001b[0m \u001b[0;34m=\u001b[0m \u001b[0mcompat\u001b[0m\u001b[0;34m.\u001b[0m\u001b[0mas_text\u001b[0m\u001b[0;34m(\u001b[0m\u001b[0me\u001b[0m\u001b[0;34m.\u001b[0m\u001b[0mmessage\u001b[0m\u001b[0;34m)\u001b[0m\u001b[0;34m\u001b[0m\u001b[0m\n",
      "\u001b[0;32m~/anaconda/envs/tensorflow/lib/python3.5/site-packages/tensorflow/python/client/session.py\u001b[0m in \u001b[0;36m_run_fn\u001b[0;34m(session, feed_dict, fetch_list, target_list, options, run_metadata)\u001b[0m\n\u001b[1;32m   1327\u001b[0m           return tf_session.TF_Run(session, options,\n\u001b[1;32m   1328\u001b[0m                                    \u001b[0mfeed_dict\u001b[0m\u001b[0;34m,\u001b[0m \u001b[0mfetch_list\u001b[0m\u001b[0;34m,\u001b[0m \u001b[0mtarget_list\u001b[0m\u001b[0;34m,\u001b[0m\u001b[0;34m\u001b[0m\u001b[0m\n\u001b[0;32m-> 1329\u001b[0;31m                                    status, run_metadata)\n\u001b[0m\u001b[1;32m   1330\u001b[0m \u001b[0;34m\u001b[0m\u001b[0m\n\u001b[1;32m   1331\u001b[0m     \u001b[0;32mdef\u001b[0m \u001b[0m_prun_fn\u001b[0m\u001b[0;34m(\u001b[0m\u001b[0msession\u001b[0m\u001b[0;34m,\u001b[0m \u001b[0mhandle\u001b[0m\u001b[0;34m,\u001b[0m \u001b[0mfeed_dict\u001b[0m\u001b[0;34m,\u001b[0m \u001b[0mfetch_list\u001b[0m\u001b[0;34m)\u001b[0m\u001b[0;34m:\u001b[0m\u001b[0;34m\u001b[0m\u001b[0m\n",
      "\u001b[0;31mKeyboardInterrupt\u001b[0m: "
     ],
     "output_type": "error"
    }
   ],
   "source": [
    "n_epochs = 2000\n",
    "input_data_size = 5\n",
    "frame_shift = 1\n",
    "\n",
    "# model = get_basic_generative_model(input_data_size+labs.shape[2])\n",
    "# (65713-control_input_size)/1025 = input_data_size: 64\n",
    "model = get_basic_generative_model(input_data_size*len(np.fft.rfft(np.zeros(20)))+113)\n",
    "# model = load_model(local_path+\"sp_model_2.h5\")\n",
    "training_data_gen = frame_generator(sps[0:29], input_data_size, frame_shift, \n",
    "                                    labs[0:29])\n",
    "validation_data_gen = frame_generator(sps[1:2], input_data_size, frame_shift, \n",
    "                                      labs[1:2])\n",
    "\n",
    "# model.fit_generator(training_data_gen, samples_per_epoch=100, nb_epoch=n_epochs,\n",
    "#                     validation_data=validation_data_gen, nb_val_samples=500, verbose=1,\n",
    "#                     callbacks=[TensorBoard(log_dir='./tmp/log', histogram_freq=0, write_graph=True,\n",
    "#                                           write_images=True)])\n",
    "\n",
    "model.fit_generator(training_data_gen, samples_per_epoch=5000, nb_epoch=n_epochs,\n",
    "                     nb_val_samples=500, verbose=1,\n",
    "                    callbacks=[TensorBoard(log_dir='./tmp/log', histogram_freq=0, write_graph=True,\n",
    "                                          write_images=True)])"
   ]
  },
  {
   "cell_type": "code",
   "execution_count": 87,
   "metadata": {},
   "outputs": [],
   "source": [
    "model.save(local_path+'sp_model_fft_60.h5')"
   ]
  },
  {
   "cell_type": "code",
   "execution_count": null,
   "metadata": {},
   "outputs": [],
   "source": [
    "for lab_file_index in range(0, len(f0s[0:29])):\n",
    "    total_frame_len = len(f0s[0:29][lab_file_index])\n",
    "    X = []\n",
    "    y = []\n",
    "    for cold_start_index in range(0, 64):\n",
    "        frame = np.zeros((64 - cold_start_index, 1))\n",
    "        frame = np.append(frame, f0s[0:29][lab_file_index][:cold_start_index])\n",
    "        frame = np.append(frame, labs[0:29][lab_file_index][cold_start_index])\n",
    "        X.append(frame.reshape((64 + labs[0:29].shape[2], 1)))\n",
    "        print(X[-1:])\n",
    "        temp = sps[0:29][lab_file_index][cold_start_index]\n",
    "        temp = np.array([i for index, i in enumerate(temp) if index % 10 == 0])\n",
    "        temp = np.log(temp)\n",
    "        temp = -np.round(temp)\n",
    "        y.append(temp)"
   ]
  },
  {
   "cell_type": "code",
   "execution_count": 7,
   "metadata": {
    "collapsed": true
   },
   "outputs": [
    {
     "ename": "OSError",
     "evalue": "Unable to open file (file signature not found)",
     "traceback": [
      "\u001b[0;31m---------------------------------------------------------------------------\u001b[0m",
      "\u001b[0;31mOSError\u001b[0m                                   Traceback (most recent call last)",
      "\u001b[0;32m<ipython-input-7-fe05800f4336>\u001b[0m in \u001b[0;36m<module>\u001b[0;34m()\u001b[0m\n\u001b[0;32m----> 1\u001b[0;31m \u001b[0mmodel\u001b[0m \u001b[0;34m=\u001b[0m \u001b[0mload_model\u001b[0m\u001b[0;34m(\u001b[0m\u001b[0mlocal_path\u001b[0m\u001b[0;34m+\u001b[0m\u001b[0;34m'sp_model_10_modi.h5'\u001b[0m\u001b[0;34m)\u001b[0m\u001b[0;34m\u001b[0m\u001b[0m\n\u001b[0m\u001b[1;32m      2\u001b[0m \u001b[0;31m# new_sps = sp_generate(model,64,64+labs.shape[2],labs[0])\u001b[0m\u001b[0;34m\u001b[0m\u001b[0;34m\u001b[0m\u001b[0m\n",
      "\u001b[0;32m~/anaconda/envs/tensorflow/lib/python3.5/site-packages/keras/engine/saving.py\u001b[0m in \u001b[0;36mload_model\u001b[0;34m(filepath, custom_objects, compile)\u001b[0m\n\u001b[1;32m    248\u001b[0m     \u001b[0mopened_new_file\u001b[0m \u001b[0;34m=\u001b[0m \u001b[0;32mnot\u001b[0m \u001b[0misinstance\u001b[0m\u001b[0;34m(\u001b[0m\u001b[0mfilepath\u001b[0m\u001b[0;34m,\u001b[0m \u001b[0mh5py\u001b[0m\u001b[0;34m.\u001b[0m\u001b[0mFile\u001b[0m\u001b[0;34m)\u001b[0m\u001b[0;34m\u001b[0m\u001b[0m\n\u001b[1;32m    249\u001b[0m     \u001b[0;32mif\u001b[0m \u001b[0mopened_new_file\u001b[0m\u001b[0;34m:\u001b[0m\u001b[0;34m\u001b[0m\u001b[0m\n\u001b[0;32m--> 250\u001b[0;31m         \u001b[0mf\u001b[0m \u001b[0;34m=\u001b[0m \u001b[0mh5py\u001b[0m\u001b[0;34m.\u001b[0m\u001b[0mFile\u001b[0m\u001b[0;34m(\u001b[0m\u001b[0mfilepath\u001b[0m\u001b[0;34m,\u001b[0m \u001b[0mmode\u001b[0m\u001b[0;34m=\u001b[0m\u001b[0;34m'r'\u001b[0m\u001b[0;34m)\u001b[0m\u001b[0;34m\u001b[0m\u001b[0m\n\u001b[0m\u001b[1;32m    251\u001b[0m     \u001b[0;32melse\u001b[0m\u001b[0;34m:\u001b[0m\u001b[0;34m\u001b[0m\u001b[0m\n\u001b[1;32m    252\u001b[0m         \u001b[0mf\u001b[0m \u001b[0;34m=\u001b[0m \u001b[0mfilepath\u001b[0m\u001b[0;34m\u001b[0m\u001b[0m\n",
      "\u001b[0;32m~/anaconda/envs/tensorflow/lib/python3.5/site-packages/h5py/_hl/files.py\u001b[0m in \u001b[0;36m__init__\u001b[0;34m(self, name, mode, driver, libver, userblock_size, swmr, **kwds)\u001b[0m\n\u001b[1;32m    310\u001b[0m             \u001b[0;32mwith\u001b[0m \u001b[0mphil\u001b[0m\u001b[0;34m:\u001b[0m\u001b[0;34m\u001b[0m\u001b[0m\n\u001b[1;32m    311\u001b[0m                 \u001b[0mfapl\u001b[0m \u001b[0;34m=\u001b[0m \u001b[0mmake_fapl\u001b[0m\u001b[0;34m(\u001b[0m\u001b[0mdriver\u001b[0m\u001b[0;34m,\u001b[0m \u001b[0mlibver\u001b[0m\u001b[0;34m,\u001b[0m \u001b[0;34m**\u001b[0m\u001b[0mkwds\u001b[0m\u001b[0;34m)\u001b[0m\u001b[0;34m\u001b[0m\u001b[0m\n\u001b[0;32m--> 312\u001b[0;31m                 \u001b[0mfid\u001b[0m \u001b[0;34m=\u001b[0m \u001b[0mmake_fid\u001b[0m\u001b[0;34m(\u001b[0m\u001b[0mname\u001b[0m\u001b[0;34m,\u001b[0m \u001b[0mmode\u001b[0m\u001b[0;34m,\u001b[0m \u001b[0muserblock_size\u001b[0m\u001b[0;34m,\u001b[0m \u001b[0mfapl\u001b[0m\u001b[0;34m,\u001b[0m \u001b[0mswmr\u001b[0m\u001b[0;34m=\u001b[0m\u001b[0mswmr\u001b[0m\u001b[0;34m)\u001b[0m\u001b[0;34m\u001b[0m\u001b[0m\n\u001b[0m\u001b[1;32m    313\u001b[0m \u001b[0;34m\u001b[0m\u001b[0m\n\u001b[1;32m    314\u001b[0m                 \u001b[0;32mif\u001b[0m \u001b[0mswmr_support\u001b[0m\u001b[0;34m:\u001b[0m\u001b[0;34m\u001b[0m\u001b[0m\n",
      "\u001b[0;32m~/anaconda/envs/tensorflow/lib/python3.5/site-packages/h5py/_hl/files.py\u001b[0m in \u001b[0;36mmake_fid\u001b[0;34m(name, mode, userblock_size, fapl, fcpl, swmr)\u001b[0m\n\u001b[1;32m    140\u001b[0m         \u001b[0;32mif\u001b[0m \u001b[0mswmr\u001b[0m \u001b[0;32mand\u001b[0m \u001b[0mswmr_support\u001b[0m\u001b[0;34m:\u001b[0m\u001b[0;34m\u001b[0m\u001b[0m\n\u001b[1;32m    141\u001b[0m             \u001b[0mflags\u001b[0m \u001b[0;34m|=\u001b[0m \u001b[0mh5f\u001b[0m\u001b[0;34m.\u001b[0m\u001b[0mACC_SWMR_READ\u001b[0m\u001b[0;34m\u001b[0m\u001b[0m\n\u001b[0;32m--> 142\u001b[0;31m         \u001b[0mfid\u001b[0m \u001b[0;34m=\u001b[0m \u001b[0mh5f\u001b[0m\u001b[0;34m.\u001b[0m\u001b[0mopen\u001b[0m\u001b[0;34m(\u001b[0m\u001b[0mname\u001b[0m\u001b[0;34m,\u001b[0m \u001b[0mflags\u001b[0m\u001b[0;34m,\u001b[0m \u001b[0mfapl\u001b[0m\u001b[0;34m=\u001b[0m\u001b[0mfapl\u001b[0m\u001b[0;34m)\u001b[0m\u001b[0;34m\u001b[0m\u001b[0m\n\u001b[0m\u001b[1;32m    143\u001b[0m     \u001b[0;32melif\u001b[0m \u001b[0mmode\u001b[0m \u001b[0;34m==\u001b[0m \u001b[0;34m'r+'\u001b[0m\u001b[0;34m:\u001b[0m\u001b[0;34m\u001b[0m\u001b[0m\n\u001b[1;32m    144\u001b[0m         \u001b[0mfid\u001b[0m \u001b[0;34m=\u001b[0m \u001b[0mh5f\u001b[0m\u001b[0;34m.\u001b[0m\u001b[0mopen\u001b[0m\u001b[0;34m(\u001b[0m\u001b[0mname\u001b[0m\u001b[0;34m,\u001b[0m \u001b[0mh5f\u001b[0m\u001b[0;34m.\u001b[0m\u001b[0mACC_RDWR\u001b[0m\u001b[0;34m,\u001b[0m \u001b[0mfapl\u001b[0m\u001b[0;34m=\u001b[0m\u001b[0mfapl\u001b[0m\u001b[0;34m)\u001b[0m\u001b[0;34m\u001b[0m\u001b[0m\n",
      "\u001b[0;32mh5py/_objects.pyx\u001b[0m in \u001b[0;36mh5py._objects.with_phil.wrapper\u001b[0;34m()\u001b[0m\n",
      "\u001b[0;32mh5py/_objects.pyx\u001b[0m in \u001b[0;36mh5py._objects.with_phil.wrapper\u001b[0;34m()\u001b[0m\n",
      "\u001b[0;32mh5py/h5f.pyx\u001b[0m in \u001b[0;36mh5py.h5f.open\u001b[0;34m()\u001b[0m\n",
      "\u001b[0;31mOSError\u001b[0m: Unable to open file (file signature not found)"
     ],
     "output_type": "error"
    }
   ],
   "source": [
    "model = load_model(local_path+'sp_model_10_modi.h5')\n",
    "# new_sps = sp_generate(model,64,64+labs.shape[2],labs[0])\n"
   ]
  },
  {
   "cell_type": "code",
   "execution_count": 89,
   "metadata": {
    "collapsed": false
   },
   "outputs": [
    {
     "name": "stdout",
     "output_type": "stream",
     "text": [
      "Generating audio...\n"
     ]
    },
    {
     "name": "stdout",
     "output_type": "stream",
     "text": [
      "1.0\n"
     ]
    },
    {
     "name": "stdout",
     "output_type": "stream",
     "text": [
      "2.0\n"
     ]
    },
    {
     "name": "stdout",
     "output_type": "stream",
     "text": [
      "3.0\n"
     ]
    },
    {
     "name": "stdout",
     "output_type": "stream",
     "text": [
      "4.0\n"
     ]
    },
    {
     "name": "stdout",
     "output_type": "stream",
     "text": [
      "5.0\n"
     ]
    },
    {
     "name": "stdout",
     "output_type": "stream",
     "text": [
      "6.0\n"
     ]
    },
    {
     "name": "stdout",
     "output_type": "stream",
     "text": [
      "7.0\n"
     ]
    },
    {
     "name": "stdout",
     "output_type": "stream",
     "text": [
      "8.0\n"
     ]
    },
    {
     "name": "stdout",
     "output_type": "stream",
     "text": [
      "9.0\n"
     ]
    },
    {
     "name": "stdout",
     "output_type": "stream",
     "text": [
      "10.0\nAudio generated.\n"
     ]
    }
   ],
   "source": [
    "# new_sps = sp_generate(model,64,6705,labs[0])\n",
    "new_sps = sp_generate(model,input_data_size,input_data_size*math.ceil(1025/20)+113,labs[0])\n",
    "# \n",
    "# new_sps = sp_generate(model,64,1143,labs[0])"
   ]
  },
  {
   "cell_type": "code",
   "execution_count": 142,
   "metadata": {},
   "outputs": [
    {
     "ename": "TypeError",
     "evalue": "'NoneType' object cannot be interpreted as an integer",
     "traceback": [
      "\u001b[0;31m---------------------------------------------------------------------------\u001b[0m",
      "\u001b[0;31mTypeError\u001b[0m                                 Traceback (most recent call last)",
      "\u001b[0;32m<ipython-input-142-cb49d5c815a9>\u001b[0m in \u001b[0;36m<module>\u001b[0;34m()\u001b[0m\n\u001b[1;32m     21\u001b[0m         \u001b[0mnew_frame\u001b[0m\u001b[0;34m.\u001b[0m\u001b[0mappend\u001b[0m\u001b[0;34m(\u001b[0m\u001b[0mtemp\u001b[0m\u001b[0;34m)\u001b[0m\u001b[0;34m\u001b[0m\u001b[0m\n\u001b[1;32m     22\u001b[0m     \u001b[0mframe\u001b[0m \u001b[0;34m=\u001b[0m \u001b[0mnp\u001b[0m\u001b[0;34m.\u001b[0m\u001b[0marray\u001b[0m\u001b[0;34m(\u001b[0m\u001b[0mnew_frame\u001b[0m\u001b[0;34m)\u001b[0m\u001b[0;34m\u001b[0m\u001b[0m\n\u001b[0;32m---> 23\u001b[0;31m     \u001b[0mframe\u001b[0m \u001b[0;34m=\u001b[0m \u001b[0mnp\u001b[0m\u001b[0;34m.\u001b[0m\u001b[0mappend\u001b[0m\u001b[0;34m(\u001b[0m\u001b[0mnp\u001b[0m\u001b[0;34m.\u001b[0m\u001b[0mzeros\u001b[0m\u001b[0;34m(\u001b[0m\u001b[0;34m(\u001b[0m\u001b[0minput_data_size\u001b[0m \u001b[0;34m-\u001b[0m \u001b[0mcold_start_index\u001b[0m\u001b[0;34m,\u001b[0m \u001b[0mlen_of_sp\u001b[0m\u001b[0;34m)\u001b[0m\u001b[0;34m)\u001b[0m\u001b[0;34m,\u001b[0m \u001b[0mframe\u001b[0m\u001b[0;34m)\u001b[0m\u001b[0;34m\u001b[0m\u001b[0m\n\u001b[0m\u001b[1;32m     24\u001b[0m \u001b[0;34m\u001b[0m\u001b[0m\n\u001b[1;32m     25\u001b[0m     \u001b[0;31m# frame = np.append(frame.flatten(), total_frame[lab_file_index][:cold_start_index].flatten())\u001b[0m\u001b[0;34m\u001b[0m\u001b[0;34m\u001b[0m\u001b[0m\n",
      "\u001b[0;31mTypeError\u001b[0m: 'NoneType' object cannot be interpreted as an integer"
     ],
     "output_type": "error"
    }
   ],
   "source": [
    "total_frame, input_data_size, frame_shift, control_input = sps[0:29], 10, frame_shift, labs[0:29]\n",
    "\n",
    "X = []\n",
    "y = []\n",
    "lab_file_index = 0\n",
    "total_frame_len = len(total_frame[lab_file_index])\n",
    "for cold_start_index in range(0, input_data_size):\n",
    "    frame = total_frame[lab_file_index][:cold_start_index]\n",
    "    new_frame = []\n",
    "    for i in range(len(frame)):\n",
    "        temp = frame[i]\n",
    "        # temp = np.array([i for index, i in enumerate(temp) if index % 10 == 0])\n",
    "        # temp = np.log(temp + 0.000000000000000000000000000000000000000000001)\n",
    "        # temp = -np.round(temp)\n",
    "        temp = np.log(temp)\n",
    "        temp = np.fft.irfft(temp)\n",
    "        temp = temp[:20]\n",
    "        temp = np.fft.rfft(temp)\n",
    "        new_frame.append(temp)\n",
    "    frame = np.array(new_frame)\n",
    "    frame = np.append(np.zeros((input_data_size - cold_start_index, len(np.fft.irfft(np.zeros((20)))))), frame)\n",
    "\n",
    "    # frame = np.append(frame.flatten(), total_frame[lab_file_index][:cold_start_index].flatten())\n",
    "    frame = np.append(frame.flatten(), control_input[lab_file_index][cold_start_index])\n",
    "\n",
    "    # X.append(frame.reshape((input_data_size+ control_input.shape[2], 1)))\n",
    "    X.append(frame.reshape((frame.shape[0], 1)))\n",
    "    # print(frame.reshape((frame.shape[0], 1)).shape)\n",
    "    temp = total_frame[lab_file_index][cold_start_index]\n",
    "    temp = np.array([i for index, i in enumerate(temp) if index % 10 == 0])\n",
    "    temp = np.log(temp + 0.000000000000000000000000000000000000000000001)\n",
    "    temp = -np.round(temp)\n",
    "    # temp= np.log(temp)\n",
    "    # temp = np.fft.rfft(temp)\n",
    "    # temp = temp[:20]\n",
    "    # temp = np.fft.irfft(temp)\n",
    "    y.append(temp)\n",
    "    if len(X) == minibatch_size:\n",
    "        print(1, np.array(X).shape, np.array(y).shape)\n",
    "        X = []\n",
    "        y = []\n",
    "print(1.5, np.array(X).shape)\n",
    "for i in range(0, total_frame_len - input_data_size - 1, frame_shift):\n",
    "\n",
    "    # 获取一帧 (input_data_size, 1025)\n",
    "    frame = total_frame[lab_file_index][i:i + input_data_size]\n",
    "\n",
    "    # print(frame.shape)\n",
    "    # print(frame.shape)\n",
    "\n",
    "    new_frame = []\n",
    "    for j in range(len(frame)):\n",
    "        temp = frame[j]\n",
    "        # temp = np.array([k for index, k in enumerate(temp) if index % 10 == 0])\n",
    "        # temp = np.log(temp + 0.000000000000000000000000000000000000000000001)\n",
    "        # temp = -np.round(temp)\n",
    "        temp = np.log(temp)\n",
    "        temp = np.fft.rfft(temp)\n",
    "        temp = temp[:20]\n",
    "        temp = np.fft.irfft(temp)\n",
    "        new_frame.append(temp)\n",
    "    frame = np.array(new_frame)\n",
    "\n",
    "    if len(frame) < input_data_size:\n",
    "        break\n",
    "\n",
    "    if i + input_data_size >= total_frame_len:\n",
    "        break\n",
    "\n",
    "    # 获取该帧 frame 后面的那个sample\n",
    "    temp = total_frame[lab_file_index][i + input_data_size]\n",
    "    # temp = np.array([i for index, i in enumerate(temp) if index % 10 == 0])\n",
    "    # temp = np.log(temp + 0.000000000000000000000000000000000000000000001)\n",
    "    # temp = -np.round(temp)\n",
    "    temp = np.log(temp)\n",
    "    temp = np.fft.rfft(temp)\n",
    "    temp = temp[:20]\n",
    "    temp = np.fft.irfft(temp)\n",
    "    # (1,1025)? \n",
    "    # target_val = int(temp)\n",
    "\n",
    "    # frame.shape = (64,1)\n",
    "\n",
    "    # Control Input\n",
    "    frame = np.append(frame.flatten(), control_input[lab_file_index][i + input_data_size])\n",
    "    # X值即前一帧\n",
    "    X.append(frame.reshape((frame.shape[0], 1)))\n",
    "    # print(frame.reshape((frame.shape[0], 1)).shape)\n",
    "    y.append(temp)\n",
    "    # print(temp.shape)\n",
    "\n",
    "    # 获取一个mini-batch的数据返回\n",
    "    if len(X) == minibatch_size:\n",
    "        # print(len(X))\n",
    "        print(2, np.array(X).shape, np.array(y).shape)\n",
    "        X = []\n",
    "        y = []\n",
    "        break\n"
   ]
  },
  {
   "cell_type": "code",
   "execution_count": 76,
   "metadata": {},
   "outputs": [],
   "source": [
    "with open(local_path+\"new_sps_fft_4.txt\",'w',encoding='utf-8') as f:\n",
    "    for i in range(0,len(new_sps)):\n",
    "        for j in range(len(new_sps[i])):\n",
    "            f.write(str(new_sps[i][j])+\",\")\n",
    "        f.write(\"\\r\\n\")"
   ]
  },
  {
   "cell_type": "code",
   "execution_count": 23,
   "metadata": {
    "collapsed": true
   },
   "outputs": [
    {
     "name": "stdout",
     "output_type": "stream",
     "text": [
      "(20,) (20, 11)\n"
     ]
    }
   ],
   "source": [
    "minibatch_size=20\n",
    "total_frame, input_data_size, frame_shift, control_input = sps[0:29], input_data_size, frame_shift, labs[0:29]\n",
    "lab_file_index=0\n",
    "total_frame_len = len(total_frame[lab_file_index])\n",
    "\n",
    "X = []\n",
    "y = []\n",
    "for cold_start_index in range(0, input_data_size):\n",
    "    # frame = np.zeros((input_data_size - cold_start_index, 103))\n",
    "    \n",
    "    frame = total_frame[lab_file_index][:cold_start_index]\n",
    "    new_frame = []\n",
    "    for i in range(len(frame)):\n",
    "        temp = frame[i]\n",
    "        temp = [0.00000000001 if i==0 else i for i in temp]\n",
    "        temp = np.log(temp)\n",
    "        temp = np.fft.irfft(temp)\n",
    "        temp = temp[:20]\n",
    "        temp = np.fft.rfft(temp)\n",
    "        # temp = np.array([i for index, i in enumerate(temp) if index % 10 == 0])\n",
    "        # temp = np.log(temp + 0.000000000000000000000000000000000000000000001)\n",
    "        # temp = -np.round(temp)\n",
    "        new_frame.append(temp)\n",
    "    frame = np.array(new_frame)\n",
    "    frame = np.append(np.zeros((input_data_size - cold_start_index, len(np.fft.irfft(np.zeros(20))))),\n",
    "                      frame)\n",
    "    \n",
    "    # frame = np.append(frame.flatten(), total_frame[lab_file_index][:cold_start_index].flatten())\n",
    "    frame = np.append(frame.flatten(), control_input[lab_file_index][cold_start_index])\n",
    "    \n",
    "    # X.append(frame.reshape((input_data_size+ control_input.shape[2], 1)))\n",
    "    X.append(frame.reshape((frame.shape[0], 1)))\n",
    "    # print(frame.reshape((frame.shape[0], 1)).shape)\n",
    "    temp = total_frame[lab_file_index][cold_start_index]\n",
    "    # temp = np.array([i for index, i in enumerate(temp) if index % 10 == 0])\n",
    "    # temp = np.log(temp + 0.000000000000000000000000000000000000000000001)\n",
    "    # temp = -np.round(temp)\n",
    "    temp = [0.00000000001 if i==0 else i for i in temp]\n",
    "    temp = np.log(temp)\n",
    "    temp = np.fft.irfft(temp)\n",
    "    temp = temp[:20]\n",
    "    temp = np.fft.rfft(temp)\n",
    "    y.append(temp)\n",
    "    # print(temp.shape)\n",
    "    if len(X) == minibatch_size:\n",
    "        print(np.array(X).shape, np.array(y).shape) \n",
    "        X = []\n",
    "        y = []\n",
    "    \n",
    "    for i in range(0, total_frame_len - input_data_size - 1, frame_shift):\n",
    "        \n",
    "        # 获取一帧 (input_data_size, 1025)\n",
    "        frame = total_frame[lab_file_index][i:i + input_data_size]\n",
    "        \n",
    "        # print(frame.shape)\n",
    "        # print(frame.shape)\n",
    "        \n",
    "        new_frame = []\n",
    "        for j in range(len(frame)):\n",
    "            temp = frame[j]\n",
    "            temp = [0.00000000001 if i==0 else i for i in temp]\n",
    "            temp = np.log(temp)\n",
    "            temp = np.fft.irfft(temp)\n",
    "            temp = temp[:20]\n",
    "            temp = np.fft.rfft(temp)\n",
    "            # temp = np.array([k for index, k in enumerate(temp) if index % 10 == 0])\n",
    "            # temp = np.log(temp + 0.000000000000000000000000000000000000000000001)\n",
    "            # temp = -np.round(temp)\n",
    "            new_frame.append(temp)\n",
    "        frame = np.array(new_frame)\n",
    "        \n",
    "        if len(frame) < input_data_size:\n",
    "            break\n",
    "        \n",
    "        if i + input_data_size >= total_frame_len:\n",
    "            break\n",
    "        \n",
    "        # 获取该帧 frame 后面的那个sample\n",
    "        temp = total_frame[lab_file_index][i + input_data_size]\n",
    "        # temp = np.array([i for index, i in enumerate(temp) if index % 10 == 0])\n",
    "        # temp = np.log(temp + 0.000000000000000000000000000000000000000000001)\n",
    "        # temp = -np.round(temp)\n",
    "        temp = [0.00000000001 if i==0 else i for i in temp]\n",
    "        temp = np.log(temp)\n",
    "        temp = np.fft.irfft(temp)\n",
    "        temp = temp[:20]\n",
    "        temp = np.fft.rfft(temp)\n",
    "        # (1,1025)? \n",
    "        # target_val = int(temp)\n",
    "        \n",
    "        # frame.shape = (64,1)\n",
    "        \n",
    "        # Control Input\n",
    "        frame = np.append(frame.flatten(), control_input[lab_file_index][i + input_data_size])\n",
    "        # X值即前一帧\n",
    "        X.append(frame.reshape((frame.shape[0], 1)))\n",
    "        # print(frame.reshape((frame.shape[0], 1)).shape)\n",
    "        y.append(temp)\n",
    "        # print(temp.shape)\n",
    "        \n",
    "        # 获取一个mini-batch的数据返回\n",
    "        if len(X) == minibatch_size:\n",
    "            print(np.array(X).shape, np.array(y).shape)\n",
    "            break\n",
    "            X = []\n",
    "            y = []"
   ]
  },
  {
   "cell_type": "code",
   "execution_count": 54,
   "metadata": {},
   "outputs": [
    {
     "name": "stdout",
     "output_type": "stream",
     "text": [
      "(6705,)\n"
     ]
    }
   ],
   "source": [
    "i=0\n",
    "# 获取一帧 (64, 1025)\n",
    "frame = total_frame[lab_file_index][i:i + input_data_size]\n",
    "\n",
    "new_frame = []\n",
    "for j in range(len(frame)):\n",
    "    temp = frame[j]\n",
    "    temp = np.array([k for index, k in enumerate(temp) if index % 10 == 0])\n",
    "    temp = np.log(temp + 0.000000000000000000000000000000000000000000001)\n",
    "    temp = -np.round(temp)\n",
    "    new_frame.append(temp)\n",
    "# 64,103 = 6592\n",
    "frame = np.array(new_frame)\n",
    "\n",
    "# 获取该帧 frame 后面的那个sample\n",
    "temp = total_frame[lab_file_index][i + input_data_size]\n",
    "temp = np.array([i for index, i in enumerate(temp) if index % 10 == 0])\n",
    "temp = np.log(temp + 0.000000000000000000000000000000000000000000001)\n",
    "# (103,)\n",
    "temp = -np.round(temp)\n",
    "# Control Input\n",
    "frame = np.append(frame.flatten(), control_input[lab_file_index][i + input_data_size])\n",
    "print(frame.shape)\n",
    "# X值即前一帧\n",
    "X.append(frame.reshape((frame.shape[0], 1)))\n",
    "# print(frame.reshape((frame.shape[0], 1)).shape)\n",
    "y.append(temp)\n",
    "# print(temp.shape)"
   ]
  },
  {
   "cell_type": "code",
   "execution_count": 185,
   "metadata": {},
   "outputs": [
    {
     "data": {
      "text/plain": [
       "array([1, 1, 1, 1, 1, 0, 1, 1, 1, 1, 2, 2, 2, 2, 1, 1, 1, 1, 2, 2, 2, 2,\n       2, 2, 2, 2, 2, 2, 2, 2, 2, 2, 2, 2, 2, 2, 2, 2, 2, 2, 2, 2, 2, 2,\n       2, 2, 2, 2, 2, 2, 2, 2, 2, 2, 2, 2, 2, 2, 2, 2, 2, 2, 2, 2, 2, 2,\n       2, 2, 2, 2, 2, 2, 2, 2, 2, 2, 2, 2, 2, 2, 2, 2, 2, 2, 2, 2, 2, 2,\n       2, 2, 2, 3, 2, 2, 3, 3, 3, 3, 3, 3, 3, 3, 3], dtype=int16)"
      ]
     },
     "execution_count": 185,
     "metadata": {},
     "output_type": "execute_result"
    }
   ],
   "source": [
    "new_sps[0]"
   ]
  },
  {
   "cell_type": "code",
   "execution_count": 49,
   "metadata": {},
   "outputs": [
    {
     "name": "stdout",
     "output_type": "stream",
     "text": [
      "[15. 15. 17. 21. 22. 22. 22. 22. 22. 23. 25. 24. 22. 21. 22. 23. 23. 24.\n 24. 23. 22. 22. 22. 22. 23. 22. 22. 21. 21. 21. 22. 23. 23. 22. 22. 23.\n 22. 22. 21. 22. 23. 23. 22. 21. 22. 24. 23. 22. 22. 23. 23. 22. 22. 22.\n 22. 23. 23. 23. 23. 22. 21. 21. 22. 23. 22. 21. 21. 22. 24. 25. 24. 23.\n 22. 22. 22. 23. 22. 21. 22. 25. 27. 25. 24. 23. 22. 21. 23. 24. 23. 21.\n 21. 23. 24. 23. 21. 21. 22. 23. 23. 23. 22. 22. 22.]\n"
     ]
    },
    {
     "ename": "TypeError",
     "evalue": "'numpy.int16' object is not iterable",
     "traceback": [
      "\u001b[0;31m---------------------------------------------------------------------------\u001b[0m",
      "\u001b[0;31mTypeError\u001b[0m                                 Traceback (most recent call last)",
      "\u001b[0;32m<ipython-input-49-4d3b7b9d7815>\u001b[0m in \u001b[0;36m<module>\u001b[0;34m()\u001b[0m\n\u001b[1;32m      6\u001b[0m \u001b[0;34m\u001b[0m\u001b[0m\n\u001b[1;32m      7\u001b[0m \u001b[0mtemp\u001b[0m \u001b[0;34m=\u001b[0m \u001b[0mnew_sps\u001b[0m\u001b[0;34m[\u001b[0m\u001b[0;36m0\u001b[0m\u001b[0;34m:\u001b[0m\u001b[0;36m29\u001b[0m\u001b[0;34m]\u001b[0m\u001b[0;34m[\u001b[0m\u001b[0;36m0\u001b[0m\u001b[0;34m]\u001b[0m\u001b[0;34m[\u001b[0m\u001b[0;36m0\u001b[0m\u001b[0;34m]\u001b[0m\u001b[0;34m\u001b[0m\u001b[0m\n\u001b[0;32m----> 8\u001b[0;31m \u001b[0mtemp\u001b[0m \u001b[0;34m=\u001b[0m \u001b[0mnp\u001b[0m\u001b[0;34m.\u001b[0m\u001b[0marray\u001b[0m\u001b[0;34m(\u001b[0m\u001b[0;34m[\u001b[0m\u001b[0mi\u001b[0m \u001b[0;32mfor\u001b[0m \u001b[0mindex\u001b[0m\u001b[0;34m,\u001b[0m \u001b[0mi\u001b[0m \u001b[0;32min\u001b[0m \u001b[0menumerate\u001b[0m\u001b[0;34m(\u001b[0m\u001b[0mtemp\u001b[0m\u001b[0;34m)\u001b[0m \u001b[0;32mif\u001b[0m \u001b[0mindex\u001b[0m \u001b[0;34m%\u001b[0m \u001b[0;36m10\u001b[0m \u001b[0;34m==\u001b[0m \u001b[0;36m0\u001b[0m\u001b[0;34m]\u001b[0m\u001b[0;34m)\u001b[0m\u001b[0;34m\u001b[0m\u001b[0m\n\u001b[0m\u001b[1;32m      9\u001b[0m \u001b[0mtemp\u001b[0m \u001b[0;34m=\u001b[0m \u001b[0mnp\u001b[0m\u001b[0;34m.\u001b[0m\u001b[0mlog\u001b[0m\u001b[0;34m(\u001b[0m\u001b[0mtemp\u001b[0m\u001b[0;34m)\u001b[0m\u001b[0;34m\u001b[0m\u001b[0m\n\u001b[1;32m     10\u001b[0m \u001b[0mtemp\u001b[0m \u001b[0;34m=\u001b[0m \u001b[0;34m-\u001b[0m\u001b[0mnp\u001b[0m\u001b[0;34m.\u001b[0m\u001b[0mround\u001b[0m\u001b[0;34m(\u001b[0m\u001b[0mtemp\u001b[0m\u001b[0;34m)\u001b[0m\u001b[0;34m\u001b[0m\u001b[0m\n",
      "\u001b[0;31mTypeError\u001b[0m: 'numpy.int16' object is not iterable"
     ],
     "output_type": "error"
    }
   ],
   "source": [
    "temp = sps[0:29][0][0]\n",
    "temp = np.array([i for index, i in enumerate(temp) if index % 10 == 0])\n",
    "temp = np.log(temp)\n",
    "temp = -np.round(temp)\n",
    "print(temp)\n",
    "\n",
    "temp = new_sps[0:29][0][0]\n",
    "temp = np.array([i for index, i in enumerate(temp) if index % 10 == 0])\n",
    "temp = np.log(temp)\n",
    "temp = -np.round(temp)\n",
    "print(temp)"
   ]
  },
  {
   "cell_type": "code",
   "execution_count": 92,
   "metadata": {},
   "outputs": [
    {
     "name": "stdout",
     "output_type": "stream",
     "text": [
      "(7000, 1025)\n"
     ]
    }
   ],
   "source": [
    "from scipy import interpolate \n",
    "\n",
    "sps_cp = copy.copy(new_sps)\n",
    "new_sps2=np.zeros((7000,1025))\n",
    "for sps_index in range(len(sps_cp)):\n",
    "    _sps =sps_cp[sps_index] \n",
    "    f = interpolate.interp1d(np.array(range(0, len(_sps))), _sps, kind='slinear')\n",
    "    sp2 = f(np.arange(0,len(_sps)-1,(len(_sps)-1)/1025))\n",
    "    sp2=np.exp(-sp2)\n",
    "    new_sps2[sps_index] = sp2\n",
    "# \n",
    "print(new_sps2.shape)"
   ]
  },
  {
   "cell_type": "code",
   "execution_count": 227,
   "metadata": {},
   "outputs": [],
   "source": [
    ""
   ]
  },
  {
   "cell_type": "code",
   "execution_count": 93,
   "metadata": {},
   "outputs": [],
   "source": [
    "with open(local_path+\"new_sps_fft_60.txt\",'w',encoding='utf-8') as f:\n",
    "    for i in range(0,len(new_sps2)):\n",
    "        for j in range(len(new_sps2[i])):\n",
    "            f.write(str(new_sps2[i][j])+\",\")\n",
    "        f.write(\"\\r\\n\")"
   ]
  },
  {
   "cell_type": "code",
   "execution_count": 40,
   "metadata": {},
   "outputs": [
    {
     "data": {
      "text/plain": [
       "[<matplotlib.lines.Line2D at 0x1860f7c50>]"
      ]
     },
     "execution_count": 40,
     "metadata": {},
     "output_type": "execute_result"
    }
   ],
   "source": [
    "import matplotlib.pyplot as plt\n",
    "with open(local_path+'new_sps_5.txt','r') as f:\n",
    "    sp = np.zeros((6240, 1025))\n",
    "    lines = f.readlines()\n",
    "    for index in range(sp.shape[0]):\n",
    "        line = lines[index][:-2]\n",
    "        sp[index] = np.array(line.split(\",\"))\n",
    "sp.astype(float)\n",
    "plt.plot(np.log(sp[60]))"
   ]
  },
  {
   "cell_type": "code",
   "execution_count": 68,
   "metadata": {},
   "outputs": [
    {
     "data": {
      "text/plain": [
       "[<matplotlib.lines.Line2D at 0x1783a24e0>]"
      ]
     },
     "execution_count": 68,
     "metadata": {},
     "output_type": "execute_result"
    },
    {
     "data": {
      "image/png": "[encoded data removed]",
      "text/plain": [
       "<matplotlib.figure.Figure at 0x195f3a358>"
      ]
     },
     "metadata": {},
     "output_type": "display_data"
    }
   ],
   "source": [
    "plt.plot(new_sps2[0])"
   ]
  },
  {
   "cell_type": "code",
   "execution_count": 57,
   "metadata": {},
   "outputs": [
    {
     "data": {
      "text/plain": [
       "[<matplotlib.lines.Line2D at 0x196274f28>]"
      ]
     },
     "execution_count": 57,
     "metadata": {},
     "output_type": "execute_result"
    },
    {
     "data": {
      "image/png": "[encoded data removed]",
      "text/plain": [
       "<matplotlib.figure.Figure at 0x1961cbd30>"
      ]
     },
     "metadata": {},
     "output_type": "display_data"
    }
   ],
   "source": [
    "import matplotlib.pyplot as plt\n",
    "plt.plot(np.log(new_sps2[0]))"
   ]
  },
  {
   "cell_type": "code",
   "execution_count": 37,
   "metadata": {},
   "outputs": [
    {
     "data": {
      "text/plain": [
       "[<matplotlib.lines.Line2D at 0x19597f860>]"
      ]
     },
     "execution_count": 37,
     "metadata": {},
     "output_type": "execute_result"
    },
    {
     "data": {
      "image/png": "[encoded data removed]",
      "text/plain": [
       "<matplotlib.figure.Figure at 0x1959a4cc0>"
      ]
     },
     "metadata": {},
     "output_type": "display_data"
    }
   ],
   "source": [
    "plt.plot(np.log(sps[0][0]))"
   ]
  },
  {
   "cell_type": "code",
   "execution_count": 10,
   "metadata": {},
   "outputs": [
    {
     "data": {
      "text/plain": [
       "[<matplotlib.lines.Line2D at 0x117cf3898>]"
      ]
     },
     "execution_count": 10,
     "metadata": {},
     "output_type": "execute_result"
    },
    {
     "data": {
      "image/png": "[encoded data removed]",
      "text/plain": [
       "<matplotlib.figure.Figure at 0x117ad95f8>"
      ]
     },
     "metadata": {},
     "output_type": "display_data"
    }
   ],
   "source": [
    "mu, sigma = 10, .4\n",
    "s = np.random.normal(loc=mu, scale=sigma, size=1000)\n",
    "import matplotlib.pyplot as plt\n",
    "import scipy.stats as st\n",
    "count, bins, _ = plt.hist(s, 30, normed=True)\n",
    "# normed是进行拟合的关键\n",
    "# count统计某一bin出现的次数，在Normed为True时，可能其值会略有不同\n",
    "s_fit = np.linspace(s.min(), s.max())\n",
    "plt.plot(s_fit, st.norm(mu, sigma).pdf(s_fit), lw=2, c='r')"
   ]
  },
  {
   "cell_type": "code",
   "execution_count": null,
   "metadata": {},
   "outputs": [],
   "source": []
  }
 ],
 "metadata": {
  "kernelspec": {
   "display_name": "Python 2",
   "language": "python",
   "name": "python2"
  },
  "language_info": {
   "codemirror_mode": {
    "name": "ipython",
    "version": 2
   },
   "file_extension": ".py",
   "mimetype": "text/x-python",
   "name": "python",
   "nbconvert_exporter": "python",
   "pygments_lexer": "ipython2",
   "version": "2.7.6"
  }
 },
 "nbformat": 4,
 "nbformat_minor": 0
}
