{
 "cells": [
  {
   "cell_type": "code",
   "execution_count": 3,
   "metadata": {
    "collapsed": true
   },
   "outputs": [
    {
     "name": "stderr",
     "output_type": "stream",
     "text": [
      "Using TensorFlow backend.\n"
     ]
    },
    {
     "name": "stderr",
     "output_type": "stream",
     "text": [
      "/Users/Zizy/anaconda/lib/python3.5/importlib/_bootstrap.py:222: RuntimeWarning: compiletime version 3.6 of module 'tensorflow.python.framework.fast_tensor_util' does not match runtime version 3.5\n  return f(*args, **kwds)\n"
     ]
    }
   ],
   "source": [
    "import re\n",
    "import numpy as np\n",
    "import pandas as pd\n",
    "from keras.models import *\n",
    "from keras.layers import *\n",
    "from keras.layers import *\n",
    "from keras.utils import np_utils\n",
    "\n"
   ]
  },
  {
   "cell_type": "code",
   "execution_count": 182,
   "metadata": {},
   "outputs": [
    {
     "name": "stdout",
     "output_type": "stream",
     "text": [
      "120\n"
     ]
    }
   ],
   "source": [
    "reg = \"(.*) (.*) (.*)\\@(.*)\\^(.*)\\-(.*)\\+(.*)\\=(.*)\\_(.*)\\%(.*)\\^(.*)\\_(.*)\\~(.*)\\-(.*)\\!(.*)\\[(.*)\\$(.*)\\](.*)/A:(.*)\\-(.*)\\-(.*)\\@(.*)\\~(.*)/B:(.*)\\_(.*)\\_(.*)\\@(.*)\\|(.*)/C:(.*)\\+(.*)\\+(.*)\\@(.*)\\&(.*)/D:(.*)\\!(.*)\\#(.*)\\$(.*)\\%(.*)\\|(.*)\\&(.*)\\;(.*)\\-(.*)/E:(.*)\\](.*)\\^(.*)\\=(.*)\\~(.*)\\!(.*)\\@(.*)\\#(.*)\\+(.*)\\](.*)\\$(.*)\\|(.*)\\[(.*)\\&(.*)\\](.*)\\=(.*)\\^(.*)\\~(.*)\\#(.*)\\_(.*)\\;(.*)\\$(.*)\\&(.*)\\%(.*)\\[(.*)\\|(.*)\\](.*)\\-(.*)\\^(.*)\\+(.*)\\~(.*)\\=(.*)\\@(.*)\\$(.*)\\!(.*)\\%(.*)\\#(.*)\\|(.*)\\|(.*)\\-(.*)\\&(.*)\\&(.*)\\+(.*)\\[(.*)\\;(.*)\\](.*)\\;(.*)\\~(.*)\\~(.*)\\^(.*)\\^(.*)\\@(.*)\\[(.*)\\#(.*)\\=(.*)\\!(.*)\\~(.*)\\+(.*)\\!(.*)\\^(.*)/F:(.*)\\#(.*)\\#(.*)\\-(.*)\\$(.*)\\$(.*)\\+(.*)\\%(.*)\\;(.*)/G:(.*)\\_(.*)/H:(.*)\\_(.*)/I:(.*)\\_(.*)/J:(.*)\\~(.*)\\@(.*)\"\n",
    "li = re.findall(reg,\"0 12000000 p@xx^xx-pau+d=e_xx%xx^00_00~00-1!1[xx$xx]xx/A:xx-xx-xx@xx~xx/B:1_1_1@xx|xx/C:2+1+1@JPN&0/D:xx!xx#xx$xx%xx|xx&xx;xx-xx/E:xx]xx^2=2/4~100!1@120#48+xx]1$1|0[12&0]48=0^100~xx#xx_xx;xx$xx&xx%xx[xx|0]0-n^xx+xx~xx=xx@xx$xx!xx%xx#xx|xx|xx-xx&xx&xx+xx[xx;xx]xx;xx~xx~xx^xx^xx@xx[xx#xx=xx!xx~xx+xx!xx^xx/F:A4#7#2-2/4$100$1+45%18;xx/G:xx_xx/H:xx_xx/I:13_13/J:3~3@6\")\n",
    "print(len(li[0]))"
   ]
  },
  {
   "cell_type": "code",
   "execution_count": 184,
   "metadata": {},
   "outputs": [
    {
     "name": "stdout",
     "output_type": "stream",
     "text": [
      "lines num: 151\n"
     ]
    },
    {
     "name": "stdout",
     "output_type": "stream",
     "text": [
      "params num: 151\nfeature num: 120\n"
     ]
    }
   ],
   "source": [
    "\n",
    "\n",
    "file = open(\"/Users/Zizy/Programming/HKU/Dissertation/nitech_jp_song070_f001_003.lab\",\"r\")\n",
    "lines = file.readlines()\n",
    "\n",
    "\n",
    "print('lines num: %d'%(len(lines)))\n",
    "paramsList = [];\n",
    "for line in lines:\n",
    "    ps = re.findall(reg,line)\n",
    "    paramsList.append(ps[0])\n",
    "\n",
    "print('params num: %d'%(len(paramsList)))\n",
    "print('feature num: %d'%(len(paramsList[0])))"
   ]
  },
  {
   "cell_type": "code",
   "execution_count": 185,
   "metadata": {
    "collapsed": true
   },
   "outputs": [
    {
     "name": "stdout",
     "output_type": "stream",
     "text": [
      "('0', '12000000', 'p', 'xx', 'xx', 'pau', 'd', 'e', 'xx', 'xx', '00', '00', '00', '1', '1', 'xx', 'xx', 'xx', 'xx', 'xx', 'xx', 'xx', 'xx', '1', '1', '1', 'xx', 'xx', '2', '1', '1', 'JPN', '0', 'xx', 'xx', 'xx', 'xx', 'xx', 'xx', 'xx', 'xx', 'xx', 'xx', 'xx', '2', '2/4', '100', '1', '120', '48', 'xx', '1', '1', '0', '12', '0', '48', '0', '100', 'xx', 'xx', 'xx', 'xx', 'xx', 'xx', 'xx', 'xx', '0', '0', 'n', 'xx', 'xx', 'xx', 'xx', 'xx', 'xx', 'xx', 'xx', 'xx', 'xx', 'xx', 'xx', 'xx', 'xx', 'xx', 'xx', 'xx', 'xx', 'xx', 'xx', 'xx', 'xx', 'xx', 'xx', 'xx', 'xx', 'xx', 'xx', 'xx', 'xx', 'xx', 'xx', 'A4', '7', '2', '2/4', '100', '1', '45', '18', 'xx', 'xx', 'xx', 'xx', 'xx', '13', '13', '3', '3', '6')\n"
     ]
    }
   ],
   "source": [
    "print(paramsList[0])"
   ]
  },
  {
   "cell_type": "code",
   "execution_count": 186,
   "metadata": {},
   "outputs": [
    {
     "data": {
      "text/plain": [
       "120"
      ]
     },
     "execution_count": 186,
     "metadata": {},
     "output_type": "execute_result"
    }
   ],
   "source": [
    "lbl_name = ['t0','t1']+['p' + str(i) for i in range(1, 17)] + \\\n",
    "           ['a' + str(i) for i in range(1, 6)] + \\\n",
    "           ['b' + str(i) for i in range(1, 6)] + \\\n",
    "           ['c' + str(i) for i in range(1, 6)] + \\\n",
    "           ['d' + str(i) for i in range(1, 10)] + \\\n",
    "           ['e' + str(i) for i in range(1, 61)] + \\\n",
    "           ['f' + str(i) for i in range(1, 10)] + \\\n",
    "           ['g' + str(i) for i in range(1, 3)] + \\\n",
    "           ['h' + str(i) for i in range(1, 3)] + \\\n",
    "           ['i' + str(i) for i in range(1, 3)] + \\\n",
    "           ['j' + str(i) for i in range(1, 4)] \n",
    "len(lbl_name)"
   ]
  },
  {
   "cell_type": "code",
   "execution_count": 187,
   "metadata": {},
   "outputs": [
    {
     "name": "stdout",
     "output_type": "stream",
     "text": [
      "151\n"
     ]
    }
   ],
   "source": [
    "temp = []\n",
    "for params in paramsList:\n",
    "    paramsNew = {}\n",
    "    for i in range(0, 120):\n",
    "        paramsNew[lbl_name[i]] = params[i]\n",
    "    temp.append(paramsNew)\n",
    "paramsList = temp    \n",
    "print(len(paramsList))\n",
    "\n"
   ]
  },
  {
   "cell_type": "code",
   "execution_count": 288,
   "metadata": {
    "collapsed": true
   },
   "outputs": [
    {
     "name": "stdout",
     "output_type": "stream",
     "text": [
      "['pau', 'd', 'e', 'N', 'd', 'e', 'N', 'm', 'u', 'sh', 'i', 'm', 'u', 'sh', 'i', 'k', 'a', 't', 'a', 'ts']\n['1', '1', '1', '1', '1', '1', '1', '1', '1', '1']\n['1', '1', '2', '1', '1', '2', '1', '1', '2', '1', '2', '1', '2', '1', '2', '1', '2', '1', '2', '1']\n['xx', '13', '13', '13', '13', '13', '13', '13', '13', '13', '13', '13', '13', '13', '13', '13', '13', '13', '13', '13', '13', '13', '13', '13', '13', 'xx', '13', '13', '13', '13', '13', '13', '13', '13', '13', '13', '13', '13', '13', '13', '13', '13', '13', '13', '13', '13', '13', '13', 'xx', '13']\n['6', '6', '6', '6', '6', '6', '6', '6', '6', '6', '6', '6', '6', '6', '6', '6', '6', '6', '6', '6', '6', '6', '6', '6', '6', '6', '6', '6', '6', '6', '6', '6', '6', '6', '6', '6', '6', '6', '6', '6', '6', '6', '6', '6', '6', '6', '6', '6', '6', '6']\n['xx', 'xx', 'xx', 'A4', 'A4', 'A4', 'A4', 'Gb4', 'Gb4', 'D4', 'D4', 'D4', 'D4', 'D4', 'D4', 'E4', 'E4', 'Gb4', 'Gb4', 'Gb4', 'Gb4', 'E4', 'E4', 'D4', 'D4', 'E4', 'E4', 'Gb4', 'Gb4', 'G4', 'A4', 'A4', 'B4', 'A4', 'A4', 'A4', 'A4', 'A4', 'A4', 'Gb4', 'Gb4', 'E4', 'E4', 'E4', 'E4', 'D4', 'E4', 'E4', 'Gb4', 'Gb4']\n['xx', 'A4', 'A4', 'A4', 'A4', 'A4', 'Gb4', 'D4', 'D4', 'D4', 'D4', 'D4', 'D4', 'E4', 'E4', 'Gb4', 'Gb4', 'Gb4', 'Gb4', 'E4', 'E4', 'D4', 'D4', 'E4', 'E4', 'xx', 'Gb4', 'G4', 'G4', 'A4', 'B4', 'B4', 'A4', 'A4', 'A4', 'A4', 'A4', 'Gb4', 'Gb4', 'E4', 'E4', 'E4', 'E4', 'D4', 'D4', 'E4', 'Gb4', 'Gb4', 'xx', 'A4']\n['A4', 'A4', 'A4', 'A4', 'Gb4', 'Gb4', 'D4', 'D4', 'D4', 'D4', 'D4', 'E4', 'E4', 'Gb4', 'Gb4', 'Gb4', 'Gb4', 'E4', 'E4', 'D4', 'D4', 'E4', 'E4', 'Gb4', 'Gb4', 'Gb4', 'G4', 'A4', 'A4', 'B4', 'A4', 'A4', 'A4', 'A4', 'A4', 'Gb4', 'Gb4', 'E4', 'E4', 'E4', 'E4', 'D4', 'D4', 'E4', 'E4', 'Gb4', 'A4', 'A4', 'A4', 'D5']\n"
     ]
    }
   ],
   "source": [
    "print([paramsList[i]['p4'] for i in range(0, 20)])\n",
    "print([paramsList[i]['b2'] for i in range(0, 10)])\n",
    "print([paramsList[i]['p12'] for i in range(0, 20)])\n",
    "print([paramsList[i]['h1'] for i in range(0, 50)])\n",
    "print([paramsList[i]['j3'] for i in range(0, 50)])\n",
    "\n",
    "# pitch\n",
    "print([paramsList[i]['d1'] for i in range(0, 50)])\n",
    "print([paramsList[i]['e1'] for i in range(0, 50)])\n",
    "print([paramsList[i]['f1'] for i in range(0, 50)])\n",
    "\n",
    "\n",
    "# print([paramsList[0]['g'+str(i)] for i in range(1,5)])\n"
   ]
  },
  {
   "cell_type": "code",
   "execution_count": 281,
   "metadata": {},
   "outputs": [
    {
     "name": "stdout",
     "output_type": "stream",
     "text": [
      "['xx', 'C1', 'Db1', 'D1', 'Eb1', 'E1', 'F1', 'Gb1', 'G1', 'Ab1']\n"
     ]
    }
   ],
   "source": [
    "phonemes = ['pau','xx'] +[ \"a\",\"i\",\"u\",\"e\",\"o\",\"k\",\"g\",\"s\",\"z\",\"sh\",\"j\",\"t\",\"d\",\"ch\",\"q\",\"ts\",\"h\",\"b\",\"p\",\"m\",\"y\",\"r\",\"w\",\"N\",\"n\",\"v\" ]\n",
    "pitches = ['xx']+[pitch + str(i) for i in range(1,8) for pitch in [\"C\", \"Db\", \"D\", \"Eb\", \"E\", \"F\", \"Gb\", \"G\", \"Ab\", \"A\", \"Bb\", \"B\"]] \n",
    "\n",
    "assert phonemes.index('a') == 2\n",
    "assert phonemes.index(paramsList[0]['p4']) == 0\n",
    "assert len(pitches) == 12 * 7 +1\n",
    "print(pitches[0:10])"
   ]
  },
  {
   "cell_type": "code",
   "execution_count": 284,
   "metadata": {
    "collapsed": true
   },
   "outputs": [],
   "source": [
    "\n",
    "def make_one_hot(data1, size):\n",
    "    data1 = np.array(data1)\n",
    "    return (np.arange(size) == data1[:, None]).astype(np.integer)\n",
    "\n",
    "\n",
    "def make_class(data, classes):\n",
    "    return [classes.index(p) for p in data]\n",
    "\n",
    "\n",
    "def get_params_by_name(name):\n",
    "    return [params[name] for params in paramsList]\n",
    "\n",
    "\n",
    "def convert_params_to_one_hot(name, classes):\n",
    "    data = get_params_by_name(name)\n",
    "    data = make_class(data, classes)\n",
    "    data = make_one_hot(data, len(classes))\n",
    "    return data\n",
    "\n",
    "\n",
    "params_phonemes_one_hot = convert_params_to_one_hot('p4', phonemes)\n",
    "params_phonemes_pre_one_hot = convert_params_to_one_hot('p3',phonemes)\n",
    "params_phonemes_next_one_hot = convert_params_to_one_hot('p5',phonemes)\n",
    "\n",
    "assert len(params_phonemes_pre_one_hot[0]) == len(phonemes)\n",
    "assert len(params_phonemes_next_one_hot[0]) == len(phonemes)\n"
   ]
  },
  {
   "cell_type": "code",
   "execution_count": 295,
   "metadata": {
    "collapsed": false
   },
   "outputs": [
    {
     "name": "stdout",
     "output_type": "stream",
     "text": [
      "[1 0 0 0 0 0 0 0 0 0 0 0 0 0 0 0 0 0 0 0 0 0 0 0 0 0 0 0 0 0 0 0 0 0 0 0 0\n 0 0 0 0 0 0 0 0 0 0 0 0 0 0 0 0 0 0 0 0 0 0 0 0 0 0 0 0 0 0 0 0 0 0 0 0 0\n 0 0 0 0 0 0 0 0 0 0 0]\n[1 0 0 0 0 0 0 0 0 0 0 0 0 0 0 0 0 0 0 0 0 0 0 0 0 0 0 0 0 0 0 0 0 0 0 0 0\n 0 0 0 0 0 0 0 0 0 0 0 0 0 0 0 0 0 0 0 0 0 0 0 0 0 0 0 0 0 0 0 0 0 0 0 0 0\n 0 0 0 0 0 0 0 0 0 0 0]\n"
     ]
    }
   ],
   "source": [
    "params_pitches_one_hot = convert_params_to_one_hot('e1',pitches)\n",
    "params_pitches_pre_one_hot = convert_params_to_one_hot('d1',pitches)\n",
    "params_pitches_next_one_hot = convert_params_to_one_hot('f1',pitches)\n",
    "\n",
    "print(params_pitches_one_hot[0])\n",
    "print(params_pitches_pre_one_hot[2])\n",
    " \n"
   ]
  },
  {
   "cell_type": "code",
   "execution_count": 486,
   "metadata": {
    "collapsed": true
   },
   "outputs": [],
   "source": [
    "t0 = np.array(get_params_by_name('t0')).astype(float) / 10000\n",
    "t1 = np.array(get_params_by_name('t1')).astype(float) / 10000\n",
    "params_phoneme_duration = t1 - t0\n",
    "\n",
    "params_phoneme_duration = params_phoneme_duration\n",
    "params_phoneme_duration_pre = np.insert(params_phoneme_duration[:-1], 0,np.average(params_phoneme_duration))\n",
    "params_phoneme_duration_next = np.append(params_phoneme_duration[1:], np.average(params_phoneme_duration))\n",
    "\n",
    "\n",
    "assert len(params_phoneme_duration) == 151\n",
    "assert len(params_phoneme_duration_pre) == 151\n",
    "assert len(params_phoneme_duration_next) == 151"
   ]
  },
  {
   "cell_type": "code",
   "execution_count": 499,
   "metadata": {},
   "outputs": [
    {
     "name": "stdout",
     "output_type": "stream",
     "text": [
      "(1, 151, 314)\n"
     ]
    }
   ],
   "source": [
    "stacked_feature = np.hstack([params_phonemes_one_hot,\n",
    "                             params_phonemes_pre_one_hot,\n",
    "                             params_pitches_one_hot,\n",
    "                             params_pitches_pre_one_hot,\n",
    "                             params_pitches_next_one_hot,\n",
    "                             np.reshape(params_phoneme_duration,(len(params_phoneme_duration),1)),\n",
    "                             np.reshape(params_phoneme_duration_pre,(len(params_phoneme_duration_pre),1)),\n",
    "                             np.reshape(params_phoneme_duration_next,(len(params_phoneme_duration_next),1)),\n",
    "                             ])\n",
    "assert len(stacked_feature) == 151\n",
    "stacked_feature = np.reshape(stacked_feature,(1,151,314))\n",
    "\n",
    "# print(stacked_feature[0][0])\n",
    "print(stacked_feature.shape)\n"
   ]
  },
  {
   "cell_type": "code",
   "execution_count": 1,
   "metadata": {
    "collapsed": true
   },
   "outputs": [
    {
     "ename": "FileNotFoundError",
     "evalue": "[Errno 2] No such file or directory: '/Users/Zizy/Programming/HKU/Dissertation/f0.txt'",
     "traceback": [
      "\u001b[0;31m---------------------------------------------------------------------------\u001b[0m",
      "\u001b[0;31mFileNotFoundError\u001b[0m                         Traceback (most recent call last)",
      "\u001b[0;32m<ipython-input-1-7308af897050>\u001b[0m in \u001b[0;36m<module>\u001b[0;34m()\u001b[0m\n\u001b[0;32m----> 1\u001b[0;31m \u001b[0mf0_file\u001b[0m \u001b[0;34m=\u001b[0m \u001b[0mopen\u001b[0m\u001b[0;34m(\u001b[0m\u001b[0;34m'/Users/Zizy/Programming/HKU/Dissertation/f0.txt'\u001b[0m\u001b[0;34m)\u001b[0m\u001b[0;34m\u001b[0m\u001b[0m\n\u001b[0m\u001b[1;32m      2\u001b[0m \u001b[0mf0s\u001b[0m \u001b[0;34m=\u001b[0m \u001b[0mf0_file\u001b[0m\u001b[0;34m.\u001b[0m\u001b[0mreadlines\u001b[0m\u001b[0;34m(\u001b[0m\u001b[0;34m)\u001b[0m\u001b[0;34m\u001b[0m\u001b[0m\n\u001b[1;32m      3\u001b[0m \u001b[0mf0s\u001b[0m \u001b[0;34m=\u001b[0m \u001b[0mnp\u001b[0m\u001b[0;34m.\u001b[0m\u001b[0marray\u001b[0m\u001b[0;34m(\u001b[0m\u001b[0mf0s\u001b[0m\u001b[0;34m)\u001b[0m\u001b[0;34m.\u001b[0m\u001b[0mastype\u001b[0m\u001b[0;34m(\u001b[0m\u001b[0mnp\u001b[0m\u001b[0;34m.\u001b[0m\u001b[0mfloat\u001b[0m\u001b[0;34m)\u001b[0m\u001b[0;34m\u001b[0m\u001b[0m\n\u001b[1;32m      4\u001b[0m \u001b[0mf0s\u001b[0m \u001b[0;34m=\u001b[0m \u001b[0mnp\u001b[0m\u001b[0;34m.\u001b[0m\u001b[0mreshape\u001b[0m\u001b[0;34m(\u001b[0m\u001b[0mf0s\u001b[0m\u001b[0;34m,\u001b[0m\u001b[0;34m(\u001b[0m\u001b[0;36m1\u001b[0m\u001b[0;34m,\u001b[0m\u001b[0;36m6240\u001b[0m\u001b[0;34m,\u001b[0m\u001b[0;36m1\u001b[0m\u001b[0;34m)\u001b[0m\u001b[0;34m)\u001b[0m\u001b[0;34m\u001b[0m\u001b[0m\n\u001b[1;32m      5\u001b[0m \u001b[0mprint\u001b[0m\u001b[0;34m(\u001b[0m\u001b[0mf0s\u001b[0m\u001b[0;34m.\u001b[0m\u001b[0mshape\u001b[0m\u001b[0;34m)\u001b[0m\u001b[0;34m\u001b[0m\u001b[0m\n",
      "\u001b[0;31mFileNotFoundError\u001b[0m: [Errno 2] No such file or directory: '/Users/Zizy/Programming/HKU/Dissertation/f0.txt'"
     ],
     "output_type": "error"
    }
   ],
   "source": [
    "f0_file = open('/Users/Zizy/Programming/HKU/Dissertation/f0.txt')\n",
    "f0s = f0_file.readlines()\n",
    "f0s = np.array(f0s).astype(np.float)\n",
    "f0s = np.reshape(f0s,(1,6240,1))\n",
    "print(f0s.shape)\n",
    "print(f0s[0][:])"
   ]
  },
  {
   "cell_type": "code",
   "execution_count": 2,
   "metadata": {
    "collapsed": false
   },
   "outputs": [
    {
     "ename": "NameError",
     "evalue": "name 'Sequential' is not defined",
     "traceback": [
      "\u001b[0;31m---------------------------------------------------------------------------\u001b[0m",
      "\u001b[0;31mNameError\u001b[0m                                 Traceback (most recent call last)",
      "\u001b[0;32m<ipython-input-2-4297b1cdab9f>\u001b[0m in \u001b[0;36m<module>\u001b[0;34m()\u001b[0m\n\u001b[0;32m----> 1\u001b[0;31m \u001b[0mmodel\u001b[0m \u001b[0;34m=\u001b[0m \u001b[0mSequential\u001b[0m\u001b[0;34m(\u001b[0m\u001b[0;34m)\u001b[0m\u001b[0;34m\u001b[0m\u001b[0m\n\u001b[0m\u001b[1;32m      2\u001b[0m \u001b[0mmodel\u001b[0m\u001b[0;34m.\u001b[0m\u001b[0madd\u001b[0m\u001b[0;34m(\u001b[0m\u001b[0mLSTM\u001b[0m\u001b[0;34m(\u001b[0m\u001b[0minput_dim\u001b[0m\u001b[0;34m=\u001b[0m\u001b[0;36m314\u001b[0m\u001b[0;34m,\u001b[0m \u001b[0moutput_dim\u001b[0m\u001b[0;34m=\u001b[0m\u001b[0;36m20\u001b[0m\u001b[0;34m,\u001b[0m \u001b[0mreturn_sequences\u001b[0m\u001b[0;34m=\u001b[0m\u001b[0;32mFalse\u001b[0m\u001b[0;34m)\u001b[0m\u001b[0;34m)\u001b[0m\u001b[0;34m\u001b[0m\u001b[0m\n\u001b[1;32m      3\u001b[0m \u001b[0mmodel\u001b[0m\u001b[0;34m.\u001b[0m\u001b[0madd\u001b[0m\u001b[0;34m(\u001b[0m\u001b[0mDense\u001b[0m\u001b[0;34m(\u001b[0m\u001b[0;36m20\u001b[0m\u001b[0;34m,\u001b[0m \u001b[0mactivation\u001b[0m\u001b[0;34m=\u001b[0m\u001b[0;34m\"relu\"\u001b[0m\u001b[0;34m)\u001b[0m\u001b[0;34m)\u001b[0m\u001b[0;34m\u001b[0m\u001b[0m\n\u001b[1;32m      4\u001b[0m \u001b[0mmodel\u001b[0m\u001b[0;34m.\u001b[0m\u001b[0madd\u001b[0m\u001b[0;34m(\u001b[0m\u001b[0mRepeatVector\u001b[0m\u001b[0;34m(\u001b[0m\u001b[0;36m6240\u001b[0m\u001b[0;34m)\u001b[0m\u001b[0;34m)\u001b[0m\u001b[0;34m\u001b[0m\u001b[0m\n\u001b[1;32m      5\u001b[0m \u001b[0mmodel\u001b[0m\u001b[0;34m.\u001b[0m\u001b[0madd\u001b[0m\u001b[0;34m(\u001b[0m\u001b[0mLSTM\u001b[0m\u001b[0;34m(\u001b[0m\u001b[0;36m20\u001b[0m\u001b[0;34m,\u001b[0m \u001b[0mreturn_sequences\u001b[0m\u001b[0;34m=\u001b[0m\u001b[0;32mTrue\u001b[0m\u001b[0;34m)\u001b[0m\u001b[0;34m)\u001b[0m\u001b[0;34m\u001b[0m\u001b[0m\n",
      "\u001b[0;31mNameError\u001b[0m: name 'Sequential' is not defined"
     ],
     "output_type": "error"
    }
   ],
   "source": [
    "model = Sequential()\n",
    "model.add(LSTM(input_dim=314, output_dim=20, return_sequences=False))\n",
    "model.add(Dense(20, activation=\"relu\"))\n",
    "model.add(RepeatVector(6240))\n",
    "model.add(LSTM(20, return_sequences=True))\n",
    "model.add(TimeDistributed(Dense(output_dim=1, activation=\"linear\")))\n",
    "model.compile(loss=\"mse\",metrics=['accuracy'], optimizer='adam')\n",
    "\n",
    "model.fit(stacked_feature, f0s, nb_epoch=100, batch_size=1, verbose=2)\n",
    "res = model.predict(stacked_feature)"
   ]
  },
  {
   "cell_type": "code",
   "execution_count": 504,
   "metadata": {},
   "outputs": [],
   "source": [
    "res = model.predict(stacked_feature)\n"
   ]
  },
  {
   "cell_type": "code",
   "execution_count": 505,
   "metadata": {},
   "outputs": [
    {
     "data": {
      "text/plain": [
       "array([[0.64576715],\n       [0.7495263 ],\n       [0.81993276],\n       ...,\n       [0.9514018 ],\n       [0.9514018 ],\n       [0.9514018 ]], dtype=float32)"
      ]
     },
     "execution_count": 505,
     "metadata": {},
     "output_type": "execute_result"
    }
   ],
   "source": [
    "res[0]"
   ]
  },
  {
   "cell_type": "code",
   "execution_count": 511,
   "metadata": {},
   "outputs": [],
   "source": [
    "model.save_weights(\"/Users/Zizy/Programming/HKU/Dissertation/model.h5\")"
   ]
  },
  {
   "cell_type": "code",
   "execution_count": 516,
   "metadata": {},
   "outputs": [
    {
     "data": {
      "text/plain": [
       "-8.6598"
      ]
     },
     "execution_count": 516,
     "metadata": {},
     "output_type": "execute_result"
    }
   ],
   "source": [
    "-8.6598e+00"
   ]
  },
  {
   "cell_type": "code",
   "execution_count": null,
   "metadata": {},
   "outputs": [],
   "source": []
  }
 ],
 "metadata": {
  "kernelspec": {
   "display_name": "Python 2",
   "language": "python",
   "name": "python2"
  },
  "language_info": {
   "codemirror_mode": {
    "name": "ipython",
    "version": 2
   },
   "file_extension": ".py",
   "mimetype": "text/x-python",
   "name": "python",
   "nbconvert_exporter": "python",
   "pygments_lexer": "ipython2",
   "version": "2.7.6"
  }
 },
 "nbformat": 4,
 "nbformat_minor": 0
}
