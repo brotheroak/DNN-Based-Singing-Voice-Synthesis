{
 "cells": [
  {
   "cell_type": "code",
   "execution_count": 2,
   "metadata": {},
   "outputs": [
    {
     "ename": "ImportError",
     "evalue": "No module named 'soundfile'",
     "output_type": "error",
     "traceback": [
      "\u001b[0;31m---------------------------------------------------------------------------\u001b[0m",
      "\u001b[0;31mImportError\u001b[0m                               Traceback (most recent call last)",
      "\u001b[0;32m<ipython-input-2-d017157976aa>\u001b[0m in \u001b[0;36m<module>\u001b[0;34m()\u001b[0m\n\u001b[1;32m     10\u001b[0m \u001b[0;32mimport\u001b[0m \u001b[0mmatplotlib\u001b[0m  \u001b[0;31m# Remove this line if you don't need them\u001b[0m\u001b[0;34m\u001b[0m\u001b[0m\n\u001b[1;32m     11\u001b[0m \u001b[0;34m\u001b[0m\u001b[0m\n\u001b[0;32m---> 12\u001b[0;31m \u001b[0;32mimport\u001b[0m \u001b[0msoundfile\u001b[0m \u001b[0;32mas\u001b[0m \u001b[0msf\u001b[0m\u001b[0;34m\u001b[0m\u001b[0m\n\u001b[0m\u001b[1;32m     13\u001b[0m \u001b[0;31m# import librosa\u001b[0m\u001b[0;34m\u001b[0m\u001b[0;34m\u001b[0m\u001b[0m\n\u001b[1;32m     14\u001b[0m \u001b[0;32mimport\u001b[0m \u001b[0mpyworld\u001b[0m \u001b[0;32mas\u001b[0m \u001b[0mpw\u001b[0m\u001b[0;34m\u001b[0m\u001b[0m\n",
      "\u001b[0;31mImportError\u001b[0m: No module named 'soundfile'"
     ]
    }
   ],
   "source": [
    "\n",
    "import os\n",
    "# from shutil import rmtreepip\n",
    "import argparse\n",
    "import random\n",
    "import pandas as pd\n",
    "\n",
    "import numpy as np\n",
    "\n",
    "import matplotlib  # Remove this line if you don't need them\n",
    "\n",
    "import soundfile as sf\n",
    "# import librosa\n",
    "import pyworld as pw\n",
    "import math\n",
    "from pylab import *\n",
    "\n",
    "parser = argparse.ArgumentParser()\n",
    "parser.add_argument(\"-f\", \"--frame_period\", type=float, default=5.0)\n",
    "parser.add_argument(\"-s\", \"--speed\", type=int, default=1)\n",
    "\n",
    "\n",
    "EPSILON = 1e-8\n"
   ]
  },
  {
   "cell_type": "code",
   "execution_count": null,
   "metadata": {},
   "outputs": [
    {
     "name": "stdout",
     "output_type": "stream",
     "text": [
      "Uninstalling SoundFile-0.10.2:\r\n",
      "  Would remove:\r\n",
      "    /Users/Zizy/anaconda/lib/python3.5/site-packages/SoundFile-0.10.2.dist-info/*\r\n",
      "    /Users/Zizy/anaconda/lib/python3.5/site-packages/_soundfile.py\r\n",
      "    /Users/Zizy/anaconda/lib/python3.5/site-packages/_soundfile_data/COPYING\r\n",
      "    /Users/Zizy/anaconda/lib/python3.5/site-packages/_soundfile_data/libsndfile.dylib\r\n",
      "    /Users/Zizy/anaconda/lib/python3.5/site-packages/soundfile.py\r\n",
      "Proceed (y/n)? "
     ]
    }
   ],
   "source": [
    "!pip uninstall soundfile"
   ]
  },
  {
   "cell_type": "code",
   "execution_count": null,
   "metadata": {},
   "outputs": [],
   "source": []
  }
 ],
 "metadata": {
  "kernelspec": {
   "display_name": "Python 3",
   "language": "python",
   "name": "python3"
  }
 },
 "nbformat": 4,
 "nbformat_minor": 1
}
