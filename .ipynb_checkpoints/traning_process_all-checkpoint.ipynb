{
 "cells": [
  {
   "cell_type": "code",
   "execution_count": 3,
   "metadata": {},
   "outputs": [
    {
     "name": "stderr",
     "output_type": "stream",
     "text": [
      "Using TensorFlow backend.\n",
      "/Users/Zizy/anaconda/envs/tensorflow/lib/python3.5/importlib/_bootstrap.py:222: RuntimeWarning: compiletime version 3.6 of module 'tensorflow.python.framework.fast_tensor_util' does not match runtime version 3.5\n",
      "  return f(*args, **kwds)\n"
     ]
    }
   ],
   "source": [
    "import re\n",
    "import numpy as np\n",
    "import pandas as pd\n",
    "from keras.models import *\n",
    "from keras.layers import *\n",
    "from keras.layers import *\n",
    "from keras import optimizers\n",
    "from keras.utils import np_utils\n",
    "\n",
    "import os.path\n"
   ]
  },
  {
   "cell_type": "code",
   "execution_count": 4,
   "metadata": {},
   "outputs": [
    {
     "name": "stdout",
     "output_type": "stream",
     "text": [
      "120\n"
     ]
    }
   ],
   "source": [
    "reg = \"(.*) (.*) (.*)\\@(.*)\\^(.*)\\-(.*)\\+(.*)\\=(.*)\\_(.*)\\%(.*)\\^(.*)\\_(.*)\\~(.*)\\-(.*)\\!(.*)\\[(.*)\\$(.*)\\](.*)/A:(.*)\\-(.*)\\-(.*)\\@(.*)\\~(.*)/B:(.*)\\_(.*)\\_(.*)\\@(.*)\\|(.*)/C:(.*)\\+(.*)\\+(.*)\\@(.*)\\&(.*)/D:(.*)\\!(.*)\\#(.*)\\$(.*)\\%(.*)\\|(.*)\\&(.*)\\;(.*)\\-(.*)/E:(.*)\\](.*)\\^(.*)\\=(.*)\\~(.*)\\!(.*)\\@(.*)\\#(.*)\\+(.*)\\](.*)\\$(.*)\\|(.*)\\[(.*)\\&(.*)\\](.*)\\=(.*)\\^(.*)\\~(.*)\\#(.*)\\_(.*)\\;(.*)\\$(.*)\\&(.*)\\%(.*)\\[(.*)\\|(.*)\\](.*)\\-(.*)\\^(.*)\\+(.*)\\~(.*)\\=(.*)\\@(.*)\\$(.*)\\!(.*)\\%(.*)\\#(.*)\\|(.*)\\|(.*)\\-(.*)\\&(.*)\\&(.*)\\+(.*)\\[(.*)\\;(.*)\\](.*)\\;(.*)\\~(.*)\\~(.*)\\^(.*)\\^(.*)\\@(.*)\\[(.*)\\#(.*)\\=(.*)\\!(.*)\\~(.*)\\+(.*)\\!(.*)\\^(.*)/F:(.*)\\#(.*)\\#(.*)\\-(.*)\\$(.*)\\$(.*)\\+(.*)\\%(.*)\\;(.*)/G:(.*)\\_(.*)/H:(.*)\\_(.*)/I:(.*)\\_(.*)/J:(.*)\\~(.*)\\@(.*)\"\n",
    "li = re.findall(reg,\"0 12000000 p@xx^xx-pau+d=e_xx%xx^00_00~00-1!1[xx$xx]xx/A:xx-xx-xx@xx~xx/B:1_1_1@xx|xx/C:2+1+1@JPN&0/D:xx!xx#xx$xx%xx|xx&xx;xx-xx/E:xx]xx^2=2/4~100!1@120#48+xx]1$1|0[12&0]48=0^100~xx#xx_xx;xx$xx&xx%xx[xx|0]0-n^xx+xx~xx=xx@xx$xx!xx%xx#xx|xx|xx-xx&xx&xx+xx[xx;xx]xx;xx~xx~xx^xx^xx@xx[xx#xx=xx!xx~xx+xx!xx^xx/F:A4#7#2-2/4$100$1+45%18;xx/G:xx_xx/H:xx_xx/I:13_13/J:3~3@6\")\n",
    "\n",
    "phonemes = ['pau','xx'] +[\"ny\",\"ty\",\"py\",\"ky\",\"ry\",\"f\",\"br\",\"sil\",\"cl\",\"a\",\"i\",\"u\",\"e\",\"o\",\"k\",\"g\",\"s\",\"z\",\"sh\",\"j\",\"t\",\"d\",\"ch\",\"q\",\"ts\",\"h\",\"b\",\"p\",\"m\",\"y\",\"r\",\"w\",\"N\",\"n\",\"v\" ]\n",
    "pitches = ['xx']+[pitch + str(i) for i in range(1,8) for pitch in [\"C\", \"Db\", \"D\", \"Eb\", \"E\", \"F\", \"Gb\", \"G\", \"Ab\", \"A\", \"Bb\", \"B\"]] \n",
    "\n",
    "local_path='/Users/Zizy/Programming/HKU/Dissertation/'\n",
    "\n",
    "lbl_name = ['t0','t1']+['p' + str(i) for i in range(1, 17)] + \\\n",
    "           ['a' + str(i) for i in range(1, 6)] + \\\n",
    "           ['b' + str(i) for i in range(1, 6)] + \\\n",
    "           ['c' + str(i) for i in range(1, 6)] + \\\n",
    "           ['d' + str(i) for i in range(1, 10)] + \\\n",
    "           ['e' + str(i) for i in range(1, 61)] + \\\n",
    "           ['f' + str(i) for i in range(1, 10)] + \\\n",
    "           ['g' + str(i) for i in range(1, 3)] + \\\n",
    "           ['h' + str(i) for i in range(1, 3)] + \\\n",
    "           ['i' + str(i) for i in range(1, 3)] + \\\n",
    "           ['j' + str(i) for i in range(1, 4)] \n",
    "\n",
    "\n",
    "print(len(li[0]))"
   ]
  },
  {
   "cell_type": "code",
   "execution_count": 5,
   "metadata": {},
   "outputs": [],
   "source": [
    "def read_songs_labels():\n",
    "    labs = []\n",
    "    for i in range(0, 71):\n",
    "        label_file_name = 'nitech_jp_song070_f001_0' + (('0' + str(i)) if i < 10 else str(i)) + '.lab'\n",
    "        if not os.path.isfile(local_path+'lab/' + label_file_name):\n",
    "            continue\n",
    "        with open(local_path+'lab/' + label_file_name, 'r') as lab_file:\n",
    "            lines = lab_file.readlines()\n",
    "            params_list = []\n",
    "            for line in lines:\n",
    "                ps = re.findall(reg, line)\n",
    "                params_list.append(ps[0])\n",
    "            temp = []\n",
    "            for params in params_list:\n",
    "                params_temp = {}\n",
    "                for i in range(0, 120):\n",
    "                    params_temp[lbl_name[i]] = params[i]\n",
    "                temp.append(params_temp)\n",
    "            params_list = temp    \n",
    "\n",
    "            labs.append(params_list)\n",
    "    return labs\n",
    "\n",
    "\n",
    "def make_one_hot(data1, size):\n",
    "    data1 = np.array(data1)\n",
    "    return (np.arange(size) == data1[:, None]).astype(np.integer)\n",
    "\n",
    "\n",
    "def make_class(data, classes):\n",
    "    return [classes.index(p) for p in data]\n",
    "\n",
    "def get_params_by_name(name,params_list):\n",
    "    return [params[name] for params in params_list]\n",
    "\n",
    "\n",
    "def convert_params_to_one_hot(name, classes,params_list):\n",
    "    data = get_params_by_name(name,params_list)\n",
    "    data = make_class(data, classes)\n",
    "    data = make_one_hot(data, len(classes))\n",
    "    return data\n",
    "\n",
    "\n"
   ]
  },
  {
   "cell_type": "code",
   "execution_count": null,
   "metadata": {},
   "outputs": [],
   "source": [
    "labs  = read_songs_labels()"
   ]
  },
  {
   "cell_type": "code",
   "execution_count": null,
   "metadata": {},
   "outputs": [],
   "source": [
    "stacked_labs_with_feature = []\n",
    "\n",
    "temp = []\n",
    "for lab in labs:\n",
    "    temp.append(len(lab))\n",
    "max_sample_size = max(temp)\n",
    "print(\"max sample size: %s\" % max_sample_size)\n",
    "\n",
    "for lab in labs:\n",
    "    t0 = np.array(get_params_by_name('t0', lab)).astype(float) / 10000\n",
    "    t1 = np.array(get_params_by_name('t1', lab)).astype(float) / 10000\n",
    "    params_phoneme_duration = t1 - t0\n",
    "\n",
    "    params_phoneme_duration_pre = np.insert(params_phoneme_duration[:-1], 0, np.average(params_phoneme_duration))\n",
    "    params_phoneme_duration_next = np.append(params_phoneme_duration[1:], np.average(params_phoneme_duration))\n",
    "    params_phonemes_one_hot = convert_params_to_one_hot('p4', phonemes, lab)\n",
    "    params_phonemes_pre_one_hot = convert_params_to_one_hot('p3', phonemes, lab)\n",
    "    params_phonemes_next_one_hot = convert_params_to_one_hot('p5', phonemes, lab)\n",
    "    params_pitches_one_hot = convert_params_to_one_hot('e1', pitches, lab)\n",
    "    params_pitches_pre_one_hot = convert_params_to_one_hot('d1', pitches, lab)\n",
    "    params_pitches_next_one_hot = convert_params_to_one_hot('f1', pitches, lab)\n",
    "\n",
    "    stacked_feature = np.hstack([params_phonemes_one_hot,\n",
    "                                 params_phonemes_pre_one_hot,\n",
    "                                 params_pitches_one_hot,\n",
    "                                 params_pitches_pre_one_hot,\n",
    "                                 params_pitches_next_one_hot,\n",
    "                                 np.reshape(params_phoneme_duration, (len(params_phoneme_duration), 1)),\n",
    "                                 np.reshape(params_phoneme_duration_pre, (len(params_phoneme_duration_pre), 1)),\n",
    "                                 np.reshape(params_phoneme_duration_next, (len(params_phoneme_duration_next), 1)),\n",
    "                                 ])\n",
    "    stacked_feature = np.vstack([stacked_feature, \n",
    "                                 np.zeros((max_sample_size-stacked_feature.shape[0],stacked_feature.shape[1]))])\n",
    "\n",
    "    stacked_labs_with_feature.append(stacked_feature)\n",
    "\n",
    "stacked_labs_with_feature = np.array(stacked_labs_with_feature)\n",
    "# np.reshape(stacked_labs_with_feature ,(31, max_sample_size, 314))\n",
    "# print(len(stacked_labs_with_feature))\n",
    "# print(stacked_labs_with_feature[:-1])\n"
   ]
  },
  {
   "cell_type": "code",
   "execution_count": null,
   "metadata": {},
   "outputs": [],
   "source": [
    "def read_f0s():\n",
    "    max_f0_size = 0\n",
    "    f0s = []\n",
    "    for i in range(0, 71):\n",
    "        f0_file_name = 'nitech_jp_song070_f001_0' + (('0' + str(i)) if i < 10 else str(i)) + '_f0.txt'\n",
    "        if not os.path.isfile(local_path+'gen/' + f0_file_name):\n",
    "            continue\n",
    "        with open(local_path+'gen/' + f0_file_name, 'r') as f0_file:\n",
    "            lines = f0_file.readlines()\n",
    "            lines = np.array(lines).astype(np.float)\n",
    "\n",
    "            if len(lines) > max_f0_size:\n",
    "                max_f0_size = len(lines)\n",
    "            f0s.append(lines)\n",
    "    print(max_f0_size)\n",
    "\n",
    "    for index, f0 in enumerate(f0s):\n",
    "        f0s[index] = np.append(f0, np.zeros(max_f0_size - len(f0)))\n",
    "\n",
    "    f0s = np.array(f0s)\n",
    "    f0s = np.reshape(f0s, (f0s.shape[0], f0s.shape[1], 1))\n",
    "    return f0s, max_f0_size\n",
    "\n",
    "\n",
    "f0s, max_f0_size = read_f0s()\n"
   ]
  },
  {
   "cell_type": "code",
   "execution_count": null,
   "metadata": {},
   "outputs": [],
   "source": [
    "print(f0s.shape)\n",
    "print(stacked_labs_with_feature.shape)\n"
   ]
  },
  {
   "cell_type": "code",
   "execution_count": null,
   "metadata": {},
   "outputs": [],
   "source": [
    "model = Sequential()\n",
    "model.add(LSTM(input_dim=332, output_dim=500, return_sequences=False))\n",
    "model.add(Dense(500, activation=\"relu\"))\n",
    "model.add(RepeatVector(max_f0_size))\n",
    "model.add(LSTM(500, return_sequences=True))\n",
    "model.add(TimeDistributed(Dense(output_dim=1, activation=\"linear\")))\n",
    "model.compile(loss=\"mse\",metrics=['accuracy'], optimizer=optimizers.Adam(lr=0.1,epsilon=1e-08))\n",
    "model.summary()\n",
    "model.fit(stacked_labs_with_feature, f0s, nb_epoch=100, batch_size=1, verbose=1)\n",
    "res = model.predict(stacked_feature)"
   ]
  },
  {
   "cell_type": "code",
   "execution_count": null,
   "metadata": {},
   "outputs": [],
   "source": []
  }
 ],
 "metadata": {
  "kernelspec": {
   "display_name": "Python 3",
   "language": "python",
   "name": "python3"
  }
 },
 "nbformat": 4,
 "nbformat_minor": 1
}
