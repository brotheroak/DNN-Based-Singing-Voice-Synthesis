{
 "cells": [
  {
   "cell_type": "code",
   "execution_count": 3,
   "metadata": {},
   "outputs": [],
   "source": [
    "import re\n",
    "import numpy as np\n",
    "import pandas as pd\n"
   ]
  },
  {
   "cell_type": "code",
   "execution_count": 4,
   "metadata": {},
   "outputs": [
    {
     "name": "stdout",
     "output_type": "stream",
     "text": [
      "\u001b[34mPython-Wrapper-for-World-Vocoder\u001b[m\u001b[m    training_process.ipynb\r\n",
      "\u001b[31mnitech_jp_song070_f001_003.lab\u001b[m\u001b[m      \u001b[34mvenv\u001b[m\u001b[m\r\n",
      "nitech_jp_song070_f001_003_mono.lab world.ipynb\r\n"
     ]
    }
   ],
   "source": [
    "!ls"
   ]
  },
  {
   "cell_type": "code",
   "execution_count": 5,
   "metadata": {},
   "outputs": [
    {
     "name": "stdout",
     "output_type": "stream",
     "text": [
      "120\n"
     ]
    }
   ],
   "source": [
    "reg = \"(.*) (.*) (.*)\\@(.*)\\^(.*)\\-(.*)\\+(.*)\\=(.*)\\_(.*)\\%(.*)\\^(.*)\\_(.*)\\~(.*)\\-(.*)\\!(.*)\\[(.*)\\$(.*)\\](.*)/A:(.*)\\-(.*)\\-(.*)\\@(.*)\\~(.*)/B:(.*)\\_(.*)\\_(.*)\\@(.*)\\|(.*)/C:(.*)\\+(.*)\\+(.*)\\@(.*)\\&(.*)/D:(.*)\\!(.*)\\#(.*)\\$(.*)\\%(.*)\\|(.*)\\&(.*)\\;(.*)\\-(.*)/E:(.*)\\](.*)\\^(.*)\\=(.*)\\~(.*)\\!(.*)\\@(.*)\\#(.*)\\+(.*)\\](.*)\\$(.*)\\|(.*)\\[(.*)\\&(.*)\\](.*)\\=(.*)\\^(.*)\\~(.*)\\#(.*)\\_(.*)\\;(.*)\\$(.*)\\&(.*)\\%(.*)\\[(.*)\\|(.*)\\](.*)\\-(.*)\\^(.*)\\+(.*)\\~(.*)\\=(.*)\\@(.*)\\$(.*)\\!(.*)\\%(.*)\\#(.*)\\|(.*)\\|(.*)\\-(.*)\\&(.*)\\&(.*)\\+(.*)\\[(.*)\\;(.*)\\](.*)\\;(.*)\\~(.*)\\~(.*)\\^(.*)\\^(.*)\\@(.*)\\[(.*)\\#(.*)\\=(.*)\\!(.*)\\~(.*)\\+(.*)\\!(.*)\\^(.*)/F:(.*)\\#(.*)\\#(.*)\\-(.*)\\$(.*)\\$(.*)\\+(.*)\\%(.*)\\;(.*)/G:(.*)\\_(.*)/H:(.*)\\_(.*)/I:(.*)\\_(.*)/J:(.*)\\~(.*)\\@(.*)\"\n",
    "li = re.findall(reg,\"0 12000000 p@xx^xx-pau+d=e_xx%xx^00_00~00-1!1[xx$xx]xx/A:xx-xx-xx@xx~xx/B:1_1_1@xx|xx/C:2+1+1@JPN&0/D:xx!xx#xx$xx%xx|xx&xx;xx-xx/E:xx]xx^2=2/4~100!1@120#48+xx]1$1|0[12&0]48=0^100~xx#xx_xx;xx$xx&xx%xx[xx|0]0-n^xx+xx~xx=xx@xx$xx!xx%xx#xx|xx|xx-xx&xx&xx+xx[xx;xx]xx;xx~xx~xx^xx^xx@xx[xx#xx=xx!xx~xx+xx!xx^xx/F:A4#7#2-2/4$100$1+45%18;xx/G:xx_xx/H:xx_xx/I:13_13/J:3~3@6\")\n",
    "print(len(li[0]))"
   ]
  },
  {
   "cell_type": "code",
   "execution_count": 6,
   "metadata": {},
   "outputs": [
    {
     "name": "stdout",
     "output_type": "stream",
     "text": [
      "lines num: 151\n",
      "params num: 151\n",
      "feature num: 120\n"
     ]
    }
   ],
   "source": [
    "\n",
    "\n",
    "file = open(\"/Users/Zizy/Programming/HKU/Dissertation/nitech_jp_song070_f001_003.lab\",\"r\")\n",
    "lines = file.readlines()\n",
    "\n",
    "\n",
    "print('lines num: %d'%(len(lines)))\n",
    "paramsList = [];\n",
    "for line in lines:\n",
    "    ps = re.findall(reg,line)\n",
    "    paramsList.append(ps[0])\n",
    "\n",
    "print('params num: %d'%(len(paramsList)))\n",
    "print('feature num: %d'%(len(paramsList[0])))"
   ]
  },
  {
   "cell_type": "code",
   "execution_count": 7,
   "metadata": {},
   "outputs": [
    {
     "name": "stdout",
     "output_type": "stream",
     "text": [
      "('0', '12000000', 'p', 'xx', 'xx', 'pau', 'd', 'e', 'xx', 'xx', '00', '00', '00', '1', '1', 'xx', 'xx', 'xx', 'xx', 'xx', 'xx', 'xx', 'xx', '1', '1', '1', 'xx', 'xx', '2', '1', '1', 'JPN', '0', 'xx', 'xx', 'xx', 'xx', 'xx', 'xx', 'xx', 'xx', 'xx', 'xx', 'xx', '2', '2/4', '100', '1', '120', '48', 'xx', '1', '1', '0', '12', '0', '48', '0', '100', 'xx', 'xx', 'xx', 'xx', 'xx', 'xx', 'xx', 'xx', '0', '0', 'n', 'xx', 'xx', 'xx', 'xx', 'xx', 'xx', 'xx', 'xx', 'xx', 'xx', 'xx', 'xx', 'xx', 'xx', 'xx', 'xx', 'xx', 'xx', 'xx', 'xx', 'xx', 'xx', 'xx', 'xx', 'xx', 'xx', 'xx', 'xx', 'xx', 'xx', 'xx', 'xx', 'A4', '7', '2', '2/4', '100', '1', '45', '18', 'xx', 'xx', 'xx', 'xx', 'xx', '13', '13', '3', '3', '6')\n"
     ]
    }
   ],
   "source": [
    "print(paramsList[0])"
   ]
  },
  {
   "cell_type": "code",
   "execution_count": 8,
   "metadata": {},
   "outputs": [
    {
     "data": {
      "text/plain": [
       "120"
      ]
     },
     "execution_count": 8,
     "metadata": {},
     "output_type": "execute_result"
    }
   ],
   "source": [
    "lbl_name = ['t0','t1']+['p' + str(i) for i in range(1, 17)] + \\\n",
    "           ['a' + str(i) for i in range(1, 6)] + \\\n",
    "           ['b' + str(i) for i in range(1, 6)] + \\\n",
    "           ['c' + str(i) for i in range(1, 6)] + \\\n",
    "           ['d' + str(i) for i in range(1, 10)] + \\\n",
    "           ['e' + str(i) for i in range(1, 61)] + \\\n",
    "           ['f' + str(i) for i in range(1, 10)] + \\\n",
    "           ['g' + str(i) for i in range(1, 3)] + \\\n",
    "           ['h' + str(i) for i in range(1, 3)] + \\\n",
    "           ['i' + str(i) for i in range(1, 3)] + \\\n",
    "           ['j' + str(i) for i in range(1, 4)] \n",
    "len(lbl_name)"
   ]
  },
  {
   "cell_type": "code",
   "execution_count": 9,
   "metadata": {},
   "outputs": [
    {
     "name": "stdout",
     "output_type": "stream",
     "text": [
      "151\n"
     ]
    }
   ],
   "source": [
    "temp = []\n",
    "for params in paramsList:\n",
    "    paramsNew = {}\n",
    "    for i in range(0, 120):\n",
    "        paramsNew[lbl_name[i]] = params[i]\n",
    "    temp.append(paramsNew)\n",
    "paramsList = temp    \n",
    "print(len(paramsList))\n",
    "\n"
   ]
  },
  {
   "cell_type": "code",
   "execution_count": 10,
   "metadata": {},
   "outputs": [
    {
     "name": "stdout",
     "output_type": "stream",
     "text": [
      "['pau', 'd', 'e', 'N', 'd', 'e', 'N', 'm', 'u', 'sh', 'i', 'm', 'u', 'sh', 'i', 'k', 'a', 't', 'a', 'ts']\n",
      "['1', '1', '1', '1', '1', '1', '1', '1', '1', '1']\n",
      "['1', '1', '2', '1', '1', '2', '1', '1', '2', '1', '2', '1', '2', '1', '2', '1', '2', '1', '2', '1']\n",
      "['xx', '13', '13', '13', '13', '13', '13', '13', '13', '13', '13', '13', '13', '13', '13', '13', '13', '13', '13', '13', '13', '13', '13', '13', '13', 'xx', '13', '13', '13', '13', '13', '13', '13', '13', '13', '13', '13', '13', '13', '13', '13', '13', '13', '13', '13', '13', '13', '13', 'xx', '13']\n",
      "['6', '6', '6', '6', '6', '6', '6', '6', '6', '6', '6', '6', '6', '6', '6', '6', '6', '6', '6', '6', '6', '6', '6', '6', '6', '6', '6', '6', '6', '6', '6', '6', '6', '6', '6', '6', '6', '6', '6', '6', '6', '6', '6', '6', '6', '6', '6', '6', '6', '6']\n",
      "['xx', 'xx', 'xx', 'A4', 'A4', 'A4', 'A4', 'Gb4', 'Gb4', 'D4', 'D4', 'D4', 'D4', 'D4', 'D4', 'E4', 'E4', 'Gb4', 'Gb4', 'Gb4', 'Gb4', 'E4', 'E4', 'D4', 'D4', 'E4', 'E4', 'Gb4', 'Gb4', 'G4', 'A4', 'A4', 'B4', 'A4', 'A4', 'A4', 'A4', 'A4', 'A4', 'Gb4', 'Gb4', 'E4', 'E4', 'E4', 'E4', 'D4', 'E4', 'E4', 'Gb4', 'Gb4']\n",
      "['xx', 'A4', 'A4', 'A4', 'A4', 'A4', 'Gb4', 'D4', 'D4', 'D4', 'D4', 'D4', 'D4', 'E4', 'E4', 'Gb4', 'Gb4', 'Gb4', 'Gb4', 'E4', 'E4', 'D4', 'D4', 'E4', 'E4', 'xx', 'Gb4', 'G4', 'G4', 'A4', 'B4', 'B4', 'A4', 'A4', 'A4', 'A4', 'A4', 'Gb4', 'Gb4', 'E4', 'E4', 'E4', 'E4', 'D4', 'D4', 'E4', 'Gb4', 'Gb4', 'xx', 'A4']\n",
      "['A4', 'A4', 'A4', 'A4', 'Gb4', 'Gb4', 'D4', 'D4', 'D4', 'D4', 'D4', 'E4', 'E4', 'Gb4', 'Gb4', 'Gb4', 'Gb4', 'E4', 'E4', 'D4', 'D4', 'E4', 'E4', 'Gb4', 'Gb4', 'Gb4', 'G4', 'A4', 'A4', 'B4', 'A4', 'A4', 'A4', 'A4', 'A4', 'Gb4', 'Gb4', 'E4', 'E4', 'E4', 'E4', 'D4', 'D4', 'E4', 'E4', 'Gb4', 'A4', 'A4', 'A4', 'D5']\n"
     ]
    }
   ],
   "source": [
    "print([paramsList[i]['p4'] for i in range(0, 20)])\n",
    "print([paramsList[i]['b2'] for i in range(0, 10)])\n",
    "print([paramsList[i]['p12'] for i in range(0, 20)])\n",
    "print([paramsList[i]['h1'] for i in range(0, 50)])\n",
    "print([paramsList[i]['j3'] for i in range(0, 50)])\n",
    "\n",
    "# pitch\n",
    "print([paramsList[i]['d1'] for i in range(0, 50)])\n",
    "print([paramsList[i]['e1'] for i in range(0, 50)])\n",
    "print([paramsList[i]['f1'] for i in range(0, 50)])\n",
    "\n",
    "\n",
    "# print([paramsList[0]['g'+str(i)] for i in range(1,5)])\n"
   ]
  },
  {
   "cell_type": "code",
   "execution_count": 11,
   "metadata": {},
   "outputs": [
    {
     "name": "stdout",
     "output_type": "stream",
     "text": [
      "['xx', 'C1', 'Db1', 'D1', 'Eb1', 'E1', 'F1', 'Gb1', 'G1', 'Ab1']\n"
     ]
    }
   ],
   "source": [
    "phonemes = ['pau','xx'] +[ \"a\",\"i\",\"u\",\"e\",\"o\",\"k\",\"g\",\"s\",\"z\",\"sh\",\"j\",\"t\",\"d\",\"ch\",\"q\",\"ts\",\"h\",\"b\",\"p\",\"m\",\"y\",\"r\",\"w\",\"N\",\"n\",\"v\" ]\n",
    "pitches = ['xx']+[pitch + str(i) for i in range(1,8) for pitch in [\"C\", \"Db\", \"D\", \"Eb\", \"E\", \"F\", \"Gb\", \"G\", \"Ab\", \"A\", \"Bb\", \"B\"]] \n",
    "\n",
    "assert phonemes.index('a') == 2\n",
    "assert phonemes.index(paramsList[0]['p4']) == 0\n",
    "assert len(pitches) == 12 * 7 +1\n",
    "print(pitches[0:10])"
   ]
  },
  {
   "cell_type": "code",
   "execution_count": 12,
   "metadata": {},
   "outputs": [],
   "source": [
    "\n",
    "def make_one_hot(data1, size):\n",
    "    data1 = np.array(data1)\n",
    "    return (np.arange(size) == data1[:, None]).astype(np.integer)\n",
    "\n",
    "\n",
    "def make_class(data, classes):\n",
    "    return [classes.index(p) for p in data]\n",
    "\n",
    "\n",
    "def get_params_by_name(name):\n",
    "    return [params[name] for params in paramsList]\n",
    "\n",
    "\n",
    "def convert_params_to_one_hot(name, classes):\n",
    "    data = get_params_by_name(name)\n",
    "    data = make_class(data, classes)\n",
    "    data = make_one_hot(data, len(classes))\n",
    "    return data\n",
    "\n",
    "\n",
    "params_phonemes_one_hot = convert_params_to_one_hot('p4', phonemes)\n",
    "params_phonemes_pre_one_hot = convert_params_to_one_hot('p3',phonemes)\n",
    "params_phonemes_next_one_hot = convert_params_to_one_hot('p5',phonemes)\n",
    "\n",
    "assert len(params_phonemes_pre_one_hot[0]) == len(phonemes)\n",
    "assert len(params_phonemes_next_one_hot[0]) == len(phonemes)\n"
   ]
  },
  {
   "cell_type": "code",
   "execution_count": 13,
   "metadata": {},
   "outputs": [
    {
     "name": "stdout",
     "output_type": "stream",
     "text": [
      "[1 0 0 0 0 0 0 0 0 0 0 0 0 0 0 0 0 0 0 0 0 0 0 0 0 0 0 0 0 0 0 0 0 0 0 0 0\n",
      " 0 0 0 0 0 0 0 0 0 0 0 0 0 0 0 0 0 0 0 0 0 0 0 0 0 0 0 0 0 0 0 0 0 0 0 0 0\n",
      " 0 0 0 0 0 0 0 0 0 0 0]\n",
      "[1 0 0 0 0 0 0 0 0 0 0 0 0 0 0 0 0 0 0 0 0 0 0 0 0 0 0 0 0 0 0 0 0 0 0 0 0\n",
      " 0 0 0 0 0 0 0 0 0 0 0 0 0 0 0 0 0 0 0 0 0 0 0 0 0 0 0 0 0 0 0 0 0 0 0 0 0\n",
      " 0 0 0 0 0 0 0 0 0 0 0]\n"
     ]
    }
   ],
   "source": [
    "params_pitches_one_hot = convert_params_to_one_hot('e1',pitches)\n",
    "params_pitches_pre_one_hot = convert_params_to_one_hot('d1',pitches)\n",
    "params_pitches_next_one_hot = convert_params_to_one_hot('f1',pitches)\n",
    "\n",
    "print(params_pitches_one_hot[0])\n",
    "print(params_pitches_pre_one_hot[2])\n",
    " \n"
   ]
  },
  {
   "cell_type": "code",
   "execution_count": 14,
   "metadata": {},
   "outputs": [],
   "source": [
    "t0 = np.array(get_params_by_name('t0')).astype(float)\n",
    "t1 = np.array(get_params_by_name('t1')).astype(float)\n",
    "params_phoneme_duration = t1 - t0\n",
    "\n",
    "params_phoneme_duration = params_phoneme_duration\n",
    "params_phoneme_duration_pre = np.insert(params_phoneme_duration[:-1], 0, np.nan)\n",
    "params_phoneme_duration_next = np.append(params_phoneme_duration[1:], np.nan)\n"
   ]
  },
  {
   "cell_type": "code",
   "execution_count": 15,
   "metadata": {},
   "outputs": [
    {
     "name": "stdout",
     "output_type": "stream",
     "text": [
      "['1', '1', '2', '1', '1', '2', '1', '1', '2', '1', '2', '1', '2', '1', '2', '1', '2', '1', '2', '1', '2', '1', '2', '1', '2', '1', '1', '1', '2', '1', '1', '2', '1', '1', '2', '1', '2', '1', '2', '1', '2', '1', '2', '1', '2', '1', '1', '2', '1', '1', '2', '1', '2', '1', '2', '1', '2', '1', '2', '1', '2', '1', '2', '1', '2', '1', '1', '2', '1', '2', '1', '2', '1', '2', '1', '1', '2', '1', '1', '2', '1', '1', '2', '1', '2', '1', '2', '1', '2', '1', '2', '1', '2', '1', '2', '1', '2', '1', '2', '1', '1', '1', '2', '1', '1', '2', '1', '2', '1', '2', '1', '2', '1', '2', '1', '2', '1', '2', '1', '2', '1', '1', '2', '1', '1', '2', '1', '2', '1', '2', '1', '2', '1', '2', '1', '2', '1', '2', '1', '2', '1', '2', '1', '2', '1', '2', '1', '2', '1', '2', '1']\n"
     ]
    }
   ],
   "source": [
    "params_pos_in_phonemes_one_hot = get_params_by_name('p12')\n",
    "print(params_pos_in_phonemes_one_hot)\n",
    "\n"
   ]
  },
  {
   "cell_type": "code",
   "execution_count": 16,
   "metadata": {},
   "outputs": [],
   "source": [
    "params={}\n",
    "params."
   ]
  },
  {
   "cell_type": "code",
   "execution_count": null,
   "metadata": {},
   "outputs": [],
   "source": []
  }
 ],
 "metadata": {
  "kernelspec": {
   "display_name": "Python 3",
   "language": "python",
   "name": "python3"
  },
  "language_info": {
   "codemirror_mode": {
    "name": "ipython",
    "version": 3
   },
   "file_extension": ".py",
   "mimetype": "text/x-python",
   "name": "python",
   "nbconvert_exporter": "python",
   "pygments_lexer": "ipython3",
   "version": "3.5.4"
  }
 },
 "nbformat": 4,
 "nbformat_minor": 1
}
