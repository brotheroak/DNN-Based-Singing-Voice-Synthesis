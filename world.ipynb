{
 "cells": [
  {
   "cell_type": "code",
   "execution_count": 1,
   "metadata": {
    "collapsed": true
   },
   "outputs": [
    {
     "name": "stdout",
     "output_type": "stream",
     "text": [
      "Requirement already satisfied: pyworld in ./anaconda/lib/python3.5/site-packages (0.2.4)\r\nRequirement already satisfied: numpy in ./anaconda/lib/python3.5/site-packages (from pyworld) (1.14.2)\r\nRequirement already satisfied: cython>=0.24.0 in ./anaconda/lib/python3.5/site-packages (from pyworld) (0.24.1)\r\n"
     ]
    }
   ],
   "source": [
    "!pip install pyworld"
   ]
  },
  {
   "cell_type": "code",
   "execution_count": 3,
   "metadata": {},
   "outputs": [
    {
     "name": "stdout",
     "output_type": "stream",
     "text": [
      "Cloning into 'Python-Wrapper-for-World-Vocoder'...\r\n"
     ]
    },
    {
     "name": "stdout",
     "output_type": "stream",
     "text": [
      "remote: Counting objects: 351, done.\u001b[K\r\n"
     ]
    },
    {
     "name": "stdout",
     "output_type": "stream",
     "text": [
      "Receiving objects:   0% (1/351)   \rReceiving objects:   1% (4/351)   \rReceiving objects:   2% (8/351)   \rReceiving objects:   3% (11/351)   \rReceiving objects:   4% (15/351)   \rReceiving objects:   5% (18/351)   \rReceiving objects:   6% (22/351)   \rReceiving objects:   7% (25/351)   \rReceiving objects:   8% (29/351)   \rReceiving objects:   9% (32/351)   \rReceiving objects:  10% (36/351)   \r"
     ]
    },
    {
     "name": "stdout",
     "output_type": "stream",
     "text": [
      "Receiving objects:  11% (39/351)   \rReceiving objects:  12% (43/351)   \rReceiving objects:  13% (46/351)   \rReceiving objects:  14% (50/351)   \rReceiving objects:  15% (53/351)   \rReceiving objects:  16% (57/351)   \rReceiving objects:  17% (60/351)   \rReceiving objects:  18% (64/351)   \rReceiving objects:  19% (67/351)   \rReceiving objects:  20% (71/351)   \rReceiving objects:  21% (74/351)   \rReceiving objects:  22% (78/351)   \rReceiving objects:  23% (81/351)   \rReceiving objects:  24% (85/351)   \rReceiving objects:  25% (88/351)   \rReceiving objects:  26% (92/351)   \rReceiving objects:  27% (95/351)   \rReceiving objects:  28% (99/351)   \rReceiving objects:  29% (102/351)   \rReceiving objects:  30% (106/351)   \rReceiving objects:  31% (109/351)   \rReceiving objects:  32% (113/351)   \rReceiving objects:  33% (116/351)   \rReceiving objects:  34% (120/351)   \rReceiving objects:  35% (123/351)   \rReceiving objects:  36% (127/351)   \rReceiving objects:  37% (130/351)   \rReceiving objects:  38% (134/351)   \r"
     ]
    },
    {
     "name": "stdout",
     "output_type": "stream",
     "text": [
      "Receiving objects:  39% (137/351), 52.01 KiB | 84.00 KiB/s   \rReceiving objects:  40% (141/351), 52.01 KiB | 84.00 KiB/s   \rReceiving objects:  41% (144/351), 52.01 KiB | 84.00 KiB/s   \rReceiving objects:  42% (148/351), 52.01 KiB | 84.00 KiB/s   \rReceiving objects:  43% (151/351), 52.01 KiB | 84.00 KiB/s   \rReceiving objects:  44% (155/351), 52.01 KiB | 84.00 KiB/s   \rReceiving objects:  45% (158/351), 52.01 KiB | 84.00 KiB/s   \rReceiving objects:  46% (162/351), 52.01 KiB | 84.00 KiB/s   \rReceiving objects:  47% (165/351), 52.01 KiB | 84.00 KiB/s   \rReceiving objects:  48% (169/351), 52.01 KiB | 84.00 KiB/s   \rReceiving objects:  49% (172/351), 52.01 KiB | 84.00 KiB/s   \rReceiving objects:  50% (176/351), 52.01 KiB | 84.00 KiB/s   \rReceiving objects:  51% (180/351), 52.01 KiB | 84.00 KiB/s   \rReceiving objects:  52% (183/351), 52.01 KiB | 84.00 KiB/s   \rReceiving objects:  53% (187/351), 52.01 KiB | 84.00 KiB/s   \rReceiving objects:  54% (190/351), 52.01 KiB | 84.00 KiB/s   \rReceiving objects:  55% (194/351), 52.01 KiB | 84.00 KiB/s   \rReceiving objects:  56% (197/351), 52.01 KiB | 84.00 KiB/s   \rReceiving objects:  57% (201/351), 52.01 KiB | 84.00 KiB/s   \rReceiving objects:  58% (204/351), 52.01 KiB | 84.00 KiB/s   \rReceiving objects:  59% (208/351), 52.01 KiB | 84.00 KiB/s   \rReceiving objects:  60% (211/351), 52.01 KiB | 84.00 KiB/s   \rReceiving objects:  61% (215/351), 52.01 KiB | 84.00 KiB/s   \rReceiving objects:  62% (218/351), 52.01 KiB | 84.00 KiB/s   \rReceiving objects:  63% (222/351), 52.01 KiB | 84.00 KiB/s   \rremote: Total 351 (delta 0), reused 0 (delta 0), pack-reused 351\u001b[K\r\nReceiving objects:  64% (225/351), 52.01 KiB | 84.00 KiB/s   \rReceiving objects:  65% (229/351), 52.01 KiB | 84.00 KiB/s   \rReceiving objects:  66% (232/351), 52.01 KiB | 84.00 KiB/s   \rReceiving objects:  67% (236/351), 52.01 KiB | 84.00 KiB/s   \rReceiving objects:  68% (239/351), 52.01 KiB | 84.00 KiB/s   \rReceiving objects:  69% (243/351), 52.01 KiB | 84.00 KiB/s   \rReceiving objects:  70% (246/351), 52.01 KiB | 84.00 KiB/s   \rReceiving objects:  71% (250/351), 52.01 KiB | 84.00 KiB/s   \rReceiving objects:  72% (253/351), 52.01 KiB | 84.00 KiB/s   \rReceiving objects:  73% (257/351), 52.01 KiB | 84.00 KiB/s   \rReceiving objects:  74% (260/351), 52.01 KiB | 84.00 KiB/s   \rReceiving objects:  75% (264/351), 52.01 KiB | 84.00 KiB/s   \rReceiving objects:  76% (267/351), 52.01 KiB | 84.00 KiB/s   \rReceiving objects:  77% (271/351), 52.01 KiB | 84.00 KiB/s   \rReceiving objects:  78% (274/351), 52.01 KiB | 84.00 KiB/s   \rReceiving objects:  79% (278/351), 52.01 KiB | 84.00 KiB/s   \r"
     ]
    },
    {
     "name": "stdout",
     "output_type": "stream",
     "text": [
      "Receiving objects:  80% (281/351), 52.01 KiB | 84.00 KiB/s   \rReceiving objects:  81% (285/351), 52.01 KiB | 84.00 KiB/s   \rReceiving objects:  82% (288/351), 52.01 KiB | 84.00 KiB/s   \rReceiving objects:  83% (292/351), 52.01 KiB | 84.00 KiB/s   \rReceiving objects:  84% (295/351), 52.01 KiB | 84.00 KiB/s   \rReceiving objects:  85% (299/351), 52.01 KiB | 84.00 KiB/s   \rReceiving objects:  86% (302/351), 52.01 KiB | 84.00 KiB/s   \rReceiving objects:  87% (306/351), 52.01 KiB | 84.00 KiB/s   \rReceiving objects:  88% (309/351), 52.01 KiB | 84.00 KiB/s   \rReceiving objects:  89% (313/351), 52.01 KiB | 84.00 KiB/s   \rReceiving objects:  90% (316/351), 52.01 KiB | 84.00 KiB/s   \rReceiving objects:  91% (320/351), 52.01 KiB | 84.00 KiB/s   \rReceiving objects:  92% (323/351), 52.01 KiB | 84.00 KiB/s   \rReceiving objects:  93% (327/351), 52.01 KiB | 84.00 KiB/s   \rReceiving objects:  94% (330/351), 52.01 KiB | 84.00 KiB/s   \rReceiving objects:  95% (334/351), 52.01 KiB | 84.00 KiB/s   \rReceiving objects:  96% (337/351), 52.01 KiB | 84.00 KiB/s   \rReceiving objects:  97% (341/351), 52.01 KiB | 84.00 KiB/s   \rReceiving objects:  98% (344/351), 52.01 KiB | 84.00 KiB/s   \rReceiving objects:  99% (348/351), 52.01 KiB | 84.00 KiB/s   \rReceiving objects: 100% (351/351), 52.01 KiB | 84.00 KiB/s   \rReceiving objects: 100% (351/351), 99.36 KiB | 172.00 KiB/s, done.\r\nResolving deltas:   0% (0/179)   \rResolving deltas:   2% (4/179)   \rResolving deltas:   4% (8/179)   \rResolving deltas:   5% (10/179)   \rResolving deltas:   8% (15/179)   \rResolving deltas:  37% (67/179)   \rResolving deltas:  39% (70/179)   \rResolving deltas:  50% (91/179)   \rResolving deltas:  51% (92/179)   \rResolving deltas:  52% (94/179)   \rResolving deltas:  57% (103/179)   \rResolving deltas:  58% (104/179)   \rResolving deltas:  59% (107/179)   \rResolving deltas:  62% (111/179)   \rResolving deltas:  63% (113/179)   \rResolving deltas:  64% (115/179)   \rResolving deltas:  65% (117/179)   \rResolving deltas:  66% (119/179)   \rResolving deltas:  67% (121/179)   \rResolving deltas:  68% (122/179)   \rResolving deltas:  69% (124/179)   \rResolving deltas:  71% (128/179)   \rResolving deltas:  73% (131/179)   \rResolving deltas:  77% (139/179)   \rResolving deltas:  78% (141/179)   \rResolving deltas:  79% (143/179)   \rResolving deltas:  80% (144/179)   \rResolving deltas:  88% (158/179)   \rResolving deltas:  89% (160/179)   \rResolving deltas:  90% (162/179)   \rResolving deltas:  91% (164/179)   \rResolving deltas:  95% (171/179)   \rResolving deltas:  96% (173/179)   \rResolving deltas:  97% (174/179)   \rResolving deltas: 100% (179/179)   \rResolving deltas: 100% (179/179), done.\r\n"
     ]
    },
    {
     "name": "stdout",
     "output_type": "stream",
     "text": [
      "fatal: Not a git repository (or any of the parent directories): .git\r\n"
     ]
    },
    {
     "name": "stdout",
     "output_type": "stream",
     "text": [
      "Requirement already up-to-date: pip in ./anaconda/lib/python3.5/site-packages (10.0.1)\r\n"
     ]
    },
    {
     "name": "stdout",
     "output_type": "stream",
     "text": [
      "\u001b[31mCould not open requirements file: [Errno 2] No such file or directory: 'requirements.txt'\u001b[0m\r\n"
     ]
    },
    {
     "name": "stdout",
     "output_type": "stream",
     "text": [
      "\u001b[31mDirectory '.' is not installable. File 'setup.py' not found.\u001b[0m\r\n"
     ]
    }
   ],
   "source": [
    "!git clone https://github.com/JeremyCCHsu/Python-Wrapper-for-World-Vocoder.git\n",
    "!cd Python-Wrapper-for-World-Vocoder\n",
    "!git submodule update --init\n",
    "!pip install -U pip\n",
    "!pip install -r requirements.txt\n",
    "!pip install ."
   ]
  },
  {
   "cell_type": "code",
   "execution_count": 8,
   "metadata": {},
   "outputs": [
    {
     "name": "stdout",
     "output_type": "stream",
     "text": [
      "\u001b[34mAnacondaProjects\u001b[m\u001b[m\r\n\u001b[34mAndroid-ObservableScrollView\u001b[m\u001b[m\r\n\u001b[34mAndroidStudioProjects\u001b[m\u001b[m\r\n\u001b[34mApplications\u001b[m\u001b[m\r\n\u001b[34mApplications (Parallels)\u001b[m\u001b[m\r\n\u001b[34mBackup\u001b[m\u001b[m\r\n\u001b[34mBaiduyun\u001b[m\u001b[m\r\n\u001b[34mCreative Cloud Files\u001b[m\u001b[m\r\n\u001b[34mDesktop\u001b[m\u001b[m\r\n\u001b[34mDocuments\u001b[m\u001b[m\r\n\u001b[30m\u001b[43mDownloads\u001b[m\u001b[m\r\n\u001b[34mDropbox\u001b[m\u001b[m\r\n\u001b[34mGitBook\u001b[m\u001b[m\r\n\u001b[34mHBuilder\u001b[m\u001b[m\r\n\u001b[34mHBuilderProjects\u001b[m\u001b[m\r\n\u001b[34mIBM\u001b[m\u001b[m\r\n\u001b[34mLibrary\u001b[m\u001b[m\r\n\u001b[34mMovies\u001b[m\u001b[m\r\n\u001b[34mMusic\u001b[m\u001b[m\r\n\u001b[34mPhotos Library.photoslibrary\u001b[m\u001b[m\r\n\u001b[34mPictures\u001b[m\u001b[m\r\n\u001b[34mProgramming\u001b[m\u001b[m\r\n\u001b[34mProjects\u001b[m\u001b[m\r\n\u001b[34mProtege_3.4.8\u001b[m\u001b[m\r\n\u001b[31mProtege_3.4.8_Install_05_10_2017_15_29_34.log\u001b[m\u001b[m\r\n\u001b[34mPublic\u001b[m\u001b[m\r\n\u001b[34mPython-Wrapper-for-World-Vocoder\u001b[m\u001b[m\r\n\u001b[34mSites\u001b[m\u001b[m\r\nSqlViewerHistory.props\r\n\u001b[34mVirtualBox VMs\u001b[m\u001b[m\r\n\u001b[34mWebstormProjects\u001b[m\u001b[m\r\n[keystore_name].keystore\r\n\u001b[34manaconda\u001b[m\u001b[m\r\n\u001b[34manaconda2\u001b[m\u001b[m\r\n\u001b[34mandroid-sdks\u001b[m\u001b[m\r\nbuild.gradle\r\n\u001b[34mdemoMongodb\u001b[m\u001b[m\r\ndownloads.lnk\r\n\u001b[34mdump\u001b[m\u001b[m\r\n\u001b[34meclipse\u001b[m\u001b[m\r\n\u001b[34mgit\u001b[m\u001b[m\r\n\u001b[34mgradle\u001b[m\u001b[m\r\n\u001b[31mgradlew\u001b[m\u001b[m\r\ngradlew.bat\r\niFanerKey.jks\r\njava_error_in_webstorm.hprof\r\nlocal.properties\r\n\u001b[34mmcu\u001b[m\u001b[m\r\n\u001b[34mnltk_data\u001b[m\u001b[m\r\n\u001b[34mnode_modules\u001b[m\u001b[m\r\n\u001b[34mnodeftpd\u001b[m\u001b[m\r\n\u001b[34mparos\u001b[m\u001b[m\r\n\u001b[34mrational\u001b[m\u001b[m\r\nsettings.gradle\r\n\u001b[34mshushubuyueapp\u001b[m\u001b[m\r\nsound-machine-config.json\r\n\u001b[34mtemp\u001b[m\u001b[m\r\nthumbs.db\r\n\u001b[34mwekafiles\u001b[m\u001b[m\r\n\u001b[34m素材\u001b[m\u001b[m\r\n"
     ]
    }
   ],
   "source": [
    "!ls"
   ]
  },
  {
   "cell_type": "code",
   "execution_count": 5,
   "metadata": {},
   "outputs": [],
   "source": [
    "import pyworld as pw"
   ]
  },
  {
   "cell_type": "code",
   "execution_count": 6,
   "metadata": {},
   "outputs": [
    {
     "ename": "NameError",
     "evalue": "name 'x' is not defined",
     "traceback": [
      "\u001b[0;31m---------------------------------------------------------------------------\u001b[0m",
      "\u001b[0;31mNameError\u001b[0m                                 Traceback (most recent call last)",
      "\u001b[0;32m<ipython-input-6-e0af7a2963e0>\u001b[0m in \u001b[0;36m<module>\u001b[0;34m()\u001b[0m\n\u001b[0;32m----> 1\u001b[0;31m \u001b[0m_f0\u001b[0m\u001b[0;34m,\u001b[0m \u001b[0mt\u001b[0m \u001b[0;34m=\u001b[0m \u001b[0mpw\u001b[0m\u001b[0;34m.\u001b[0m\u001b[0mdio\u001b[0m\u001b[0;34m(\u001b[0m\u001b[0mx\u001b[0m\u001b[0;34m,\u001b[0m \u001b[0mfs\u001b[0m\u001b[0;34m)\u001b[0m    \u001b[0;31m# raw pitch extractor\u001b[0m\u001b[0;34m\u001b[0m\u001b[0m\n\u001b[0m\u001b[1;32m      2\u001b[0m \u001b[0mf0\u001b[0m \u001b[0;34m=\u001b[0m \u001b[0mpw\u001b[0m\u001b[0;34m.\u001b[0m\u001b[0mstonemask\u001b[0m\u001b[0;34m(\u001b[0m\u001b[0mx\u001b[0m\u001b[0;34m,\u001b[0m \u001b[0m_f0\u001b[0m\u001b[0;34m,\u001b[0m \u001b[0mt\u001b[0m\u001b[0;34m,\u001b[0m \u001b[0mfs\u001b[0m\u001b[0;34m)\u001b[0m  \u001b[0;31m# pitch refinement\u001b[0m\u001b[0;34m\u001b[0m\u001b[0m\n\u001b[1;32m      3\u001b[0m \u001b[0msp\u001b[0m \u001b[0;34m=\u001b[0m \u001b[0mpw\u001b[0m\u001b[0;34m.\u001b[0m\u001b[0mcheaptrick\u001b[0m\u001b[0;34m(\u001b[0m\u001b[0mx\u001b[0m\u001b[0;34m,\u001b[0m \u001b[0mf0\u001b[0m\u001b[0;34m,\u001b[0m \u001b[0mt\u001b[0m\u001b[0;34m,\u001b[0m \u001b[0mfs\u001b[0m\u001b[0;34m)\u001b[0m  \u001b[0;31m# extract smoothed spectrogram\u001b[0m\u001b[0;34m\u001b[0m\u001b[0m\n\u001b[1;32m      4\u001b[0m \u001b[0map\u001b[0m \u001b[0;34m=\u001b[0m \u001b[0mpw\u001b[0m\u001b[0;34m.\u001b[0m\u001b[0md4c\u001b[0m\u001b[0;34m(\u001b[0m\u001b[0mx\u001b[0m\u001b[0;34m,\u001b[0m \u001b[0mf0\u001b[0m\u001b[0;34m,\u001b[0m \u001b[0mt\u001b[0m\u001b[0;34m,\u001b[0m \u001b[0mfs\u001b[0m\u001b[0;34m)\u001b[0m         \u001b[0;31m# extract aperiodicity\u001b[0m\u001b[0;34m\u001b[0m\u001b[0m\n\u001b[1;32m      5\u001b[0m \u001b[0my\u001b[0m \u001b[0;34m=\u001b[0m \u001b[0mpw\u001b[0m\u001b[0;34m.\u001b[0m\u001b[0msynthesize\u001b[0m\u001b[0;34m(\u001b[0m\u001b[0mf0\u001b[0m\u001b[0;34m,\u001b[0m \u001b[0msp\u001b[0m\u001b[0;34m,\u001b[0m \u001b[0map\u001b[0m\u001b[0;34m,\u001b[0m \u001b[0mfs\u001b[0m\u001b[0;34m)\u001b[0m\u001b[0;34m\u001b[0m\u001b[0m\n",
      "\u001b[0;31mNameError\u001b[0m: name 'x' is not defined"
     ],
     "output_type": "error"
    }
   ],
   "source": [
    ""
   ]
  },
  {
   "cell_type": "code",
   "execution_count": null,
   "metadata": {},
   "outputs": [],
   "source": []
  }
 ],
 "metadata": {
  "kernelspec": {
   "display_name": "Python 2",
   "language": "python",
   "name": "python2"
  },
  "language_info": {
   "codemirror_mode": {
    "name": "ipython",
    "version": 2
   },
   "file_extension": ".py",
   "mimetype": "text/x-python",
   "name": "python",
   "nbconvert_exporter": "python",
   "pygments_lexer": "ipython2",
   "version": "2.7.6"
  }
 },
 "nbformat": 4,
 "nbformat_minor": 0
}
