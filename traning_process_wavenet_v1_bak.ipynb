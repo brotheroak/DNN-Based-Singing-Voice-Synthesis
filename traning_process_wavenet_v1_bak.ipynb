{
 "cells": [
  {
   "cell_type": "code",
   "execution_count": 3,
   "metadata": {
    "collapsed": true
   },
   "outputs": [
    {
     "name": "stderr",
     "output_type": "stream",
     "text": [
      "Using TensorFlow backend.\n"
     ]
    },
    {
     "name": "stderr",
     "output_type": "stream",
     "text": [
      "/Users/Zizy/anaconda/envs/tensorflow/lib/python3.5/importlib/_bootstrap.py:222: RuntimeWarning: compiletime version 3.6 of module 'tensorflow.python.framework.fast_tensor_util' does not match runtime version 3.5\n  return f(*args, **kwds)\n"
     ]
    }
   ],
   "source": [
    "import re\n",
    "import numpy as np\n",
    "import pandas as pd\n",
    "from keras.models import *\n",
    "from keras.layers import *\n",
    "from keras.layers import *\n",
    "from keras import optimizers\n",
    "from keras.utils import np_utils\n",
    "from keras.callbacks import TensorBoard\n",
    "from keras.models import load_model\n",
    "import math\n",
    "import os.path\n"
   ]
  },
  {
   "cell_type": "code",
   "execution_count": 4,
   "metadata": {},
   "outputs": [
    {
     "name": "stdout",
     "output_type": "stream",
     "text": [
      "120\n"
     ]
    }
   ],
   "source": [
    "reg = \"(.*) (.*) (.*)\\@(.*)\\^(.*)\\-(.*)\\+(.*)\\=(.*)\\_(.*)\\%(.*)\\^(.*)\\_(.*)\\~(.*)\\-(.*)\\!(.*)\\[(.*)\\$(.*)\\](.*)/A:(.*)\\-(.*)\\-(.*)\\@(.*)\\~(.*)/B:(.*)\\_(.*)\\_(.*)\\@(.*)\\|(.*)/C:(.*)\\+(.*)\\+(.*)\\@(.*)\\&(.*)/D:(.*)\\!(.*)\\#(.*)\\$(.*)\\%(.*)\\|(.*)\\&(.*)\\;(.*)\\-(.*)/E:(.*)\\](.*)\\^(.*)\\=(.*)\\~(.*)\\!(.*)\\@(.*)\\#(.*)\\+(.*)\\](.*)\\$(.*)\\|(.*)\\[(.*)\\&(.*)\\](.*)\\=(.*)\\^(.*)\\~(.*)\\#(.*)\\_(.*)\\;(.*)\\$(.*)\\&(.*)\\%(.*)\\[(.*)\\|(.*)\\](.*)\\-(.*)\\^(.*)\\+(.*)\\~(.*)\\=(.*)\\@(.*)\\$(.*)\\!(.*)\\%(.*)\\#(.*)\\|(.*)\\|(.*)\\-(.*)\\&(.*)\\&(.*)\\+(.*)\\[(.*)\\;(.*)\\](.*)\\;(.*)\\~(.*)\\~(.*)\\^(.*)\\^(.*)\\@(.*)\\[(.*)\\#(.*)\\=(.*)\\!(.*)\\~(.*)\\+(.*)\\!(.*)\\^(.*)/F:(.*)\\#(.*)\\#(.*)\\-(.*)\\$(.*)\\$(.*)\\+(.*)\\%(.*)\\;(.*)/G:(.*)\\_(.*)/H:(.*)\\_(.*)/I:(.*)\\_(.*)/J:(.*)\\~(.*)\\@(.*)\"\n",
    "li = re.findall(reg,\"0 12000000 p@xx^xx-pau+d=e_xx%xx^00_00~00-1!1[xx$xx]xx/A:xx-xx-xx@xx~xx/B:1_1_1@xx|xx/C:2+1+1@JPN&0/D:xx!xx#xx$xx%xx|xx&xx;xx-xx/E:xx]xx^2=2/4~100!1@120#48+xx]1$1|0[12&0]48=0^100~xx#xx_xx;xx$xx&xx%xx[xx|0]0-n^xx+xx~xx=xx@xx$xx!xx%xx#xx|xx|xx-xx&xx&xx+xx[xx;xx]xx;xx~xx~xx^xx^xx@xx[xx#xx=xx!xx~xx+xx!xx^xx/F:A4#7#2-2/4$100$1+45%18;xx/G:xx_xx/H:xx_xx/I:13_13/J:3~3@6\")\n",
    "\n",
    "phonemes = ['pau','xx'] +[\"ny\",\"ty\",\"py\",\"ky\",\"ry\",\"f\",\"br\",\"sil\",\"cl\",\"a\",\"i\",\"u\",\"e\",\"o\",\"k\",\"g\",\"s\",\"z\",\"sh\",\"j\",\"t\",\"d\",\"ch\",\"q\",\"ts\",\"h\",\"b\",\"p\",\"m\",\"y\",\"r\",\"w\",\"N\",\"n\",\"v\" ]\n",
    "pitches = ['xx']+[pitch + str(i) for i in range(1,8) for pitch in [\"C\", \"Db\", \"D\", \"Eb\", \"E\", \"F\", \"Gb\", \"G\", \"Ab\", \"A\", \"Bb\", \"B\"]] \n",
    "\n",
    "local_path='/Users/Zizy/Programming/HKU/Dissertation/'\n",
    "\n",
    "lbl_name = ['t0','t1']+['p' + str(i) for i in range(1, 17)] + \\\n",
    "           ['a' + str(i) for i in range(1, 6)] + \\\n",
    "           ['b' + str(i) for i in range(1, 6)] + \\\n",
    "           ['c' + str(i) for i in range(1, 6)] + \\\n",
    "           ['d' + str(i) for i in range(1, 10)] + \\\n",
    "           ['e' + str(i) for i in range(1, 61)] + \\\n",
    "           ['f' + str(i) for i in range(1, 10)] + \\\n",
    "           ['g' + str(i) for i in range(1, 3)] + \\\n",
    "           ['h' + str(i) for i in range(1, 3)] + \\\n",
    "           ['i' + str(i) for i in range(1, 3)] + \\\n",
    "           ['j' + str(i) for i in range(1, 4)] \n",
    "\n",
    "\n",
    "print(len(li[0]))"
   ]
  },
  {
   "cell_type": "code",
   "execution_count": 5,
   "metadata": {},
   "outputs": [],
   "source": [
    "def read_songs_labels():\n",
    "    labs = []\n",
    "    for i in range(0, 71):\n",
    "        label_file_name = 'nitech_jp_song070_f001_0' + (('0' + str(i)) if i < 10 else str(i)) + '.lab'\n",
    "        if not os.path.isfile(local_path+'lab/' + label_file_name):\n",
    "            continue\n",
    "        with open(local_path+'lab/' + label_file_name, 'r') as lab_file:\n",
    "            lines = lab_file.readlines()\n",
    "            params_list = []\n",
    "            for line in lines:\n",
    "                ps = re.findall(reg, line)\n",
    "                params_list.append(ps[0])\n",
    "            temp = []\n",
    "            for params in params_list:\n",
    "                params_temp = {}\n",
    "                for i in range(0, 120):\n",
    "                    params_temp[lbl_name[i]] = params[i]\n",
    "                temp.append(params_temp)\n",
    "            params_list = temp    \n",
    "\n",
    "            labs.append(params_list)\n",
    "    return labs\n",
    "\n",
    "\n",
    "def make_one_hot(data1, size):\n",
    "    data1 = np.array(data1)\n",
    "    return (np.arange(size) == data1[:, None]).astype(np.integer)\n",
    "\n",
    "\n",
    "def make_class(data, classes):\n",
    "    return [classes.index(p) for p in data]\n",
    "\n",
    "def get_params_by_name(name,params_list):\n",
    "    return [params[name] for params in params_list]\n",
    "\n",
    "\n",
    "def convert_params_to_one_hot(name, classes,params_list):\n",
    "    data = get_params_by_name(name,params_list)\n",
    "    data = make_class(data, classes)\n",
    "    data = make_one_hot(data, len(classes))\n",
    "    return data\n",
    "\n",
    "\n",
    "# with mono file updated\n",
    "def read_songs_labels_with_mono():\n",
    "    labs = []\n",
    "    for i in range(0, 71):\n",
    "        label_file_name = 'nitech_jp_song070_f001_0' + (('0' + str(i)) if i < 10 else str(i)) + '.lab'\n",
    "        if not os.path.isfile(local_path+'lab/' + label_file_name):\n",
    "            continue\n",
    "        if not os.path.isfile(local_path+'mono/' + label_file_name):\n",
    "            continue\n",
    "        \n",
    "        lab_file =  open(local_path+'lab/' + label_file_name, 'r')\n",
    "        lab_file_mono = open(local_path+'mono/' + label_file_name, 'r')\n",
    "        lines = lab_file.readlines()\n",
    "        lines_mono = lab_file_mono.readlines()\n",
    "        params_list = []\n",
    "        for index,line in enumerate(lines):\n",
    "            ps = list(re.findall(reg, line)[0])\n",
    "            ps2 = re.findall(\"(.*) (.*) (.*)\",lines_mono[index])[0]\n",
    "            \n",
    "            ps[0] = ps2[0]\n",
    "            ps[1] = ps2[1]\n",
    "            params_list.append(ps)\n",
    "        temp = []\n",
    "        for params in params_list:\n",
    "            params_temp = {}\n",
    "            for i in range(0, 120):\n",
    "                params_temp[lbl_name[i]] = params[i]\n",
    "            temp.append(params_temp)\n",
    "        params_list = temp    \n",
    "        \n",
    "        lab_file.close()\n",
    "        lab_file_mono.close()\n",
    "\n",
    "        labs.append(params_list)\n",
    "    return labs\n",
    "\n",
    "\n",
    "def feature_expend(labs):\n",
    "    modified_labs = []\n",
    "    for index, lab_file in enumerate(labs):\n",
    "        modified_labs.append([])\n",
    "        max_time_stamp = int(lab_file[-1][\"t1\"])\n",
    "        f0_size = math.ceil((max_time_stamp / 10000 / 5))+1\n",
    "        sample_index = 0\n",
    "        for sample in range(0, f0_size):\n",
    "            if int(lab_file[sample_index][\"t1\"]) / 10000 / 5 > sample:\n",
    "                modified_labs[index].append(lab_file[sample_index])\n",
    "            else:\n",
    "                if len(lab_file)>sample_index+1:\n",
    "                    sample_index += 1\n",
    "                modified_labs[index].append(lab_file[sample_index])\n",
    "\n",
    "    return modified_labs\n",
    "\n",
    "\n"
   ]
  },
  {
   "cell_type": "code",
   "execution_count": 7,
   "metadata": {},
   "outputs": [],
   "source": [
    "# labs  = read_songs_labels()\n",
    "labs = read_songs_labels_with_mono()\n",
    "\n",
    "labs = feature_expend(labs)\n"
   ]
  },
  {
   "cell_type": "code",
   "execution_count": 9,
   "metadata": {
    "collapsed": false
   },
   "outputs": [
    {
     "name": "stdout",
     "output_type": "stream",
     "text": [
      "max sample size: 29761\n"
     ]
    }
   ],
   "source": [
    "stacked_labs_with_feature = []\n",
    "feature_num  = 0\n",
    "\n",
    "temp = []\n",
    "for lab in labs:\n",
    "    temp.append(len(lab))\n",
    "max_sample_size = max(temp)\n",
    "print(\"max sample size: %s\" % max_sample_size)\n",
    "\n",
    "for lab in labs:\n",
    "    t0 = np.array(get_params_by_name('t0', lab)).astype(float) / 10000\n",
    "    t1 = np.array(get_params_by_name('t1', lab)).astype(float) / 10000\n",
    "    params_phoneme_duration = t1 - t0\n",
    "\n",
    "    params_phoneme_duration_pre = np.insert(params_phoneme_duration[:-1], 0, np.average(params_phoneme_duration))\n",
    "    params_phoneme_duration_next = np.append(params_phoneme_duration[1:], np.average(params_phoneme_duration))\n",
    "    params_phonemes_one_hot = convert_params_to_one_hot('p4', phonemes, lab)\n",
    "    params_phonemes_pre_one_hot = convert_params_to_one_hot('p3', phonemes, lab)\n",
    "    params_phonemes_next_one_hot = convert_params_to_one_hot('p5', phonemes, lab)\n",
    "    params_pitches_one_hot = convert_params_to_one_hot('e1', pitches, lab)\n",
    "    params_pitches_pre_one_hot = convert_params_to_one_hot('d1', pitches, lab)\n",
    "    params_pitches_next_one_hot = convert_params_to_one_hot('f1', pitches, lab)\n",
    "\n",
    "    stacked_feature = np.hstack([params_phonemes_one_hot,\n",
    "                                 params_phonemes_pre_one_hot,\n",
    "                                 params_pitches_one_hot,\n",
    "                                 params_pitches_pre_one_hot,\n",
    "                                 params_pitches_next_one_hot,\n",
    "                                 np.reshape(params_phoneme_duration, (len(params_phoneme_duration), 1)),\n",
    "                                 np.reshape(params_phoneme_duration_pre, (len(params_phoneme_duration_pre), 1)),\n",
    "                                 np.reshape(params_phoneme_duration_next, (len(params_phoneme_duration_next), 1)),\n",
    "                                 ])\n",
    "    stacked_feature = np.vstack([stacked_feature, \n",
    "                                 np.zeros((max_sample_size-stacked_feature.shape[0],stacked_feature.shape[1]))])\n",
    "\n",
    "    stacked_labs_with_feature.append(stacked_feature)\n",
    "\n",
    "stacked_labs_with_feature = np.array(stacked_labs_with_feature)\n",
    "\n",
    "# np.reshape(stacked_labs_with_feature ,(31, max_sample_size, 314))\n",
    "# print(len(stacked_labs_with_feature))\n",
    "# print(stacked_labs_with_feature[:-1])\n"
   ]
  },
  {
   "cell_type": "code",
   "execution_count": 11,
   "metadata": {
    "collapsed": true
   },
   "outputs": [
    {
     "name": "stdout",
     "output_type": "stream",
     "text": [
      "29761\n"
     ]
    }
   ],
   "source": [
    "def read_f0s():\n",
    "    max_f0_size = 0\n",
    "    f0s = []\n",
    "    for i in range(0, 71):\n",
    "        f0_file_name = 'nitech_jp_song070_f001_0' + (('0' + str(i)) if i < 10 else str(i)) + '_f0.txt'\n",
    "        if not os.path.isfile(local_path+'gen/' + f0_file_name):\n",
    "            continue\n",
    "        with open(local_path+'gen/' + f0_file_name, 'r') as f0_file:\n",
    "            lines = f0_file.readlines()\n",
    "            lines = np.array(lines).astype(np.float)\n",
    "\n",
    "            if len(lines) > max_f0_size:\n",
    "                max_f0_size = len(lines)\n",
    "            f0s.append(lines)\n",
    "    \n",
    "    # 即要生成的最多个f0，\n",
    "    print(max_f0_size)\n",
    "\n",
    "    for index, f0 in enumerate(f0s):\n",
    "        f0s[index] = np.append(f0, np.zeros(max_f0_size - len(f0)))\n",
    "\n",
    "    f0s = np.array(f0s)\n",
    "    f0s = np.reshape(f0s, (f0s.shape[0], f0s.shape[1], 1))\n",
    "    return f0s, max_f0_size\n",
    "\n",
    "\n",
    "\n",
    "f0s, max_f0_size = read_f0s()\n"
   ]
  },
  {
   "cell_type": "code",
   "execution_count": 13,
   "metadata": {
    "collapsed": false
   },
   "outputs": [
    {
     "name": "stdout",
     "output_type": "stream",
     "text": [
      "(31, 29761, 1)\n(31, 29761, 332)\n"
     ]
    }
   ],
   "source": [
    "print(f0s.shape)\n",
    "print(stacked_labs_with_feature.shape)\n",
    "max_f0_size\n",
    "def wavenetBlock(n_atrous_filters, atrous_filter_size, dilation_rate):\n",
    "    def f(input_):\n",
    "        residual = input_\n",
    "        tanh_out = Conv1D(n_atrous_filters, atrous_filter_size,\n",
    "                          dilation_rate=dilation_rate,\n",
    "                          padding='causal',\n",
    "\n",
    "                          activation='tanh')(input_)\n",
    "        sigmoid_out = Conv1D(n_atrous_filters, atrous_filter_size,\n",
    "                             dilation_rate=dilation_rate,\n",
    "                             padding='causal',\n",
    "                             activation='sigmoid')(input_)\n",
    "        merged = Multiply()([tanh_out, sigmoid_out])\n",
    "        skip_out = Conv1D(1, 1, activation='relu', padding='same')(merged)\n",
    "        out = Add()([skip_out, residual])\n",
    "        return out, skip_out\n",
    "\n",
    "    return f\n",
    "\n",
    "\n",
    "def get_basic_generative_model(input_dim):\n",
    "    input_ = Input(shape=(input_dim, 1))\n",
    "    A, B = wavenetBlock(64, 2, 2)(input_)\n",
    "    skip_connections = [B]\n",
    "    for i in range(20):\n",
    "        A, B = wavenetBlock(64, 2, 2 ** ((i + 2) % 9))(A)\n",
    "        skip_connections.append(B)\n",
    "    net = Add()(skip_connections)\n",
    "    net = Activation('relu')(net)\n",
    "    net = Convolution1D(1, 1, activation='relu')(net)\n",
    "    net = Convolution1D(1, 1)(net)\n",
    "    net = Flatten()(net)\n",
    "    net = Dense(1000, activation='softmax')(net)\n",
    "    model = Model(input=input_, output=net)\n",
    "    model.compile(loss='categorical_crossentropy', optimizer='sgd',\n",
    "                  metrics=['accuracy'])\n",
    "    model.summary()\n",
    "    return model\n",
    "\n",
    "\n",
    "def frame_generator(total_frame, input_data_size, frame_shift, control_input, minibatch_size=20):\n",
    "    X = []\n",
    "    y = []\n",
    "    while 1:\n",
    "\n",
    "        for lab_file_index in range(0, len(total_frame)):\n",
    "            total_frame_len = len(total_frame[lab_file_index])\n",
    "\n",
    "            for cold_start_index in range(0,input_data_size):\n",
    "                frame=np.zeros((input_data_size-cold_start_index,1))\n",
    "                frame = np.append(frame,total_frame[lab_file_index][:cold_start_index])\n",
    "                frame = np.append(frame,control_input[lab_file_index][cold_start_index])\n",
    "                X.append(frame.reshape((input_data_size+control_input.shape[2],1)))\n",
    "\n",
    "                temp = total_frame[lab_file_index][cold_start_index]\n",
    "                target_val = int(temp)\n",
    "                y.append((np.eye(1000)[target_val]))\n",
    "\n",
    "            for i in range(0, total_frame_len - input_data_size - 1, frame_shift):\n",
    "\n",
    "                # 获取一帧\n",
    "                frame = total_frame[lab_file_index][i:i + input_data_size]\n",
    "\n",
    "                if len(frame) < input_data_size:\n",
    "                    break\n",
    "\n",
    "                if i + input_data_size >= total_frame_len:\n",
    "                    break\n",
    "\n",
    "                # 获取该帧 frame 后面的那个sample\n",
    "                temp = total_frame[lab_file_index][i + input_data_size]\n",
    "                target_val = int(temp)\n",
    "\n",
    "                # frame.shape = (64,1)\n",
    "\n",
    "                # Control Input\n",
    "                frame = np.append(frame, control_input[lab_file_index][i + input_data_size])\n",
    "                # print(frame.shape)\n",
    "\n",
    "                # X值即前一帧\n",
    "                X.append(frame.reshape((input_data_size + control_input.shape[2], 1)))\n",
    "\n",
    "                # 相当于一个one hot vec. 只激活第target_val个元素\n",
    "                y.append((np.eye(1000)[target_val]))\n",
    "\n",
    "                # 获取一个mini-batch的数据返回\n",
    "                if len(X) == minibatch_size:\n",
    "                    yield np.array(X), np.array(y)\n",
    "                    X = []\n",
    "                    y = []\n",
    "\n",
    "\n",
    "def f0_generate(model, f0_window_size,input_size, control_input):\n",
    "    print('Generating audio...')\n",
    "    new_f0s = np.zeros(max_f0_size)\n",
    "    seed_audio = np.zeros(f0_window_size)\n",
    "    curr_sample_idx = 0\n",
    "    while curr_sample_idx < new_f0s.shape[0]:\n",
    "        seed = np.append(seed_audio, control_input[curr_sample_idx])\n",
    "\n",
    "        distribution = np.array(model.predict(seed.reshape(1, input_size, 1)\n",
    "                                              ), dtype=float).reshape(1000)\n",
    "\n",
    "        # 让output变成一个零和的输出\n",
    "        distribution /= distribution.sum().astype(float)\n",
    "\n",
    "        # 按照几率输出预测值（很厉害），即把one hot转换成了单一数值\n",
    "        predicted_val = np.random.choice(range(1000), p=distribution)\n",
    "        \n",
    "        new_f0s[curr_sample_idx] = predicted_val\n",
    "        seed_audio[:-1] = seed_audio[1:]\n",
    "        seed_audio[-1] = predicted_val\n",
    "\n",
    "        # percent\n",
    "        # pc_str = str(round(100 * curr_sample_idx / float(new_audio.shape[0]), 2))\n",
    "        # sys.stdout.write('Percent complete: ' + pc_str + '\\r')\n",
    "        # sys.stdout.flush()\n",
    "        curr_sample_idx += 1\n",
    "        if curr_sample_idx % int(new_f0s.shape[0]/10) ==0:\n",
    "            print(curr_sample_idx / int(new_f0s.shape[0]/10))\n",
    "    print('Audio generated.')\n",
    "    return new_f0s.astype(np.int16)\n"
   ]
  },
  {
   "cell_type": "code",
   "execution_count": null,
   "metadata": {
    "collapsed": false
   },
   "outputs": [
    {
     "name": "stdout",
     "output_type": "stream",
     "text": [
      "ERROR! Session/line number was not unique in database. History logging moved to new session 63\n"
     ]
    },
    {
     "name": "stderr",
     "output_type": "stream",
     "text": [
      "/Users/Zizy/anaconda/lib/python3.5/site-packages/ipykernel/__main__.py:13: UserWarning: The semantics of the Keras 2 argument `steps_per_epoch` is not the same as the Keras 1 argument `samples_per_epoch`. `steps_per_epoch` is the number of batches to draw from the generator at each epoch. Basically steps_per_epoch = samples_per_epoch/batch_size. Similarly `nb_val_samples`->`validation_steps` and `val_samples`->`steps` arguments have changed. Update your method calls accordingly.\n/Users/Zizy/anaconda/lib/python3.5/site-packages/ipykernel/__main__.py:13: UserWarning: Update your `fit_generator` call to the Keras 2 API: `fit_generator(<generator..., verbose=1, validation_steps=500, validation_data=<generator..., epochs=2000, steps_per_epoch=3000, callbacks=[<keras.ca...)`\n"
     ]
    },
    {
     "name": "stdout",
     "output_type": "stream",
     "text": [
      "Epoch 1/2000\n"
     ]
    }
   ],
   "source": [
    "n_epochs = 2000\n",
    "input_data_size = 64\n",
    "frame_shift = 1\n",
    "\n",
    "# model = get_basic_generative_model(input_data_size+stacked_labs_with_feature.shape[2])\n",
    "model = load_model(local_path+\"model.h5\")\n",
    "training_data_gen = frame_generator(f0s[0:29], input_data_size, frame_shift, stacked_labs_with_feature[0:29])\n",
    "validation_data_gen = frame_generator(f0s[29:32], input_data_size, frame_shift, stacked_labs_with_feature[29:32])\n",
    "\n",
    "model.fit_generator(training_data_gen, samples_per_epoch=3000, nb_epoch=n_epochs,\n",
    "                    validation_data=validation_data_gen, nb_val_samples=500, verbose=1,\n",
    "                    callbacks=[TensorBoard(log_dir='./tmp/log', histogram_freq=0, write_graph=True,\n",
    "                                          write_images=True)])"
   ]
  },
  {
   "cell_type": "code",
   "execution_count": 17,
   "metadata": {},
   "outputs": [
    {
     "data": {
      "text/plain": [
       "2"
      ]
     },
     "execution_count": 17,
     "metadata": {},
     "output_type": "execute_result"
    }
   ],
   "source": [
    "len(f0s[29:32])"
   ]
  },
  {
   "cell_type": "code",
   "execution_count": 83,
   "metadata": {
    "collapsed": true
   },
   "outputs": [
    {
     "name": "stdout",
     "output_type": "stream",
     "text": [
      "Generating audio...\n"
     ]
    },
    {
     "name": "stdout",
     "output_type": "stream",
     "text": [
      "1.0\n"
     ]
    },
    {
     "name": "stdout",
     "output_type": "stream",
     "text": [
      "2.0\n"
     ]
    },
    {
     "name": "stdout",
     "output_type": "stream",
     "text": [
      "3.0\n"
     ]
    },
    {
     "name": "stdout",
     "output_type": "stream",
     "text": [
      "4.0\n"
     ]
    },
    {
     "name": "stdout",
     "output_type": "stream",
     "text": [
      "5.0\n"
     ]
    },
    {
     "name": "stdout",
     "output_type": "stream",
     "text": [
      "6.0\n"
     ]
    },
    {
     "name": "stdout",
     "output_type": "stream",
     "text": [
      "7.0\n"
     ]
    },
    {
     "name": "stdout",
     "output_type": "stream",
     "text": [
      "8.0\n"
     ]
    },
    {
     "name": "stdout",
     "output_type": "stream",
     "text": [
      "9.0\n"
     ]
    },
    {
     "name": "stdout",
     "output_type": "stream",
     "text": [
      "10.0\nAudio generated.\n"
     ]
    }
   ],
   "source": [
    "f0s_new = f0_generate(model,input_data_size,input_data_size+stacked_labs_with_feature.shape[2],stacked_labs_with_feature[0])"
   ]
  },
  {
   "cell_type": "code",
   "execution_count": 84,
   "metadata": {},
   "outputs": [],
   "source": [
    "labs = feature_expend(labs)\n"
   ]
  },
  {
   "cell_type": "code",
   "execution_count": 85,
   "metadata": {},
   "outputs": [],
   "source": [
    "model.save(local_path+'model.h5')"
   ]
  },
  {
   "cell_type": "code",
   "execution_count": 89,
   "metadata": {},
   "outputs": [],
   "source": [
    "with open(local_path+\"new_f0s_2.txt\",'w',encoding='utf-8') as f:\n",
    "    for i in range(0,len(f0s)):\n",
    "        f.write(str(f0s[i])+\"\\r\\n\")\n",
    "        \n",
    "        \n"
   ]
  },
  {
   "cell_type": "code",
   "execution_count": 87,
   "metadata": {},
   "outputs": [
    {
     "name": "stdout",
     "output_type": "stream",
     "text": [
      "[Elemwise{exp,no_inplace}(<TensorType(float64, vector)>)]\n"
     ]
    },
    {
     "ename": "NameError",
     "evalue": "name 'xrange' is not defined",
     "traceback": [
      "\u001b[0;31m---------------------------------------------------------------------------\u001b[0m",
      "\u001b[0;31mNameError\u001b[0m                                 Traceback (most recent call last)",
      "\u001b[0;32m<ipython-input-87-4acf81cdde75>\u001b[0m in \u001b[0;36m<module>\u001b[0;34m()\u001b[0m\n\u001b[1;32m     12\u001b[0m \u001b[0mprint\u001b[0m\u001b[0;34m(\u001b[0m\u001b[0mf\u001b[0m\u001b[0;34m.\u001b[0m\u001b[0mmaker\u001b[0m\u001b[0;34m.\u001b[0m\u001b[0mfgraph\u001b[0m\u001b[0;34m.\u001b[0m\u001b[0mtoposort\u001b[0m\u001b[0;34m(\u001b[0m\u001b[0;34m)\u001b[0m\u001b[0;34m)\u001b[0m\u001b[0;34m\u001b[0m\u001b[0m\n\u001b[1;32m     13\u001b[0m \u001b[0mt0\u001b[0m \u001b[0;34m=\u001b[0m \u001b[0mtime\u001b[0m\u001b[0;34m.\u001b[0m\u001b[0mtime\u001b[0m\u001b[0;34m(\u001b[0m\u001b[0;34m)\u001b[0m\u001b[0;34m\u001b[0m\u001b[0m\n\u001b[0;32m---> 14\u001b[0;31m \u001b[0;32mfor\u001b[0m \u001b[0mi\u001b[0m \u001b[0;32min\u001b[0m \u001b[0mxrange\u001b[0m\u001b[0;34m(\u001b[0m\u001b[0miters\u001b[0m\u001b[0;34m)\u001b[0m\u001b[0;34m:\u001b[0m\u001b[0;34m\u001b[0m\u001b[0m\n\u001b[0m\u001b[1;32m     15\u001b[0m     \u001b[0mr\u001b[0m \u001b[0;34m=\u001b[0m \u001b[0mf\u001b[0m\u001b[0;34m(\u001b[0m\u001b[0;34m)\u001b[0m\u001b[0;34m\u001b[0m\u001b[0m\n\u001b[1;32m     16\u001b[0m \u001b[0mt1\u001b[0m \u001b[0;34m=\u001b[0m \u001b[0mtime\u001b[0m\u001b[0;34m.\u001b[0m\u001b[0mtime\u001b[0m\u001b[0;34m(\u001b[0m\u001b[0;34m)\u001b[0m\u001b[0;34m\u001b[0m\u001b[0m\n",
      "\u001b[0;31mNameError\u001b[0m: name 'xrange' is not defined"
     ],
     "output_type": "error"
    }
   ],
   "source": [
    "from theano import function, config, shared, sandbox  \n",
    "import theano.tensor as T  \n",
    "import numpy  \n",
    "import time  \n",
    "\n",
    "vlen = 10 * 30 * 768  # 10 x #cores x # threads per core  \n",
    "iters = 1000  \n",
    "\n",
    "rng = numpy.random.RandomState(22)  \n",
    "x = shared(numpy.asarray(rng.rand(vlen), config.floatX))  \n",
    "f = function([], T.exp(x))  \n",
    "print(f.maker.fgraph.toposort())  \n",
    "t0 = time.time()  \n",
    "for i in xrange(iters):  \n",
    "    r = f()  \n",
    "t1 = time.time()  \n",
    "print(\"Looping %d times took %f seconds\" % (iters, t1 - t0))  \n",
    "print(\"Result is %s\" % (r,))  \n",
    "if numpy.any([isinstance(x.op, T.Elemwise) for x in f.maker.fgraph.toposort()]):  \n",
    "    print('Used the cpu')  \n",
    "else:  \n",
    "    print('Used the gpu')"
   ]
  },
  {
   "cell_type": "code",
   "execution_count": 118,
   "metadata": {},
   "outputs": [
    {
     "name": "stdout",
     "output_type": "stream",
     "text": [
      "0\n0\n0\n0\n0\n0\n0\n0\n0\n0\n0\n0\n0\n0\n0\n0\n0\n0\n0\n0\n0\n0\n0\n0\n0\n0\n0\n0\n0\n0\n0\n0\n0\n0\n0\n0\n0\n0\n0\n0\n0\n0\n0\n0\n0\n0\n0\n0\n0\n0\n0\n0\n0\n0\n0\n0\n0\n0\n0\n0\n0\n0\n0\n0\n0\n0\n0\n0\n0\n0\n0\n0\n0\n"
     ]
    },
    {
     "name": "stdout",
     "output_type": "stream",
     "text": [
      "0\n0\n0\n0\n0\n0\n0\n0\n0\n0\n0\n0\n0\n0\n0\n0\n0\n0\n0\n0\n0\n0\n0\n0\n0\n0\n0\n0\n0\n0\n0\n0\n0\n0\n0\n0\n0\n0\n0\n0\n0\n0\n0\n0\n0\n0\n0\n0\n0\n0\n0\n0\n0\n0\n0\n0\n0\n0\n0\n0\n0\n0\n0\n0\n0\n0\n0\n0\n0\n0\n0\n0\n0\n0\n0\n0\n0\n0\n0\n0\n0\n0\n0\n0\n0\n0\n0\n0\n0\n0\n0\n0\n0\n0\n0\n0\n0\n0\n0\n0\n385\n379\n385\n396\n401\n417\n431\n424\n422\n424\n"
     ]
    },
    {
     "name": "stdout",
     "output_type": "stream",
     "text": [
      "422\n426\n427\n429\n434\n437\n442\n442\n443\n442\n443\n441\n441\n441\n440\n441\n440\n440\n440\n440\n439\n439\n439\n435\n434\n434\n432\n431\n429\n427\n426\n425\n427\n425\n428\n428\n426\n427\n424\n428\n427\n430\n430\n434\n435\n435\n438\n438\n440\n441\n443\n442\n442\n442\n443\n443\n443\n442\n442\n444\n443\n444\n444\n443\n442\n442\n442\n445\n443\n445\n445\n443\n443\n442\n438\n433\n430\n431\n428\n417\n423\n425\n427\n428\n430\n430\n431\n432\n433\n432\n434\n434\n434\n435\n434\n435\n435\n437\n437\n437\n438\n440\n431\n431\n428\n422\n412\n406\n405\n415\n438\n416\n"
     ]
    },
    {
     "name": "stdout",
     "output_type": "stream",
     "text": [
      "414\n453\n0\n0\n0\n0\n0\n448\n448\n446\n444\n442\n441\n439\n439\n439\n437\n437\n436\n435\n434\n436\n437\n438\n438\n438\n437\n436\n436\n436\n438\n440\n437\n436\n434\n435\n435\n433\n436\n434\n434\n432\n433\n436\n433\n432\n434\n429\n431\n430\n428\n425\n424\n415\n406\n394\n366\n372\n360\n355\n351\n349\n347\n346\n343\n343\n343\n341\n340\n339\n339\n342\n342\n343\n345\n347\n347\n349\n352\n352\n350\n347\n353\n351\n348\n351\n352\n352\n355\n354\n355\n353\n347\n348\n334\n334\n337\n337\n342\n358\n363\n368\n369\n369\n365\n363\n"
     ]
    },
    {
     "name": "stdout",
     "output_type": "stream",
     "text": [
      "357\n351\n342\n335\n325\n313\n302\n290\n280\n268\n260\n255\n252\n252\n262\n263\n266\n266\n267\n270\n272\n277\n282\n287\n291\n296\n299\n301\n301\n303\n303\n301\n301\n301\n300\n297\n296\n294\n291\n289\n287\n285\n284\n282\n280\n279\n280\n278\n278\n276\n276\n277\n278\n279\n279\n281\n284\n285\n285\n287\n288\n291\n291\n295\n300\n306\n304\n306\n306\n303\n304\n302\n301\n298\n298\n295\n291\n285\n272\n258\n0\n0\n0\n0\n0\n0\n0\n0\n0\n0\n0\n0\n0\n0\n0\n0\n0\n0\n0\n0\n281\n285\n291\n299\n302\n"
     ]
    },
    {
     "name": "stdout",
     "output_type": "stream",
     "text": [
      "303\n303\n303\n304\n304\n304\n304\n302\n0\n254\n245\n251\n254\n266\n294\n281\n288\n289\n286\n283\n280\n276\n281\n282\n286\n284\n283\n284\n284\n286\n287\n289\n290\n293\n294\n295\n299\n301\n304\n308\n310\n314\n317\n320\n319\n319\n318\n316\n312\n310\n306\n299\n297\n291\n289\n287\n285\n286\n288\n290\n292\n294\n294\n291\n283\n275\n264\n0\n0\n0\n0\n0\n0\n0\n0\n0\n0\n0\n0\n0\n0\n0\n0\n0\n0\n0\n0\n0\n0\n0\n0\n327\n327\n334\n338\n"
     ]
    },
    {
     "name": "stdout",
     "output_type": "stream",
     "text": [
      "336\n338\n341\n343\n345\n344\n347\n346\n347\n349\n350\n349\n349\n348\n346\n346\n340\n340\n337\n332\n337\n332\n332\n331\n330\n332\n333\n333\n332\n332\n332\n328\n325\n314\n298\n275\n272\n307\n0\n0\n0\n0\n0\n0\n0\n0\n0\n0\n0\n0\n0\n0\n0\n0\n357\n379\n378\n378\n378\n375\n374\n372\n372\n371\n370\n370\n370\n369\n370\n368\n367\n366\n365\n365\n365\n364\n"
     ]
    },
    {
     "name": "stdout",
     "output_type": "stream",
     "text": [
      "364\n362\n360\n363\n361\n361\n361\n361\n360\n362\n360\n362\n362\n361\n363\n362\n365\n365\n367\n368\n371\n369\n370\n369\n369\n369\n368\n368\n367\n367\n366\n366\n366\n364\n364\n362\n362\n362\n360\n360\n362\n363\n366\n368\n369\n370\n374\n318\n0\n0\n0\n0\n0\n0\n0\n0\n0\n0\n0\n0\n0\n0\n0\n0\n0\n0\n374\n382\n378\n373\n370\n369\n371\n374\n376\n381\n386\n384\n380\n371\n350\n326\n318\n0\n0\n0\n0\n0\n"
     ]
    },
    {
     "name": "stdout",
     "output_type": "stream",
     "text": [
      "0\n0\n0\n0\n0\n0\n0\n0\n0\n0\n0\n0\n0\n0\n313\n316\n325\n330\n334\n335\n335\n336\n338\n338\n339\n338\n339\n340\n339\n340\n340\n340\n340\n342\n341\n340\n340\n338\n338\n337\n338\n337\n333\n334\n332\n331\n330\n330\n331\n329\n330\n330\n330\n328\n326\n326\n327\n322\n309\n285\n290\n296\n308\n307\n304\n297\n288\n279\n268\n260\n254\n250\n248\n248\n252\n259\n261\n263\n263\n265\n267\n269\n272\n275\n279\n283\n286\n290\n293\n294\n297\n298\n299\n299\n299\n299\n299\n299\n298\n"
     ]
    },
    {
     "name": "stdout",
     "output_type": "stream",
     "text": [
      "296\n296\n294\n292\n290\n288\n287\n286\n286\n286\n287\n288\n288\n289\n290\n291\n292\n295\n296\n299\n302\n302\n301\n296\n285\n279\n279\n286\n296\n309\n318\n324\n328\n330\n331\n332\n330\n331\n331\n332\n331\n330\n328\n332\n331\n333\n331\n330\n329\n329\n329\n327\n324\n326\n323\n322\n323\n322\n320\n320\n323\n325\n326\n328\n329\n333\n335\n338\n341\n345\n348\n352\n354\n356\n356\n357\n357\n354\n352\n347\n344\n341\n337\n329\n326\n321\n313\n310\n310\n305\n303\n304\n305\n306\n307\n309\n"
     ]
    },
    {
     "name": "stdout",
     "output_type": "stream",
     "text": [
      "313\n313\n315\n318\n322\n326\n328\n330\n332\n334\n337\n341\n346\n350\n352\n355\n358\n358\n357\n357\n355\n351\n349\n344\n341\n335\n330\n324\n319\n314\n311\n310\n310\n309\n310\n311\n313\n315\n317\n320\n324\n328\n331\n335\n338\n341\n344\n345\n346\n345\n344\n342\n339\n335\n331\n327\n323\n323\n320\n0\n0\n0\n0\n0\n0\n0\n0\n0\n0\n0\n0\n0\n0\n0\n0\n0\n0\n0\n0\n0\n0\n0\n0\n0\n0\n0\n0\n0\n0\n0\n0\n0\n0\n0\n0\n0\n0\n0\n0\n0\n0\n"
     ]
    },
    {
     "name": "stdout",
     "output_type": "stream",
     "text": [
      "0\n0\n0\n0\n0\n0\n0\n0\n0\n0\n0\n0\n0\n0\n0\n0\n0\n0\n0\n0\n0\n0\n0\n0\n0\n0\n0\n0\n0\n0\n0\n0\n0\n0\n0\n0\n0\n0\n0\n0\n0\n0\n0\n0\n0\n0\n0\n0\n0\n0\n0\n0\n0\n0\n0\n0\n0\n0\n0\n0\n0\n0\n0\n0\n0\n0\n0\n0\n0\n0\n0\n323\n"
     ]
    },
    {
     "name": "stdout",
     "output_type": "stream",
     "text": [
      "375\n356\n356\n350\n359\n359\n361\n362\n366\n368\n367\n368\n369\n369\n368\n369\n369\n368\n368\n369\n368\n368\n368\n365\n363\n360\n357\n356\n354\n352\n351\n350\n350\n350\n352\n353\n356\n359\n363\n368\n370\n375\n379\n382\n386\n390\n391\n393\n394\n395\n392\n392\n391\n391\n389\n391\n383\n383\n379\n378\n372\n368\n365\n362\n359\n357\n357\n356\n356\n355\n355\n356\n358\n357\n357\n354\n361\n354\n344\n334\n344\n348\n350\n352\n355\n356\n359\n0\n408\n422\n413\n404\n407\n408\n406\n"
     ]
    },
    {
     "name": "stdout",
     "output_type": "stream",
     "text": [
      "404\n405\n399\n395\n392\n390\n388\n388\n386\n387\n386\n385\n385\n383\n383\n383\n384\n384\n384\n383\n388\n388\n390\n393\n394\n397\n401\n403\n407\n409\n414\n417\n420\n424\n428\n431\n433\n436\n438\n438\n439\n437\n436\n434\n436\n435\n433\n431\n432\n430\n428\n429\n430\n431\n430\n432\n431\n433\n434\n435\n435\n436\n435\n439\n439\n440\n439\n441\n440\n442\n440\n439\n437\n437\n434\n434\n429\n423\n400\n0\n381\n420\n397\n402\n407\n414\n422\n432\n445\n458\n467\n483\n522\n521\n500\n507\n507\n"
     ]
    },
    {
     "name": "stdout",
     "output_type": "stream",
     "text": [
      "508\n508\n512\n512\n512\n513\n510\n508\n507\n506\n505\n506\n504\n502\n498\n496\n494\n491\n489\n488\n484\n486\n482\n482\n484\n483\n484\n487\n487\n487\n488\n489\n492\n494\n497\n499\n502\n503\n506\n507\n507\n507\n507\n504\n503\n498\n494\n490\n484\n478\n471\n464\n459\n454\n450\n446\n443\n440\n436\n433\n431\n428\n427\n427\n428\n430\n432\n435\n435\n438\n439\n440\n442\n444\n445\n447\n449\n450\n448\n450\n450\n450\n449\n449\n449\n449\n448\n447\n446\n444\n442\n438\n436\n436\n435\n434\n433\n432\n431\n429\n428\n428\n427\n"
     ]
    },
    {
     "name": "stdout",
     "output_type": "stream",
     "text": [
      "425\n426\n426\n427\n427\n428\n432\n435\n439\n441\n443\n447\n449\n452\n454\n454\n455\n454\n453\n451\n450\n447\n439\n425\n398\n300\n0\n0\n0\n0\n0\n0\n0\n0\n0\n0\n0\n0\n0\n0\n0\n0\n0\n0\n0\n438\n426\n435\n436\n434\n435\n434\n434\n433\n435\n435\n435\n438\n438\n440\n440\n442\n440\n438\n427\n0\n416\n"
     ]
    },
    {
     "name": "stdout",
     "output_type": "stream",
     "text": [
      "405\n407\n409\n410\n409\n408\n408\n410\n412\n412\n418\n0\n426\n431\n431\n430\n429\n429\n"
     ]
    },
    {
     "name": "stdout",
     "output_type": "stream",
     "text": [
      "428\n429\n431\n432\n434\n436\n437\n437\n439\n439\n437\n437\n433\n430\n429\n427\n426\n427\n427\n429\n430\n432\n434\n435\n436\n438\n440\n443\n446\n446\n446\n444\n440\n435\n430\n421\n411\n401\n391\n379\n371\n362\n352\n345\n338\n337\n340\n346\n350\n353\n355\n358\n361\n364\n365\n356\n353\n354\n354\n355\n356\n358\n359\n"
     ]
    },
    {
     "name": "stdout",
     "output_type": "stream",
     "text": [
      "360\n363\n364\n365\n366\n365\n369\n370\n369\n369\n369\n369\n369\n369\n369\n368\n369\n369\n368\n368\n366\n367\n369\n369\n369\n369\n368\n366\n363\n361\n360\n362\n355\n345\n0\n266\n266\n273\n277\n285\n291\n293\n299\n319\n334\n329\n329\n326\n326\n326\n325\n327\n329\n329\n330\n330\n332\n333\n334\n335\n336\n338\n339\n340\n340\n340\n341\n"
     ]
    },
    {
     "name": "stdout",
     "output_type": "stream",
     "text": [
      "342\n340\n339\n337\n334\n332\n328\n325\n322\n317\n314\n311\n306\n302\n300\n299\n298\n298\n300\n303\n306\n310\n316\n318\n323\n327\n333\n339\n346\n350\n353\n358\n361\n366\n"
     ]
    },
    {
     "name": "stdout",
     "output_type": "stream",
     "text": [
      "367\n370\n369\n368\n364\n359\n359\n356\n353\n347\n337\n324\n307\n273\n276\n275\n0\n0\n0\n0\n0\n0\n0\n0\n0\n0\n0\n0\n0\n0\n276\n313\n327\n330\n332\n337\n341\n343\n345\n347\n347\n348\n347\n346\n347\n347\n346\n346\n345\n339\n339\n"
     ]
    },
    {
     "name": "stdout",
     "output_type": "stream",
     "text": [
      "336\n326\n314\n277\n298\n299\n295\n292\n287\n281\n277\n277\n277\n276\n276\n275\n276\n277\n278\n280\n282\n283\n286\n289\n292\n295\n298\n300\n302\n305\n306\n306\n307\n306\n306\n304\n301\n299\n298\n296\n294\n292\n292\n291\n292\n290\n291\n290\n290\n291\n291\n292\n293\n294\n296\n297\n299\n300\n303\n306\n"
     ]
    },
    {
     "name": "stdout",
     "output_type": "stream",
     "text": [
      "306\n310\n312\n314\n315\n317\n321\n325\n328\n330\n331\n333\n334\n336\n337\n338\n337\n339\n335\n336\n333\n331\n331\n330\n331\n332\n333\n333\n334\n333\n334\n333\n333\n334\n334\n334\n335\n336\n336\n336\n336\n337\n337\n337\n337\n337\n336\n336\n333\n333\n329\n327\n327\n325\n322\n320\n317\n316\n314\n312\n"
     ]
    },
    {
     "name": "stdout",
     "output_type": "stream",
     "text": [
      "315\n318\n317\n280\n283\n287\n0\n361\n359\n348\n360\n361\n362\n365\n366\n368\n369\n369\n370\n369\n368\n367\n366\n364\n363\n362\n361\n359\n357\n355\n353\n351\n349\n347\n346\n345\n344\n344\n346\n347\n349\n351\n354\n356\n359\n364\n365\n368\n371\n376\n379\n381\n383\n387\n391\n392\n393\n"
     ]
    },
    {
     "name": "stdout",
     "output_type": "stream",
     "text": [
      "394\n392\n389\n387\n383\n379\n374\n371\n366\n360\n357\n354\n351\n349\n347\n347\n346\n346\n348\n348\n351\n354\n357\n358\n364\n368\n372\n375\n377\n380\n382\n386\n390\n397\n399\n399\n398\n394\n390\n384\n379\n374\n368\n363\n356\n351\n345\n341\n338\n336\n337\n337\n338\n343\n345\n348\n351\n354\n358\n361\n365\n369\n"
     ]
    },
    {
     "name": "stdout",
     "output_type": "stream",
     "text": [
      "374\n377\n382\n384\n384\n384\n382\n380\n378\n373\n368\n364\n359\n358\n357\n361\n363\n362\n0\n0\n0\n0\n0\n0\n0\n0\n0\n0\n0\n0\n0\n0\n0\n0\n0\n0\n0\n0\n0\n0\n0\n0\n0\n0\n0\n0\n0\n0\n0\n0\n0\n0\n0\n0\n0\n0\n0\n0\n0\n0\n0\n0\n0\n0\n0\n0\n0\n0\n0\n"
     ]
    },
    {
     "name": "stdout",
     "output_type": "stream",
     "text": [
      "0\n0\n0\n0\n0\n0\n0\n0\n0\n0\n0\n0\n0\n0\n0\n0\n0\n0\n0\n0\n0\n0\n0\n0\n0\n0\n0\n0\n0\n0\n0\n0\n0\n0\n0\n0\n0\n0\n0\n0\n0\n0\n0\n0\n0\n0\n0\n0\n0\n0\n0\n0\n0\n385\n419\n422\n428\n433\n436\n437\n437\n437\n436\n435\n434\n433\n"
     ]
    },
    {
     "name": "stdout",
     "output_type": "stream",
     "text": [
      "433\n432\n432\n430\n429\n428\n426\n425\n424\n423\n423\n422\n423\n423\n425\n425\n425\n427\n428\n430\n432\n434\n435\n437\n438\n439\n439\n439\n438\n439\n437\n438\n436\n435\n434\n432\n429\n423\n412\n389\n318\n0\n0\n0\n0\n451\n459\n471\n482\n493\n507\n522\n537\n552\n585\n567\n583\n584\n583\n587\n587\n588\n591\n592\n595\n600\n604\n607\n613\n616\n619\n"
     ]
    },
    {
     "name": "stdout",
     "output_type": "stream",
     "text": [
      "619\n621\n619\n619\n615\n615\n616\n616\n618\n618\n618\n616\n616\n612\n607\n602\n597\n592\n586\n582\n580\n583\n587\n593\n598\n601\n605\n610\n615\n618\n620\n618\n602\n565\n562\n526\n588\n564\n589\n0\n0\n0\n0\n0\n606\n615\n598\n592\n588\n585\n581\n581\n581\n581\n582\n584\n586\n586\n586\n"
     ]
    },
    {
     "name": "stdout",
     "output_type": "stream",
     "text": [
      "587\n585\n582\n579\n580\n582\n581\n583\n583\n584\n584\n586\n587\n590\n588\n588\n589\n588\n589\n587\n589\n589\n589\n587\n581\n556\n0\n0\n0\n0\n0\n0\n0\n0\n0\n0\n0\n0\n0\n0\n0\n0\n0\n0\n0\n0\n0\n0\n435\n447\n447\n"
     ]
    },
    {
     "name": "stdout",
     "output_type": "stream",
     "text": [
      "449\n449\n448\n450\n451\n451\n452\n453\n454\n456\n460\n462\n464\n466\n464\n465\n465\n464\n463\n463\n462\n461\n461\n460\n459\n458\n459\n457\n456\n455\n453\n452\n452\n452\n452\n453\n453\n453\n454\n454\n454\n454\n454\n452\n449\n445\n439\n432\n423\n414\n398\n382\n370\n362\n356\n352\n349\n347\n347\n347\n348\n349\n349\n353\n354\n357\n357\n"
     ]
    },
    {
     "name": "stdout",
     "output_type": "stream",
     "text": [
      "358\n360\n360\n359\n358\n359\n359\n361\n362\n363\n364\n364\n367\n367\n368\n367\n367\n366\n365\n362\n363\n362\n363\n363\n364\n366\n364\n366\n366\n365\n367\n365\n366\n367\n367\n370\n370\n372\n374\n376\n379\n382\n380\n372\n357\n344\n367\n367\n0\n0\n0\n442\n428\n434\n435\n439\n442\n444\n445\n446\n447\n446\n446\n445\n444\n"
     ]
    },
    {
     "name": "stdout",
     "output_type": "stream",
     "text": [
      "445\n443\n443\n441\n441\n440\n440\n440\n440\n440\n440\n439\n440\n440\n441\n443\n444\n446\n448\n449\n450\n452\n453\n453\n454\n453\n453\n452\n451\n448\n444\n437\n424\n390\n0\n407\n389\n401\n393\n409\n416\n411\n418\n447\n429\n428\n428\n430\n430\n429\n426\n422\n420\n419\n420\n423\n425\n426\n428\n430\n433\n433\n434\n433\n432\n"
     ]
    },
    {
     "name": "stdout",
     "output_type": "stream",
     "text": [
      "432\n432\n433\n432\n433\n434\n434\n436\n439\n442\n443\n443\n444\n446\n448\n448\n443\n434\n426\n414\n397\n0\n0\n0\n0\n0\n0\n0\n0\n0\n0\n0\n0\n0\n0\n0\n0\n0\n0\n0\n314\n326\n349\n355\n356\n356\n357\n359\n359\n362\n362\n362\n365\n366\n368\n369\n369\n370\n371\n372\n371\n370\n370\n368\n367\n365\n364\n364\n"
     ]
    },
    {
     "name": "stdout",
     "output_type": "stream",
     "text": [
      "365\n366\n367\n369\n372\n374\n375\n375\n375\n375\n373\n372\n371\n370\n366\n364\n361\n356\n350\n339\n326\n311\n295\n273\n252\n238\n228\n224\n220\n217\n216\n218\n220\n226\n229\n233\n238\n242\n246\n250\n254\n258\n261\n264\n267\n270\n274\n276\n279\n280\n282\n284\n285\n286\n285\n283\n281\n280\n279\n280\n281\n281\n280\n280\n279\n277\n275\n273\n274\n"
     ]
    },
    {
     "name": "stdout",
     "output_type": "stream",
     "text": [
      "275\n281\n275\n0\n0\n0\n0\n0\n0\n0\n0\n0\n0\n0\n0\n0\n0\n0\n0\n0\n0\n0\n0\n0\n0\n360\n368\n366\n368\n367\n369\n368\n368\n367\n366\n364\n364\n362\n360\n357\n358\n356\n356\n354\n352\n351\n350\n350\n350\n350\n351\n352\n354\n356\n357\n359\n360\n363\n365\n366\n367\n367\n368\n369\n367\n365\n359\n"
     ]
    },
    {
     "name": "stdout",
     "output_type": "stream",
     "text": [
      "343\n0\n353\n336\n338\n337\n335\n334\n334\n336\n335\n335\n335\n334\n332\n348\n0\n361\n362\n353\n352\n353\n354\n355\n358\n360\n361\n364\n366\n366\n366\n367\n367\n367\n367\n368\n367\n367\n366\n365\n365\n364\n363\n362\n363\n364\n365\n367\n367\n368\n367\n368\n369\n369\n369\n369\n370\n371\n371\n370\n369\n370\n369\n368\n365\n364\n364\n"
     ]
    },
    {
     "name": "stdout",
     "output_type": "stream",
     "text": [
      "364\n364\n365\n365\n367\n368\n368\n368\n367\n365\n365\n363\n360\n357\n352\n350\n347\n0\n259\n263\n265\n259\n254\n249\n245\n244\n246\n252\n272\n0\n0\n0\n0\n322\n322\n324\n324\n326\n327\n328\n332\n333\n335\n333\n331\n326\n316\n313\n306\n293\n284\n280\n255\n233\n221\n0\n0\n0\n0\n0\n0\n0\n0\n0\n"
     ]
    },
    {
     "name": "stdout",
     "output_type": "stream",
     "text": [
      "0\n0\n0\n0\n0\n0\n0\n0\n240\n270\n292\n294\n296\n294\n293\n293\n293\n293\n293\n295\n296\n296\n297\n298\n298\n298\n298\n297\n296\n296\n294\n293\n290\n289\n288\n291\n290\n289\n289\n289\n289\n289\n289\n289\n290\n292\n294\n296\n296\n299\n300\n302\n302\n302\n302\n302\n301\n301\n301\n300\n299\n298\n297\n"
     ]
    },
    {
     "name": "stdout",
     "output_type": "stream",
     "text": [
      "293\n289\n287\n284\n281\n278\n275\n273\n271\n272\n272\n274\n276\n278\n282\n284\n287\n291\n297\n300\n305\n309\n313\n317\n321\n324\n325\n324\n322\n320\n313\n310\n304\n299\n294\n290\n284\n283\n280\n278\n278\n279\n279\n281\n282\n282\n285\n288\n292\n298\n299\n300\n302\n300\n298\n291\n286\n0\n0\n0\n0\n0\n0\n0\n0\n"
     ]
    },
    {
     "name": "stdout",
     "output_type": "stream",
     "text": [
      "0\n0\n0\n0\n0\n0\n0\n0\n0\n0\n0\n0\n0\n0\n0\n0\n0\n0\n0\n0\n0\n0\n0\n0\n0\n0\n0\n0\n0\n0\n0\n0\n0\n0\n0\n0\n0\n0\n0\n0\n0\n0\n0\n0\n0\n0\n0\n0\n0\n0\n0\n0\n0\n0\n0\n0\n0\n0\n0\n0\n0\n"
     ]
    },
    {
     "name": "stdout",
     "output_type": "stream",
     "text": [
      "0\n0\n0\n0\n0\n0\n0\n0\n0\n0\n0\n0\n0\n0\n0\n0\n0\n0\n0\n0\n0\n0\n0\n0\n0\n0\n0\n0\n0\n0\n0\n0\n0\n0\n0\n0\n0\n0\n0\n0\n0\n0\n0\n0\n0\n0\n0\n0\n0\n0\n0\n0\n0\n0\n0\n0\n0\n0\n0\n476\n439\n439\n435\n435\n"
     ]
    },
    {
     "name": "stdout",
     "output_type": "stream",
     "text": [
      "436\n436\n440\n443\n449\n454\n455\n457\n458\n459\n461\n461\n459\n459\n457\n451\n448\n444\n440\n432\n431\n426\n423\n423\n422\n421\n420\n421\n421\n422\n423\n424\n426\n430\n432\n436\n441\n444\n447\n448\n449\n448\n446\n446\n444\n443\n441\n440\n439\n438\n435\n434\n433\n432\n433\n433\n433\n434\n434\n434\n433\n434\n431\n430\n431\n431\n432\n433\n"
     ]
    },
    {
     "name": "stdout",
     "output_type": "stream",
     "text": [
      "432\n433\n435\n437\n435\n435\n436\n434\n432\n416\n421\n425\n431\n434\n435\n437\n437\n438\n437\n437\n436\n435\n434\n433\n432\n431\n431\n431\n431\n431\n432\n432\n433\n434\n434\n433\n432\n430\n427\n425\n422\n418\n415\n409\n403\n398\n397\n403\n409\n424\n473\n453\n440\n440\n439\n438\n437\n438\n437\n438\n437\n437\n434\n433\n433\n432\n431\n431\n432\n"
     ]
    },
    {
     "name": "stdout",
     "output_type": "stream",
     "text": [
      "433\n432\n432\n432\n432\n433\n435\n434\n434\n435\n436\n437\n438\n439\n439\n440\n440\n441\n441\n441\n438\n436\n433\n428\n422\n415\n407\n397\n383\n0\n284\n294\n296\n295\n293\n292\n294\n299\n304\n309\n316\n321\n328\n335\n343\n349\n354\n360\n365\n368\n372\n377\n379\n382\n383\n384\n383\n"
     ]
    },
    {
     "name": "stdout",
     "output_type": "stream",
     "text": [
      "383\n382\n381\n379\n376\n374\n371\n370\n369\n370\n370\n371\n372\n373\n374\n375\n376\n377\n376\n376\n375\n374\n372\n370\n368\n365\n361\n356\n349\n340\n330\n316\n301\n284\n271\n258\n247\n239\n232\n229\n227\n226\n"
     ]
    },
    {
     "name": "stdout",
     "output_type": "stream",
     "text": [
      "227\n229\n230\n233\n235\n237\n240\n251\n255\n264\n268\n270\n274\n277\n280\n284\n288\n292\n293\n294\n293\n292\n291\n288\n287\n286\n285\n284\n284\n283\n282\n283\n283\n283\n283\n284\n285\n285\n286\n287\n288\n289\n289\n291\n291\n292\n294\n296\n296\n"
     ]
    },
    {
     "name": "stdout",
     "output_type": "stream",
     "text": [
      "297\n299\n301\n305\n311\n314\n318\n318\n317\n312\n309\n299\n278\n263\n240\n241\n243\n0\n0\n0\n0\n0\n0\n0\n0\n0\n0\n0\n0\n0\n0\n0\n0\n0\n0\n0\n0\n0\n231\n243\n290\n288\n295\n301\n304\n304\n305\n306\n306\n306\n305\n304\n300\n293\n285\n264\n263\n275\n277\n276\n276\n274\n273\n271\n270\n272\n278\n284\n"
     ]
    },
    {
     "name": "stdout",
     "output_type": "stream",
     "text": [
      "284\n283\n282\n282\n282\n283\n283\n284\n285\n285\n286\n288\n290\n293\n295\n297\n300\n301\n301\n300\n298\n296\n294\n292\n289\n289\n288\n289\n290\n289\n292\n293\n292\n288\n277\n267\n248\n231\n260\n261\n0\n0\n0\n0\n0\n0\n0\n0\n0\n0\n0\n0\n0\n0\n0\n0\n256\n296\n334\n339\n343\n347\n347\n346\n346\n347\n349\n346\n346\n"
     ]
    },
    {
     "name": "stdout",
     "output_type": "stream",
     "text": [
      "345\n342\n343\n341\n340\n340\n338\n337\n337\n337\n336\n339\n337\n338\n336\n338\n337\n337\n339\n336\n338\n337\n337\n336\n333\n332\n319\n0\n0\n0\n0\n0\n0\n0\n0\n0\n0\n0\n0\n0\n0\n0\n0\n0\n0\n0\n0\n333\n349\n360\n367\n369\n370\n370\n369\n367\n368\n368\n367\n366\n366\n364\n365\n362\n361\n358\n358\n355\n358\n355\n"
     ]
    },
    {
     "name": "stdout",
     "output_type": "stream",
     "text": [
      "354\n356\n355\n356\n355\n356\n357\n360\n360\n364\n363\n369\n372\n372\n373\n374\n374\n373\n373\n371\n371\n370\n369\n366\n364\n361\n360\n357\n356\n355\n356\n355\n356\n356\n360\n362\n363\n365\n365\n364\n363\n366\n366\n368\n329\n0\n0\n0\n0\n0\n0\n0\n0\n0\n0\n0\n0\n0\n0\n0\n0\n321\n365\n368\n"
     ]
    },
    {
     "name": "stdout",
     "output_type": "stream",
     "text": [
      "360\n350\n348\n347\n348\n347\n349\n349\n350\n351\n355\n354\n345\n0\n0\n0\n0\n0\n0\n0\n0\n0\n0\n0\n0\n0\n0\n0\n0\n0\n0\n0\n0\n0\n0\n0\n290\n315\n322\n326\n327\n329\n329\n329\n328\n327\n325\n323\n323\n322\n323\n322\n323\n324\n325\n326\n326\n327\n328\n328\n328\n328\n330\n331\n331\n333\n334\n336\n337\n337\n"
     ]
    },
    {
     "name": "stdout",
     "output_type": "stream",
     "text": [
      "337\n337\n335\n330\n323\n0\n278\n273\n282\n293\n304\n299\n294\n287\n279\n270\n264\n259\n256\n254\n254\n259\n261\n263\n263\n264\n265\n267\n269\n271\n274\n277\n279\n281\n283\n286\n288\n290\n290\n290\n290\n288\n289\n288\n287\n286\n285\n285\n284\n284\n284\n283\n282\n281\n280\n280\n280\n281\n282\n282\n283\n"
     ]
    },
    {
     "name": "stdout",
     "output_type": "stream",
     "text": [
      "283\n284\n285\n286\n288\n289\n290\n291\n291\n294\n295\n294\n284\n270\n264\n264\n276\n0\n317\n305\n329\n328\n335\n337\n339\n337\n339\n342\n344\n346\n346\n347\n347\n347\n347\n347\n345\n344\n341\n340\n337\n335\n331\n327\n326\n325\n323\n320\n319\n319\n320\n320\n320\n"
     ]
    },
    {
     "name": "stdout",
     "output_type": "stream",
     "text": [
      "320\n319\n321\n321\n321\n322\n325\n329\n332\n336\n339\n341\n343\n345\n346\n348\n348\n349\n347\n347\n345\n343\n340\n338\n333\n329\n324\n321\n318\n315\n314\n313\n312\n312\n313\n315\n317\n319\n321\n323\n328\n330\n333\n335\n338\n341\n345\n349\n352\n"
     ]
    },
    {
     "name": "stdout",
     "output_type": "stream",
     "text": [
      "356\n358\n360\n360\n358\n357\n353\n350\n346\n341\n336\n331\n323\n320\n314\n312\n310\n310\n309\n310\n310\n311\n314\n317\n320\n324\n327\n331\n333\n336\n339\n344\n343\n342\n343\n341\n358\n346\n342\n335\n327\n325\n0\n0\n0\n0\n0\n0\n0\n0\n0\n0\n0\n0\n0\n"
     ]
    },
    {
     "name": "stdout",
     "output_type": "stream",
     "text": [
      "0\n0\n0\n0\n0\n0\n0\n0\n0\n0\n0\n0\n0\n0\n0\n0\n0\n0\n0\n0\n0\n0\n0\n0\n0\n0\n0\n0\n0\n0\n0\n0\n0\n0\n0\n0\n0\n0\n0\n0\n0\n0\n0\n0\n0\n0\n0\n0\n0\n0\n0\n0\n0\n0\n0\n0\n0\n0\n0\n0\n0\n0\n0\n0\n0\n0\n0\n0\n0\n0\n0\n0\n"
     ]
    },
    {
     "name": "stdout",
     "output_type": "stream",
     "text": [
      "0\n0\n0\n0\n0\n0\n0\n0\n0\n0\n0\n0\n0\n0\n0\n0\n0\n0\n0\n0\n0\n0\n0\n0\n0\n0\n0\n0\n0\n0\n0\n0\n351\n348\n350\n346\n348\n351\n351\n355\n357\n361\n362\n362\n362\n363\n361\n361\n360\n359\n358\n357\n355\n353\n352\n350\n348\n350\n348\n350\n351\n355\n358\n362\n365\n368\n371\n373\n375\n377\n"
     ]
    },
    {
     "name": "stdout",
     "output_type": "stream",
     "text": [
      "378\n378\n378\n379\n379\n380\n382\n381\n379\n378\n378\n378\n375\n373\n372\n373\n372\n369\n370\n369\n368\n366\n365\n363\n363\n363\n363\n364\n365\n365\n366\n367\n369\n369\n369\n371\n367\n0\n312\n323\n328\n336\n339\n340\n342\n344\n346\n348\n0\n416\n400\n401\n400\n403\n401\n403\n403\n401\n403\n401\n401\n398\n395\n395\n392\n393\n390\n389\n386\n384\n382\n"
     ]
    },
    {
     "name": "stdout",
     "output_type": "stream",
     "text": [
      "380\n379\n377\n375\n375\n379\n381\n385\n387\n391\n394\n400\n404\n407\n411\n414\n417\n420\n420\n423\n425\n425\n427\n427\n428\n424\n427\n430\n430\n429\n427\n427\n426\n425\n423\n422\n423\n422\n421\n423\n421\n422\n422\n423\n425\n428\n431\n432\n434\n436\n438\n440\n441\n442\n442\n438\n435\n433\n429\n426\n418\n397\n0\n388\n395\n398\n402\n"
     ]
    },
    {
     "name": "stdout",
     "output_type": "stream",
     "text": [
      "408\n415\n425\n437\n454\n469\n474\n0\n541\n520\n495\n503\n504\n503\n503\n506\n504\n507\n505\n503\n504\n503\n503\n503\n502\n501\n500\n501\n500\n500\n498\n497\n495\n493\n493\n491\n492\n493\n491\n493\n493\n493\n492\n493\n494\n494\n493\n495\n496\n497\n494\n497\n494\n491\n484\n468\n0\n452\n442\n437\n442\n437\n431\n421\n410\n413\n409\n403\n"
     ]
    },
    {
     "name": "stdout",
     "output_type": "stream",
     "text": [
      "397\n394\n391\n0\n431\n429\n425\n424\n426\n425\n424\n424\n424\n425\n426\n426\n426\n426\n428\n427\n428\n428\n429\n429\n430\n430\n431\n430\n432\n432\n435\n436\n437\n440\n442\n446\n448\n451\n454\n457\n460\n459\n459\n459\n457\n456\n453\n448\n443\n439\n435\n430\n428\n423\n420\n418\n416\n415\n414\n415\n417\n420\n423\n427\n431\n434\n438\n441\n445\n447\n"
     ]
    },
    {
     "name": "stdout",
     "output_type": "stream",
     "text": [
      "449\n452\n452\n448\n431\n395\n0\n419\n420\n416\n421\n421\n425\n431\n434\n435\n465\n444\n441\n441\n440\n439\n438\n434\n434\n436\n438\n437\n438\n439\n441\n441\n440\n439\n440\n438\n429\n381\n420\n430\n428\n431\n432\n432\n432\n433\n432\n432\n431\n430\n430\n0\n431\n444\n446\n445\n443\n440\n439\n439\n438\n438\n440\n441\n441\n441\n441\n441\n441\n441\n"
     ]
    },
    {
     "name": "stdout",
     "output_type": "stream",
     "text": [
      "440\n438\n437\n435\n434\n434\n433\n433\n432\n434\n436\n439\n443\n445\n448\n450\n452\n454\n453\n452\n450\n447\n443\n437\n432\n423\n414\n403\n389\n375\n360\n346\n340\n333\n328\n325\n323\n322\n325\n329\n332\n335\n338\n342\n349\n355\n359\n358\n353\n353\n356\n359\n361\n363\n368\n369\n371\n370\n369\n368\n367\n366\n367\n366\n366\n366\n365\n365\n363\n364\n363\n"
     ]
    },
    {
     "name": "stdout",
     "output_type": "stream",
     "text": [
      "364\n364\n364\n365\n366\n368\n370\n373\n376\n375\n377\n378\n377\n377\n375\n370\n365\n361\n360\n352\n333\n0\n0\n0\n0\n0\n249\n0\n0\n0\n328\n298\n320\n322\n318\n317\n319\n319\n323\n327\n330\n331\n332\n333\n334\n336\n335\n336\n338\n339\n339\n338\n338\n335\n329\n331\n325\n324\n321\n318\n315\n315\n314\n313\n313\n313\n315\n314\n315\n316\n"
     ]
    },
    {
     "name": "stdout",
     "output_type": "stream",
     "text": [
      "319\n321\n323\n326\n328\n330\n334\n336\n339\n338\n343\n343\n343\n345\n345\n345\n344\n345\n342\n339\n337\n333\n330\n330\n321\n313\n299\n270\n266\n0\n0\n0\n0\n0\n0\n0\n0\n0\n0\n0\n0\n0\n0\n0\n0\n0\n268\n284\n289\n306\n314\n321\n325\n327\n330\n332\n335\n338\n339\n338\n339\n339\n339\n339\n338\n338\n337\n334\n328\n328\n320\n311\n"
     ]
    },
    {
     "name": "stdout",
     "output_type": "stream",
     "text": [
      "280\n257\n271\n273\n278\n276\n274\n272\n271\n270\n270\n275\n278\n279\n281\n283\n284\n285\n288\n291\n292\n295\n297\n300\n302\n304\n305\n306\n306\n306\n305\n303\n302\n302\n301\n299\n297\n297\n297\n294\n294\n294\n293\n291\n292\n293\n292\n293\n294\n296\n297\n297\n300\n303\n304\n304\n306\n313\n315\n317\n318\n321\n321\n323\n324\n324\n325\n327\n328\n328\n"
     ]
    },
    {
     "name": "stdout",
     "output_type": "stream",
     "text": [
      "329\n331\n331\n333\n331\n330\n327\n332\n331\n334\n332\n332\n333\n334\n333\n336\n334\n336\n338\n337\n338\n337\n339\n339\n337\n337\n336\n335\n335\n334\n334\n333\n332\n332\n330\n329\n329\n329\n329\n329\n329\n329\n330\n330\n333\n338\n339\n338\n339\n331\n295\n289\n305\n0\n352\n356\n353\n362\n363\n364\n365\n369\n371\n371\n372\n372\n"
     ]
    },
    {
     "name": "stdout",
     "output_type": "stream",
     "text": [
      "372\n372\n372\n371\n371\n369\n368\n368\n369\n367\n367\n366\n365\n365\n364\n362\n361\n360\n359\n358\n359\n359\n361\n360\n362\n363\n365\n367\n369\n371\n373\n376\n376\n379\n379\n382\n383\n385\n384\n385\n384\n384\n382\n381\n378\n376\n373\n369\n366\n363\n361\n358\n355\n353\n351\n351\n352\n353\n355\n356\n359\n360\n363\n367\n371\n375\n379\n383\n"
     ]
    },
    {
     "name": "stdout",
     "output_type": "stream",
     "text": [
      "386\n389\n391\n393\n395\n397\n397\n397\n395\n393\n391\n386\n381\n377\n372\n365\n357\n352\n348\n345\n342\n342\n342\n343\n345\n349\n352\n353\n354\n356\n362\n370\n359\n378\n0\n0\n0\n0\n0\n0\n0\n0\n0\n0\n0\n0\n0\n0\n0\n0\n0\n0\n0\n0\n0\n0\n0\n0\n0\n0\n0\n0\n0\n0\n0\n0\n0\n0\n0\n0\n0\n0\n"
     ]
    },
    {
     "name": "stdout",
     "output_type": "stream",
     "text": [
      "0\n0\n0\n0\n0\n0\n0\n0\n0\n0\n0\n0\n0\n0\n0\n0\n0\n0\n0\n0\n0\n0\n0\n0\n0\n0\n0\n0\n0\n0\n0\n0\n0\n0\n0\n0\n0\n0\n0\n0\n0\n0\n0\n0\n0\n0\n0\n0\n0\n0\n0\n0\n0\n0\n0\n0\n0\n0\n0\n0\n0\n0\n0\n0\n0\n0\n"
     ]
    },
    {
     "name": "stdout",
     "output_type": "stream",
     "text": [
      "0\n0\n0\n0\n0\n0\n0\n0\n0\n0\n0\n0\n0\n0\n0\n0\n0\n427\n435\n441\n444\n446\n447\n449\n449\n449\n447\n446\n444\n443\n442\n439\n437\n435\n433\n432\n430\n428\n426\n424\n422\n421\n420\n420\n422\n423\n426\n427\n429\n431\n435\n438\n440\n442\n444\n445\n445\n446\n446\n447\n446\n445\n443\n440\n437\n430\n421\n418\n"
     ]
    },
    {
     "name": "stdout",
     "output_type": "stream",
     "text": [
      "407\n434\n440\n452\n467\n482\n488\n498\n505\n515\n525\n531\n538\n0\n596\n555\n563\n559\n557\n558\n557\n557\n555\n555\n555\n558\n561\n564\n567\n569\n573\n576\n577\n578\n577\n577\n578\n577\n576\n576\n577\n580\n582\n585\n588\n593\n596\n596\n596\n592\n588\n584\n582\n582\n581\n580\n579\n578\n579\n578\n577\n572\n571\n568\n561\n539\n0\n550\n528\n530\n"
     ]
    },
    {
     "name": "stdout",
     "output_type": "stream",
     "text": [
      "542\n540\n540\n620\n576\n578\n610\n588\n582\n577\n575\n574\n573\n572\n571\n571\n570\n570\n567\n568\n568\n569\n571\n570\n571\n572\n574\n574\n575\n574\n576\n578\n578\n581\n583\n586\n590\n594\n597\n599\n599\n597\n581\n566\n554\n0\n0\n0\n0\n0\n0\n0\n0\n0\n0\n0\n0\n0\n0\n0\n0\n0\n0\n0\n0\n0\n378\n409\n419\n425\n424\n425\n425\n426\n425\n"
     ]
    },
    {
     "name": "stdout",
     "output_type": "stream",
     "text": [
      "425\n426\n429\n430\n432\n435\n437\n440\n442\n444\n446\n448\n450\n451\n452\n453\n452\n451\n448\n446\n443\n443\n443\n444\n443\n443\n444\n445\n446\n447\n448\n450\n450\n451\n451\n451\n452\n451\n450\n448\n445\n441\n436\n430\n422\n414\n404\n391\n375\n363\n355\n347\n342\n338\n334\n331\n331\n330\n331\n333\n338\n340\n344\n347\n352\n353\n354\n356\n358\n359\n362\n363\n364\n366\n368\n"
     ]
    },
    {
     "name": "stdout",
     "output_type": "stream",
     "text": [
      "369\n370\n369\n369\n368\n367\n364\n362\n361\n361\n361\n363\n363\n364\n363\n364\n363\n363\n362\n362\n360\n362\n364\n365\n366\n368\n369\n370\n373\n375\n377\n378\n376\n373\n369\n360\n338\n368\n0\n0\n0\n425\n419\n424\n425\n430\n434\n437\n438\n439\n441\n442\n441\n440\n439\n439\n438\n438\n437\n437\n438\n437\n437\n438\n439\n439\n440\n441\n443\n445\n"
     ]
    },
    {
     "name": "stdout",
     "output_type": "stream",
     "text": [
      "447\n448\n451\n452\n454\n455\n455\n455\n456\n455\n455\n455\n453\n451\n447\n438\n422\n385\n0\n433\n427\n427\n421\n403\n441\n435\n444\n425\n430\n429\n431\n434\n434\n434\n434\n431\n430\n430\n431\n433\n433\n435\n439\n442\n444\n444\n443\n443\n441\n441\n438\n437\n436\n436\n438\n438\n441\n441\n442\n442\n441\n439\n433\n423\n412\n394\n383\n353\n0\n0\n"
     ]
    },
    {
     "name": "stdout",
     "output_type": "stream",
     "text": [
      "0\n0\n0\n0\n0\n0\n0\n0\n0\n0\n0\n0\n0\n0\n0\n0\n0\n348\n355\n359\n360\n360\n361\n359\n360\n359\n358\n360\n359\n359\n361\n362\n363\n364\n363\n364\n364\n362\n361\n361\n363\n363\n367\n369\n370\n372\n370\n372\n371\n371\n374\n373\n371\n371\n370\n371\n372\n368\n367\n364\n360\n351\n0\n265\n282\n285\n285\n272\n260\n250\n241\n"
     ]
    },
    {
     "name": "stdout",
     "output_type": "stream",
     "text": [
      "237\n235\n233\n233\n234\n236\n237\n239\n241\n252\n263\n263\n261\n262\n264\n266\n268\n272\n274\n277\n280\n283\n285\n287\n288\n288\n290\n290\n288\n288\n285\n284\n281\n278\n276\n274\n273\n274\n277\n279\n282\n284\n285\n288\n290\n292\n294\n294\n296\n292\n276\n253\n267\n272\n275\n268\n0\n0\n0\n0\n0\n0\n0\n0\n366\n335\n346\n347\n346\n349\n353\n357\n360\n"
     ]
    },
    {
     "name": "stdout",
     "output_type": "stream",
     "text": [
      "364\n366\n366\n364\n365\n363\n361\n361\n358\n357\n358\n356\n356\n354\n355\n351\n354\n352\n355\n356\n358\n360\n361\n364\n365\n369\n370\n372\n372\n371\n371\n370\n372\n372\n371\n367\n354\n341\n316\n332\n329\n325\n325\n323\n321\n320\n319\n319\n319\n319\n318\n319\n319\n0\n359\n353\n342\n338\n340\n344\n348\n351\n356\n358\n359\n361\n360\n359\n359\n358\n355\n354\n354\n"
     ]
    },
    {
     "name": "stdout",
     "output_type": "stream",
     "text": [
      "353\n355\n355\n356\n359\n361\n362\n367\n367\n369\n369\n369\n369\n368\n367\n367\n369\n370\n373\n373\n373\n373\n372\n370\n367\n364\n362\n360\n359\n359\n360\n361\n360\n361\n361\n361\n363\n364\n363\n362\n362\n363\n363\n362\n361\n360\n358\n356\n354\n352\n346\n0\n0\n0\n0\n0\n269\n0\n0\n0\n0\n0\n0\n0\n0\n0\n350\n343\n342\n"
     ]
    },
    {
     "name": "stdout",
     "output_type": "stream",
     "text": [
      "334\n330\n328\n328\n330\n332\n332\n331\n331\n331\n331\n328\n327\n325\n326\n310\n301\n290\n267\n246\n0\n0\n0\n0\n0\n0\n0\n0\n0\n0\n0\n0\n0\n0\n0\n0\n0\n0\n0\n0\n275\n281\n285\n286\n288\n289\n291\n294\n295\n297\n297\n297\n299\n300\n300\n299\n299\n300\n300\n299\n297\n298\n294\n290\n291\n290\n289\n288\n289\n290\n"
     ]
    },
    {
     "name": "stdout",
     "output_type": "stream",
     "text": [
      "289\n290\n291\n291\n291\n292\n292\n291\n292\n294\n297\n295\n295\n297\n298\n299\n301\n301\n300\n300\n299\n299\n299\n296\n295\n296\n295\n294\n294\n294\n293\n291\n291\n290\n286\n283\n283\n282\n282\n282\n282\n282\n285\n286\n287\n290\n291\n295\n299\n304\n308\n312\n317\n324\n328\n327\n323\n322\n320\n316\n311\n306\n302\n297\n294\n289\n284\n281\n278\n275\n273\n271\n270\n269\n270\n"
     ]
    },
    {
     "name": "stdout",
     "output_type": "stream",
     "text": [
      "272\n275\n279\n283\n286\n288\n291\n295\n299\n304\n309\n313\n313\n318\n319\n322\n323\n323\n324\n324\n322\n319\n314\n312\n310\n305\n300\n295\n290\n285\n282\n279\n276\n274\n275\n274\n272\n273\n274\n275\n274\n278\n284\n284\n289\n0\n0\n0\n0\n0\n0\n0\n0\n0\n0\n0\n0\n0\n0\n0\n0\n0\n0\n0\n0\n0\n0\n0\n0\n0\n0\n0\n"
     ]
    },
    {
     "name": "stdout",
     "output_type": "stream",
     "text": [
      "0\n0\n0\n0\n0\n0\n0\n0\n0\n0\n0\n0\n0\n0\n0\n0\n0\n0\n0\n0\n0\n0\n0\n0\n0\n0\n0\n0\n0\n0\n0\n0\n0\n0\n0\n0\n0\n0\n0\n0\n0\n0\n0\n0\n0\n0\n0\n0\n0\n0\n0\n0\n0\n0\n0\n0\n0\n0\n0\n0\n0\n0\n0\n0\n0\n0\n"
     ]
    },
    {
     "name": "stdout",
     "output_type": "stream",
     "text": [
      "0\n0\n0\n0\n0\n0\n0\n0\n0\n0\n0\n0\n0\n0\n0\n0\n0\n0\n0\n0\n0\n0\n0\n0\n0\n0\n0\n0\n0\n0\n0\n0\n0\n0\n0\n0\n0\n0\n0\n0\n0\n0\n0\n0\n0\n0\n0\n0\n0\n0\n0\n0\n0\n0\n0\n0\n0\n0\n0\n0\n0\n0\n0\n0\n0\n0\n"
     ]
    },
    {
     "name": "stdout",
     "output_type": "stream",
     "text": [
      "0\n0\n0\n0\n0\n0\n0\n0\n0\n0\n0\n0\n0\n0\n0\n0\n0\n0\n0\n0\n0\n0\n0\n0\n0\n0\n0\n0\n0\n0\n0\n0\n0\n0\n0\n0\n0\n0\n0\n0\n0\n0\n0\n0\n0\n0\n0\n0\n0\n0\n0\n0\n0\n0\n0\n0\n0\n0\n0\n0\n0\n0\n0\n0\n0\n0\n0\n0\n"
     ]
    },
    {
     "name": "stdout",
     "output_type": "stream",
     "text": [
      "0\n0\n0\n0\n0\n0\n0\n0\n0\n0\n0\n0\n0\n0\n0\n0\n0\n0\n0\n0\n0\n0\n0\n0\n0\n0\n0\n0\n0\n0\n0\n0\n0\n0\n0\n0\n0\n0\n0\n0\n0\n0\n0\n0\n0\n0\n0\n0\n0\n0\n0\n0\n0\n0\n0\n0\n"
     ]
    },
    {
     "name": "stdout",
     "output_type": "stream",
     "text": [
      "0\n0\n0\n0\n0\n0\n0\n0\n0\n0\n0\n0\n0\n0\n0\n0\n0\n0\n0\n0\n0\n0\n0\n0\n0\n0\n0\n0\n0\n0\n0\n0\n0\n0\n0\n0\n0\n0\n0\n0\n0\n0\n0\n0\n0\n0\n0\n0\n0\n0\n0\n0\n0\n0\n0\n0\n0\n0\n0\n0\n"
     ]
    },
    {
     "name": "stdout",
     "output_type": "stream",
     "text": [
      "0\n0\n0\n0\n0\n0\n0\n0\n0\n0\n0\n0\n0\n0\n0\n0\n0\n0\n0\n0\n0\n0\n0\n0\n0\n0\n0\n0\n0\n0\n0\n0\n0\n0\n0\n0\n0\n0\n0\n0\n0\n0\n0\n0\n0\n0\n0\n0\n0\n0\n0\n0\n0\n0\n0\n0\n0\n0\n0\n0\n0\n0\n0\n0\n0\n0\n"
     ]
    },
    {
     "name": "stdout",
     "output_type": "stream",
     "text": [
      "0\n0\n0\n0\n0\n0\n0\n0\n0\n0\n0\n0\n0\n0\n0\n0\n0\n0\n0\n0\n0\n0\n0\n0\n0\n0\n0\n0\n0\n0\n0\n0\n0\n0\n0\n0\n0\n0\n0\n0\n0\n0\n0\n0\n0\n0\n0\n0\n0\n0\n0\n0\n0\n0\n0\n0\n0\n0\n0\n0\n0\n0\n0\n0\n0\n0\n0\n"
     ]
    },
    {
     "name": "stdout",
     "output_type": "stream",
     "text": [
      "0\n0\n0\n0\n0\n0\n0\n0\n0\n0\n0\n0\n0\n0\n0\n0\n0\n0\n0\n0\n0\n0\n0\n0\n0\n0\n0\n0\n0\n0\n0\n0\n0\n0\n0\n0\n0\n0\n0\n0\n0\n0\n0\n0\n0\n0\n0\n0\n0\n0\n0\n0\n0\n0\n0\n0\n0\n0\n0\n0\n0\n0\n"
     ]
    },
    {
     "name": "stdout",
     "output_type": "stream",
     "text": [
      "0\n0\n0\n0\n0\n0\n0\n0\n0\n0\n0\n0\n0\n0\n0\n0\n0\n0\n0\n0\n0\n0\n0\n0\n0\n0\n0\n0\n0\n0\n0\n0\n0\n0\n0\n0\n0\n0\n0\n0\n0\n0\n0\n0\n0\n0\n0\n0\n0\n0\n0\n0\n0\n0\n0\n0\n0\n0\n0\n0\n0\n0\n0\n0\n0\n0\n0\n"
     ]
    },
    {
     "name": "stdout",
     "output_type": "stream",
     "text": [
      "0\n0\n0\n0\n0\n0\n0\n0\n0\n0\n0\n0\n0\n0\n0\n0\n0\n0\n0\n0\n0\n0\n0\n0\n0\n0\n0\n0\n0\n0\n0\n0\n0\n0\n0\n0\n0\n0\n0\n0\n0\n0\n0\n0\n0\n0\n0\n0\n0\n0\n0\n0\n0\n0\n0\n0\n0\n0\n0\n0\n"
     ]
    },
    {
     "name": "stdout",
     "output_type": "stream",
     "text": [
      "0\n0\n0\n0\n0\n0\n0\n0\n0\n0\n0\n0\n0\n0\n0\n0\n0\n0\n0\n0\n0\n0\n0\n0\n0\n0\n0\n0\n0\n0\n0\n0\n0\n0\n0\n0\n0\n0\n0\n0\n0\n0\n0\n0\n0\n0\n0\n0\n0\n0\n0\n0\n0\n0\n0\n0\n0\n0\n0\n0\n0\n0\n0\n0\n0\n0\n0\n0\n"
     ]
    },
    {
     "name": "stdout",
     "output_type": "stream",
     "text": [
      "0\n0\n0\n0\n0\n0\n0\n0\n0\n0\n0\n0\n0\n0\n0\n0\n0\n0\n0\n0\n0\n0\n0\n0\n0\n0\n0\n0\n0\n0\n0\n0\n0\n0\n0\n0\n0\n0\n0\n0\n0\n0\n0\n0\n0\n0\n0\n0\n0\n0\n0\n0\n0\n0\n0\n0\n0\n0\n0\n0\n0\n0\n0\n0\n0\n0\n0\n0\n"
     ]
    },
    {
     "name": "stdout",
     "output_type": "stream",
     "text": [
      "0\n0\n0\n0\n0\n0\n0\n0\n0\n0\n0\n0\n0\n0\n0\n0\n0\n0\n0\n0\n0\n0\n0\n0\n0\n0\n0\n0\n0\n0\n0\n0\n0\n0\n0\n0\n0\n0\n0\n0\n0\n0\n0\n0\n0\n0\n0\n0\n0\n0\n0\n0\n0\n0\n0\n0\n0\n0\n0\n0\n"
     ]
    },
    {
     "name": "stdout",
     "output_type": "stream",
     "text": [
      "0\n0\n0\n0\n0\n0\n0\n0\n0\n0\n0\n0\n0\n0\n0\n0\n0\n0\n0\n0\n0\n0\n0\n0\n0\n0\n0\n0\n0\n0\n0\n0\n0\n0\n0\n0\n0\n0\n"
     ]
    },
    {
     "name": "stdout",
     "output_type": "stream",
     "text": [
      "0\n0\n0\n0\n0\n0\n0\n0\n0\n0\n0\n0\n0\n0\n0\n0\n0\n0\n0\n0\n0\n0\n0\n0\n0\n0\n"
     ]
    },
    {
     "name": "stdout",
     "output_type": "stream",
     "text": [
      "0\n0\n0\n0\n0\n0\n0\n0\n0\n0\n0\n0\n0\n0\n0\n0\n0\n0\n0\n0\n0\n0\n0\n0\n0\n0\n0\n0\n0\n0\n0\n0\n0\n0\n0\n0\n0\n0\n0\n0\n0\n0\n0\n0\n"
     ]
    },
    {
     "name": "stdout",
     "output_type": "stream",
     "text": [
      "0\n0\n0\n0\n0\n0\n0\n0\n0\n0\n0\n0\n0\n0\n0\n0\n0\n0\n0\n0\n0\n0\n0\n0\n0\n0\n0\n0\n0\n0\n0\n0\n0\n0\n0\n0\n0\n0\n0\n0\n0\n0\n0\n0\n"
     ]
    },
    {
     "name": "stdout",
     "output_type": "stream",
     "text": [
      "0\n0\n0\n0\n0\n0\n0\n0\n0\n0\n0\n0\n0\n0\n0\n0\n0\n0\n0\n0\n0\n0\n0\n0\n0\n0\n0\n0\n0\n0\n0\n0\n0\n0\n0\n0\n0\n0\n0\n0\n0\n0\n0\n0\n0\n0\n0\n0\n0\n0\n0\n0\n0\n0\n0\n0\n0\n0\n0\n0\n"
     ]
    },
    {
     "name": "stdout",
     "output_type": "stream",
     "text": [
      "0\n0\n0\n0\n0\n0\n0\n0\n0\n0\n0\n0\n0\n0\n0\n0\n0\n0\n0\n0\n0\n0\n0\n0\n0\n0\n0\n0\n0\n0\n0\n0\n0\n0\n0\n0\n0\n0\n0\n0\n0\n0\n0\n0\n0\n0\n0\n0\n0\n0\n0\n0\n0\n0\n0\n0\n0\n0\n0\n0\n"
     ]
    },
    {
     "name": "stdout",
     "output_type": "stream",
     "text": [
      "0\n0\n0\n0\n0\n0\n0\n0\n0\n0\n0\n0\n0\n0\n0\n0\n0\n0\n0\n0\n0\n0\n0\n0\n0\n0\n0\n0\n0\n0\n0\n0\n0\n0\n0\n0\n0\n0\n0\n0\n0\n0\n0\n0\n0\n0\n0\n0\n0\n0\n0\n0\n0\n0\n0\n0\n0\n0\n0\n0\n0\n0\n0\n0\n0\n0\n0\n0\n"
     ]
    },
    {
     "name": "stdout",
     "output_type": "stream",
     "text": [
      "0\n0\n0\n0\n0\n0\n0\n0\n0\n0\n0\n0\n0\n0\n0\n0\n0\n0\n0\n0\n0\n0\n0\n0\n0\n0\n0\n0\n0\n0\n0\n0\n0\n0\n0\n0\n0\n0\n0\n0\n0\n0\n0\n0\n0\n0\n0\n0\n0\n0\n0\n0\n0\n0\n0\n0\n0\n0\n0\n0\n0\n0\n0\n"
     ]
    },
    {
     "name": "stdout",
     "output_type": "stream",
     "text": [
      "0\n0\n0\n0\n0\n0\n0\n0\n0\n0\n0\n0\n0\n0\n0\n0\n0\n0\n0\n0\n0\n0\n0\n0\n0\n0\n0\n0\n0\n0\n0\n0\n0\n0\n0\n0\n0\n0\n0\n0\n0\n0\n0\n0\n0\n0\n0\n0\n0\n0\n0\n0\n0\n0\n0\n0\n0\n0\n0\n0\n0\n0\n0\n0\n0\n0\n0\n0\n0\n0\n0\n"
     ]
    },
    {
     "name": "stdout",
     "output_type": "stream",
     "text": [
      "0\n0\n0\n0\n0\n0\n0\n0\n0\n0\n0\n0\n0\n0\n0\n0\n0\n0\n0\n0\n0\n0\n0\n0\n0\n0\n0\n0\n0\n0\n0\n0\n0\n0\n0\n0\n0\n0\n0\n0\n0\n0\n0\n0\n0\n0\n0\n0\n0\n0\n0\n0\n0\n0\n0\n0\n0\n0\n0\n0\n0\n0\n0\n0\n0\n0\n0\n0\n0\n0\n"
     ]
    },
    {
     "name": "stdout",
     "output_type": "stream",
     "text": [
      "0\n0\n0\n0\n0\n0\n0\n0\n0\n0\n0\n0\n0\n0\n0\n0\n0\n0\n0\n0\n0\n0\n0\n0\n0\n0\n0\n0\n0\n0\n0\n0\n0\n0\n0\n0\n0\n0\n0\n0\n0\n0\n0\n0\n0\n0\n0\n0\n0\n0\n0\n0\n0\n0\n0\n0\n0\n0\n0\n0\n0\n0\n0\n0\n0\n0\n0\n0\n0\n"
     ]
    },
    {
     "name": "stdout",
     "output_type": "stream",
     "text": [
      "0\n0\n0\n0\n0\n0\n0\n0\n0\n0\n0\n0\n0\n0\n0\n0\n0\n0\n0\n0\n0\n0\n0\n0\n0\n0\n0\n0\n0\n0\n0\n0\n0\n0\n0\n0\n0\n0\n0\n0\n0\n0\n0\n0\n0\n0\n0\n0\n0\n0\n0\n0\n0\n0\n0\n0\n0\n0\n0\n0\n0\n"
     ]
    },
    {
     "name": "stdout",
     "output_type": "stream",
     "text": [
      "0\n0\n0\n0\n0\n0\n0\n0\n0\n0\n0\n0\n0\n0\n0\n0\n0\n0\n0\n0\n0\n0\n0\n0\n0\n0\n0\n0\n0\n0\n0\n0\n0\n0\n0\n0\n0\n0\n0\n0\n0\n0\n0\n0\n0\n0\n0\n0\n0\n0\n0\n0\n0\n0\n0\n0\n0\n0\n0\n0\n0\n0\n0\n0\n0\n0\n0\n0\n0\n0\n0\n0\n"
     ]
    },
    {
     "name": "stdout",
     "output_type": "stream",
     "text": [
      "0\n0\n0\n0\n0\n0\n0\n0\n0\n0\n0\n0\n0\n0\n0\n0\n0\n0\n0\n0\n0\n0\n0\n0\n0\n0\n0\n0\n0\n0\n0\n0\n0\n0\n0\n0\n0\n0\n0\n0\n0\n0\n0\n0\n0\n0\n0\n0\n0\n0\n0\n0\n0\n0\n0\n0\n0\n0\n"
     ]
    },
    {
     "name": "stdout",
     "output_type": "stream",
     "text": [
      "0\n0\n0\n0\n0\n0\n0\n0\n0\n0\n0\n0\n0\n0\n0\n0\n0\n0\n0\n0\n0\n0\n0\n0\n0\n0\n0\n0\n0\n0\n0\n0\n0\n0\n0\n0\n0\n0\n0\n0\n0\n0\n0\n0\n0\n0\n0\n0\n0\n0\n0\n0\n0\n0\n0\n0\n0\n0\n0\n0\n0\n0\n0\n0\n"
     ]
    },
    {
     "name": "stdout",
     "output_type": "stream",
     "text": [
      "0\n0\n0\n0\n0\n0\n0\n0\n0\n0\n0\n0\n0\n0\n0\n0\n0\n0\n0\n0\n0\n0\n0\n0\n0\n0\n0\n0\n0\n0\n0\n0\n0\n0\n0\n0\n0\n0\n0\n0\n0\n0\n0\n0\n0\n0\n0\n0\n0\n0\n0\n0\n0\n0\n0\n0\n0\n0\n0\n0\n0\n0\n0\n0\n0\n0\n0\n0\n0\n0\n"
     ]
    },
    {
     "name": "stdout",
     "output_type": "stream",
     "text": [
      "0\n0\n0\n0\n0\n0\n0\n0\n0\n0\n0\n0\n0\n0\n0\n0\n0\n0\n0\n0\n0\n0\n0\n0\n0\n0\n0\n0\n0\n0\n0\n0\n0\n0\n0\n0\n0\n0\n0\n0\n0\n0\n0\n0\n0\n0\n0\n0\n0\n0\n0\n0\n0\n0\n0\n0\n0\n0\n0\n0\n0\n0\n0\n0\n0\n0\n0\n0\n0\n0\n0\n"
     ]
    },
    {
     "name": "stdout",
     "output_type": "stream",
     "text": [
      "0\n0\n0\n0\n0\n0\n0\n0\n0\n0\n0\n0\n0\n0\n0\n0\n0\n0\n0\n0\n0\n0\n0\n0\n0\n0\n0\n0\n0\n0\n0\n0\n0\n0\n0\n0\n0\n0\n0\n0\n0\n0\n0\n0\n0\n0\n0\n0\n0\n0\n0\n0\n0\n0\n0\n0\n0\n0\n0\n0\n0\n0\n0\n0\n0\n0\n0\n0\n0\n"
     ]
    },
    {
     "name": "stdout",
     "output_type": "stream",
     "text": [
      "0\n0\n0\n0\n0\n0\n0\n0\n0\n0\n0\n0\n0\n0\n0\n0\n0\n0\n0\n0\n0\n0\n0\n0\n0\n0\n0\n0\n0\n0\n0\n0\n0\n0\n0\n0\n0\n0\n0\n0\n0\n0\n0\n0\n0\n0\n0\n0\n0\n0\n0\n0\n0\n0\n0\n0\n0\n0\n0\n0\n0\n0\n0\n0\n0\n0\n0\n0\n0\n0\n0\n0\n"
     ]
    },
    {
     "name": "stdout",
     "output_type": "stream",
     "text": [
      "0\n0\n0\n0\n0\n0\n0\n0\n0\n0\n0\n0\n0\n0\n0\n0\n0\n0\n0\n0\n0\n0\n0\n0\n0\n0\n0\n0\n0\n0\n0\n0\n0\n0\n0\n0\n0\n0\n0\n0\n0\n0\n0\n0\n0\n0\n0\n0\n0\n0\n0\n0\n0\n0\n0\n0\n0\n0\n0\n0\n0\n0\n0\n0\n0\n0\n0\n0\n0\n"
     ]
    },
    {
     "name": "stdout",
     "output_type": "stream",
     "text": [
      "0\n0\n0\n0\n0\n0\n0\n0\n0\n0\n0\n0\n0\n0\n0\n0\n0\n0\n0\n0\n0\n0\n0\n0\n0\n0\n0\n0\n0\n0\n0\n0\n0\n0\n0\n0\n0\n0\n0\n0\n0\n0\n0\n0\n0\n0\n0\n0\n0\n0\n0\n0\n0\n0\n0\n0\n0\n0\n0\n0\n0\n0\n0\n0\n0\n0\n0\n0\n0\n0\n"
     ]
    },
    {
     "name": "stdout",
     "output_type": "stream",
     "text": [
      "0\n0\n0\n0\n0\n0\n0\n0\n0\n0\n0\n0\n0\n0\n0\n0\n0\n0\n0\n0\n0\n0\n0\n0\n0\n0\n0\n0\n0\n0\n0\n0\n0\n0\n0\n0\n0\n0\n0\n0\n0\n0\n0\n0\n0\n0\n0\n0\n0\n0\n0\n0\n0\n0\n0\n0\n0\n0\n0\n0\n0\n0\n0\n0\n0\n"
     ]
    },
    {
     "name": "stdout",
     "output_type": "stream",
     "text": [
      "0\n0\n0\n0\n0\n0\n0\n0\n0\n0\n0\n0\n0\n0\n0\n0\n0\n0\n0\n0\n0\n0\n0\n0\n0\n0\n0\n0\n0\n0\n0\n0\n0\n0\n0\n0\n0\n0\n0\n0\n0\n0\n0\n0\n0\n0\n0\n0\n0\n0\n0\n0\n0\n0\n0\n0\n0\n0\n0\n0\n0\n"
     ]
    },
    {
     "name": "stdout",
     "output_type": "stream",
     "text": [
      "0\n0\n0\n0\n0\n0\n0\n0\n0\n0\n0\n0\n0\n0\n0\n0\n0\n0\n0\n0\n0\n0\n0\n0\n0\n0\n0\n0\n0\n0\n0\n0\n0\n0\n0\n0\n0\n0\n0\n0\n0\n0\n0\n0\n0\n0\n0\n0\n0\n0\n0\n0\n0\n0\n0\n0\n0\n0\n0\n0\n0\n0\n0\n0\n0\n0\n0\n0\n0\n0\n"
     ]
    },
    {
     "name": "stdout",
     "output_type": "stream",
     "text": [
      "0\n0\n0\n0\n0\n0\n0\n0\n0\n0\n0\n0\n0\n0\n0\n0\n0\n0\n0\n0\n0\n0\n0\n0\n0\n0\n0\n0\n0\n0\n0\n0\n0\n0\n0\n0\n0\n0\n0\n0\n0\n0\n0\n0\n0\n0\n0\n0\n0\n0\n0\n0\n0\n0\n0\n0\n0\n0\n0\n0\n0\n0\n0\n0\n0\n0\n0\n0\n0\n0\n"
     ]
    },
    {
     "name": "stdout",
     "output_type": "stream",
     "text": [
      "0\n0\n0\n0\n0\n0\n0\n0\n0\n0\n0\n0\n0\n0\n0\n0\n0\n0\n0\n0\n0\n0\n0\n0\n0\n0\n0\n0\n0\n0\n0\n0\n0\n0\n0\n0\n0\n0\n0\n0\n0\n0\n0\n0\n0\n0\n0\n0\n0\n0\n0\n0\n0\n0\n0\n0\n0\n0\n0\n0\n0\n0\n0\n0\n0\n0\n0\n0\n0\n0\n0\n0\n0\n0\n0\n0\n0\n0\n"
     ]
    },
    {
     "name": "stdout",
     "output_type": "stream",
     "text": [
      "0\n0\n0\n0\n0\n0\n0\n0\n0\n0\n0\n0\n0\n0\n0\n0\n0\n0\n0\n0\n0\n0\n0\n0\n0\n0\n0\n0\n0\n0\n0\n0\n0\n0\n0\n0\n0\n0\n0\n0\n0\n0\n0\n0\n0\n0\n0\n0\n0\n0\n0\n0\n0\n0\n0\n0\n0\n0\n0\n0\n0\n0\n0\n0\n0\n0\n0\n0\n"
     ]
    },
    {
     "name": "stdout",
     "output_type": "stream",
     "text": [
      "0\n0\n0\n0\n0\n0\n0\n0\n0\n0\n0\n0\n0\n0\n0\n0\n0\n0\n0\n0\n0\n0\n0\n0\n0\n0\n0\n0\n0\n0\n0\n0\n0\n0\n0\n0\n0\n0\n0\n0\n0\n0\n0\n0\n0\n0\n0\n0\n0\n0\n0\n0\n0\n0\n0\n0\n0\n0\n0\n0\n0\n0\n0\n0\n0\n0\n0\n0\n0\n0\n0\n0\n0\n0\n"
     ]
    },
    {
     "name": "stdout",
     "output_type": "stream",
     "text": [
      "0\n0\n0\n0\n0\n0\n0\n0\n0\n0\n0\n0\n0\n0\n0\n0\n0\n0\n0\n0\n0\n0\n0\n0\n0\n0\n0\n0\n0\n0\n0\n0\n0\n0\n0\n0\n0\n0\n0\n0\n0\n0\n0\n0\n0\n0\n0\n0\n0\n0\n0\n0\n0\n0\n0\n0\n0\n0\n0\n0\n0\n0\n0\n0\n0\n0\n0\n0\n0\n0\n0\n"
     ]
    },
    {
     "name": "stdout",
     "output_type": "stream",
     "text": [
      "0\n0\n0\n0\n0\n0\n0\n0\n0\n0\n0\n0\n0\n0\n0\n0\n0\n0\n0\n0\n0\n0\n0\n0\n0\n0\n0\n0\n0\n0\n0\n0\n0\n0\n0\n0\n0\n0\n0\n0\n0\n0\n0\n0\n0\n0\n0\n0\n0\n0\n0\n0\n0\n0\n0\n0\n0\n0\n0\n0\n0\n0\n0\n0\n0\n0\n0\n0\n0\n0\n0\n0\n0\n0\n0\n0\n0\n0\n"
     ]
    },
    {
     "name": "stdout",
     "output_type": "stream",
     "text": [
      "0\n0\n0\n0\n0\n0\n0\n0\n0\n0\n0\n0\n0\n0\n0\n0\n0\n0\n0\n0\n0\n0\n0\n0\n0\n0\n0\n0\n0\n0\n0\n0\n0\n0\n0\n0\n0\n0\n0\n0\n0\n0\n0\n0\n0\n0\n0\n0\n0\n0\n0\n0\n0\n0\n0\n0\n0\n0\n0\n0\n0\n0\n0\n0\n0\n0\n0\n0\n"
     ]
    },
    {
     "name": "stdout",
     "output_type": "stream",
     "text": [
      "0\n0\n0\n0\n0\n0\n0\n0\n0\n0\n0\n0\n0\n0\n0\n0\n0\n0\n0\n0\n0\n0\n0\n0\n0\n0\n0\n0\n0\n0\n0\n0\n0\n0\n0\n0\n0\n0\n0\n0\n0\n0\n0\n0\n0\n0\n0\n0\n0\n0\n0\n0\n0\n0\n0\n0\n0\n0\n0\n0\n0\n0\n0\n0\n0\n0\n0\n0\n"
     ]
    },
    {
     "name": "stdout",
     "output_type": "stream",
     "text": [
      "0\n0\n0\n0\n0\n0\n0\n0\n0\n0\n0\n0\n0\n0\n0\n0\n0\n0\n0\n0\n0\n0\n0\n0\n0\n0\n0\n0\n0\n0\n0\n0\n0\n0\n0\n0\n0\n0\n0\n0\n0\n0\n0\n0\n0\n0\n0\n0\n0\n0\n0\n0\n0\n0\n0\n0\n0\n0\n0\n0\n0\n0\n0\n0\n0\n0\n0\n0\n0\n0\n0\n0\n0\n"
     ]
    },
    {
     "name": "stdout",
     "output_type": "stream",
     "text": [
      "0\n0\n0\n0\n0\n0\n0\n0\n0\n0\n0\n0\n0\n0\n0\n0\n0\n0\n0\n0\n0\n0\n0\n0\n0\n0\n0\n0\n0\n0\n0\n0\n0\n0\n0\n0\n0\n0\n0\n0\n0\n0\n0\n0\n0\n0\n0\n0\n0\n0\n0\n0\n0\n0\n0\n0\n0\n0\n0\n0\n0\n0\n0\n0\n0\n0\n0\n0\n0\n0\n0\n"
     ]
    },
    {
     "name": "stdout",
     "output_type": "stream",
     "text": [
      "0\n0\n0\n0\n0\n0\n0\n0\n0\n0\n0\n0\n0\n0\n0\n0\n0\n0\n0\n0\n0\n0\n0\n0\n0\n0\n0\n0\n0\n0\n0\n0\n0\n0\n0\n0\n0\n0\n0\n0\n0\n0\n0\n0\n0\n0\n0\n0\n0\n0\n0\n0\n0\n0\n0\n0\n0\n0\n0\n0\n0\n0\n0\n0\n0\n0\n0\n0\n0\n0\n0\n"
     ]
    },
    {
     "name": "stdout",
     "output_type": "stream",
     "text": [
      "0\n0\n0\n0\n0\n0\n0\n0\n0\n0\n0\n0\n0\n0\n0\n0\n0\n0\n0\n0\n0\n0\n0\n0\n0\n0\n0\n0\n0\n0\n0\n0\n0\n0\n0\n0\n0\n0\n0\n0\n0\n0\n0\n0\n0\n0\n0\n0\n0\n0\n0\n0\n0\n0\n0\n0\n0\n0\n0\n0\n0\n0\n0\n0\n0\n0\n0\n0\n"
     ]
    },
    {
     "name": "stdout",
     "output_type": "stream",
     "text": [
      "0\n0\n0\n0\n0\n0\n0\n0\n0\n0\n0\n0\n0\n0\n0\n0\n0\n0\n0\n0\n0\n0\n0\n0\n0\n0\n0\n0\n0\n0\n0\n0\n0\n0\n0\n0\n0\n0\n0\n0\n0\n0\n0\n0\n0\n0\n0\n0\n0\n0\n0\n0\n0\n0\n0\n0\n0\n0\n0\n0\n0\n0\n0\n0\n0\n0\n0\n0\n0\n0\n"
     ]
    },
    {
     "name": "stdout",
     "output_type": "stream",
     "text": [
      "0\n0\n0\n0\n0\n0\n0\n0\n0\n0\n0\n0\n0\n0\n0\n0\n0\n0\n0\n0\n0\n0\n0\n0\n0\n0\n0\n0\n0\n0\n0\n0\n0\n0\n0\n0\n0\n0\n0\n0\n0\n0\n0\n0\n0\n0\n0\n0\n0\n0\n0\n0\n0\n0\n0\n0\n0\n0\n0\n0\n0\n0\n0\n0\n0\n0\n0\n0\n0\n"
     ]
    },
    {
     "name": "stdout",
     "output_type": "stream",
     "text": [
      "0\n0\n0\n0\n0\n0\n0\n0\n0\n0\n0\n0\n0\n0\n0\n0\n0\n0\n0\n0\n0\n0\n0\n0\n0\n0\n0\n0\n0\n0\n0\n0\n0\n0\n0\n0\n0\n0\n0\n0\n0\n0\n0\n0\n0\n0\n0\n0\n0\n0\n0\n0\n0\n0\n0\n0\n0\n0\n0\n0\n"
     ]
    },
    {
     "name": "stdout",
     "output_type": "stream",
     "text": [
      "0\n0\n0\n0\n0\n0\n0\n0\n0\n0\n0\n0\n0\n0\n0\n0\n0\n0\n0\n0\n0\n0\n0\n0\n0\n0\n0\n0\n0\n0\n0\n0\n0\n0\n0\n0\n0\n0\n0\n0\n0\n0\n0\n0\n0\n0\n0\n0\n0\n0\n0\n0\n0\n0\n0\n0\n0\n0\n0\n0\n"
     ]
    },
    {
     "name": "stdout",
     "output_type": "stream",
     "text": [
      "0\n0\n0\n0\n0\n0\n0\n0\n0\n0\n0\n0\n0\n0\n0\n0\n0\n0\n0\n0\n0\n0\n0\n0\n0\n0\n0\n0\n0\n0\n0\n0\n0\n0\n0\n0\n0\n0\n0\n0\n0\n0\n0\n0\n0\n0\n0\n0\n0\n0\n0\n0\n0\n0\n0\n0\n0\n0\n0\n0\n0\n0\n0\n0\n0\n"
     ]
    },
    {
     "name": "stdout",
     "output_type": "stream",
     "text": [
      "0\n0\n0\n0\n0\n0\n0\n0\n0\n0\n0\n0\n0\n0\n0\n0\n0\n0\n0\n0\n0\n0\n0\n0\n0\n0\n0\n0\n0\n0\n0\n0\n0\n0\n0\n0\n0\n0\n0\n0\n0\n0\n0\n0\n0\n0\n0\n0\n0\n0\n0\n0\n0\n0\n0\n0\n0\n0\n0\n0\n0\n0\n"
     ]
    },
    {
     "name": "stdout",
     "output_type": "stream",
     "text": [
      "0\n0\n0\n0\n0\n0\n0\n0\n0\n0\n0\n0\n0\n0\n0\n0\n0\n0\n0\n0\n0\n0\n0\n0\n0\n0\n0\n0\n0\n0\n0\n0\n0\n0\n0\n0\n0\n0\n0\n0\n0\n0\n0\n0\n0\n0\n0\n0\n0\n0\n0\n0\n0\n0\n0\n0\n0\n0\n0\n0\n0\n0\n0\n0\n0\n0\n0\n0\n"
     ]
    },
    {
     "name": "stdout",
     "output_type": "stream",
     "text": [
      "0\n0\n0\n0\n0\n0\n0\n0\n0\n0\n0\n0\n0\n0\n0\n0\n0\n0\n0\n0\n0\n0\n0\n0\n0\n0\n0\n0\n0\n0\n0\n0\n0\n0\n0\n0\n0\n0\n0\n0\n0\n0\n0\n0\n0\n0\n0\n0\n0\n0\n0\n0\n0\n0\n0\n0\n0\n0\n0\n0\n0\n0\n"
     ]
    },
    {
     "name": "stdout",
     "output_type": "stream",
     "text": [
      "0\n0\n0\n0\n0\n0\n0\n0\n0\n0\n0\n0\n0\n0\n0\n0\n0\n0\n0\n0\n0\n0\n0\n0\n0\n0\n0\n0\n0\n0\n0\n0\n0\n0\n0\n0\n0\n0\n0\n0\n0\n0\n0\n0\n0\n0\n0\n0\n0\n0\n0\n0\n0\n0\n0\n0\n0\n0\n0\n0\n"
     ]
    },
    {
     "name": "stdout",
     "output_type": "stream",
     "text": [
      "0\n0\n0\n0\n0\n0\n0\n0\n0\n0\n0\n0\n0\n0\n0\n0\n0\n0\n0\n0\n0\n0\n0\n0\n0\n0\n0\n0\n0\n0\n0\n0\n0\n0\n0\n0\n0\n0\n0\n0\n0\n0\n0\n0\n0\n0\n0\n0\n0\n0\n0\n0\n0\n0\n0\n0\n0\n"
     ]
    },
    {
     "name": "stdout",
     "output_type": "stream",
     "text": [
      "0\n0\n0\n0\n0\n0\n0\n0\n0\n0\n0\n0\n0\n0\n0\n0\n0\n0\n0\n0\n0\n0\n0\n0\n0\n0\n0\n0\n0\n0\n0\n0\n0\n0\n0\n0\n0\n0\n0\n0\n0\n0\n0\n0\n0\n0\n0\n0\n0\n0\n0\n0\n0\n0\n0\n0\n0\n0\n0\n0\n0\n0\n0\n"
     ]
    },
    {
     "name": "stdout",
     "output_type": "stream",
     "text": [
      "0\n0\n0\n0\n0\n0\n0\n0\n0\n0\n0\n0\n0\n0\n0\n0\n0\n0\n0\n0\n0\n0\n0\n0\n0\n0\n0\n0\n0\n0\n0\n0\n0\n0\n0\n0\n0\n0\n0\n0\n0\n0\n0\n0\n0\n0\n0\n0\n0\n0\n0\n0\n0\n0\n0\n0\n0\n0\n0\n0\n0\n0\n0\n0\n0\n"
     ]
    },
    {
     "name": "stdout",
     "output_type": "stream",
     "text": [
      "0\n0\n0\n0\n0\n0\n0\n0\n0\n0\n0\n0\n0\n0\n0\n0\n0\n0\n0\n0\n0\n0\n0\n0\n0\n0\n0\n0\n0\n0\n0\n0\n0\n0\n0\n0\n0\n0\n0\n0\n0\n0\n0\n0\n0\n0\n0\n0\n0\n0\n0\n0\n0\n0\n0\n0\n0\n0\n0\n0\n"
     ]
    },
    {
     "name": "stdout",
     "output_type": "stream",
     "text": [
      "0\n0\n0\n0\n0\n0\n0\n0\n0\n0\n0\n0\n0\n0\n0\n0\n0\n0\n0\n0\n0\n0\n0\n0\n0\n0\n0\n0\n0\n0\n0\n0\n0\n0\n0\n0\n0\n0\n0\n0\n0\n0\n0\n0\n0\n0\n0\n0\n0\n0\n0\n0\n0\n0\n0\n0\n0\n0\n"
     ]
    },
    {
     "name": "stdout",
     "output_type": "stream",
     "text": [
      "0\n0\n0\n0\n0\n0\n0\n0\n0\n0\n0\n0\n0\n0\n0\n0\n0\n0\n0\n0\n0\n0\n0\n0\n0\n0\n0\n0\n0\n0\n0\n0\n0\n0\n0\n0\n0\n0\n0\n0\n0\n0\n0\n0\n0\n0\n0\n0\n0\n0\n0\n0\n0\n0\n0\n0\n0\n0\n"
     ]
    }
   ],
   "source": [
    "def frame_generator_test(total_frame, input_data_size, frame_shift, control_input, minibatch_size=20):\n",
    "    X = []\n",
    "    y = []\n",
    " \n",
    "    for lab_file_index in range(0, len(total_frame)):\n",
    "        total_frame_len = len(total_frame[lab_file_index])\n",
    "\n",
    "        # for cold_start_index in range(0,input_data_size):\n",
    "        #     frame=np.zeros((input_data_size-cold_start_index,1))\n",
    "        #     frame = np.append(frame,total_frame[lab_file_index][:cold_start_index])\n",
    "        #     frame = np.append(frame,control_input[lab_file_index][cold_start_index])\n",
    "        #     X.append(frame.reshape((input_data_size+control_input.shape[2],1)))\n",
    "        # \n",
    "        #     temp = total_frame[lab_file_index][cold_start_index]\n",
    "        #     target_val = int(temp)\n",
    "        #     y.append((np.eye(1000)[target_val]))\n",
    "\n",
    "        for i in range(0, total_frame_len - input_data_size - 1, frame_shift):\n",
    "\n",
    "            # 获取一帧\n",
    "            frame = total_frame[lab_file_index][i:i + input_data_size]\n",
    "\n",
    "            if len(frame) < input_data_size:\n",
    "                break\n",
    "\n",
    "            if i + input_data_size >= total_frame_len:\n",
    "                break\n",
    "\n",
    "            # 获取该帧 frame 后面的那个sample\n",
    "            temp = total_frame[lab_file_index][i + input_data_size]\n",
    "            target_val = int(temp)\n",
    "\n",
    "            # frame.shape = (64,1)\n",
    "\n",
    "            # Control Input\n",
    "            frame = np.append(frame, control_input[lab_file_index][i + input_data_size])\n",
    "            # print(frame.shape)\n",
    "\n",
    "            # X值即前一帧\n",
    "            X.append(frame.reshape((input_data_size + control_input.shape[2], 1)))\n",
    "\n",
    "            # 相当于一个one hot vec. 只激活第target_val个元素\n",
    "            y.append((np.eye(1000)[target_val]))\n",
    "            print(target_val)\n",
    "            # 获取一个mini-batch的数据返回\n",
    "            if len(X) == 10000:\n",
    "                \n",
    "                X = []\n",
    "                y = []\n",
    "                break\n",
    "                \n",
    "        break\n",
    "frame_generator_test(f0s[0:29], input_data_size, frame_shift, stacked_labs_with_feature)"
   ]
  },
  {
   "cell_type": "code",
   "execution_count": 100,
   "metadata": {},
   "outputs": [
    {
     "ename": "IndexError",
     "evalue": "index 30 is out of bounds for axis 0 with size 29",
     "traceback": [
      "\u001b[0;31m---------------------------------------------------------------------------\u001b[0m",
      "\u001b[0;31mIndexError\u001b[0m                                Traceback (most recent call last)",
      "\u001b[0;32m<ipython-input-100-2743dc8c90d3>\u001b[0m in \u001b[0;36m<module>\u001b[0;34m()\u001b[0m\n\u001b[0;32m----> 1\u001b[0;31m \u001b[0mf0s\u001b[0m\u001b[0;34m[\u001b[0m\u001b[0;36m0\u001b[0m\u001b[0;34m:\u001b[0m\u001b[0;36m29\u001b[0m\u001b[0;34m]\u001b[0m\u001b[0;34m[\u001b[0m\u001b[0;36m30\u001b[0m\u001b[0;34m]\u001b[0m\u001b[0;34m\u001b[0m\u001b[0m\n\u001b[0m",
      "\u001b[0;31mIndexError\u001b[0m: index 30 is out of bounds for axis 0 with size 29"
     ],
     "output_type": "error"
    }
   ],
   "source": [
    "f0s[0:29][30]"
   ]
  },
  {
   "cell_type": "code",
   "execution_count": 104,
   "metadata": {},
   "outputs": [
    {
     "data": {
      "text/plain": [
       "31"
      ]
     },
     "execution_count": 104,
     "metadata": {},
     "output_type": "execute_result"
    }
   ],
   "source": [
    "len(f0s)"
   ]
  },
  {
   "cell_type": "code",
   "execution_count": 36,
   "metadata": {},
   "outputs": [],
   "source": [
    "# labs  = read_songs_labels()\n",
    "labs = read_songs_labels_with_mono()\n",
    "\n",
    "labs = feature_expend(labs)\n"
   ]
  }
 ],
 "metadata": {
  "kernelspec": {
   "display_name": "Python 2",
   "language": "python",
   "name": "python2"
  },
  "language_info": {
   "codemirror_mode": {
    "name": "ipython",
    "version": 2
   },
   "file_extension": ".py",
   "mimetype": "text/x-python",
   "name": "python",
   "nbconvert_exporter": "python",
   "pygments_lexer": "ipython2",
   "version": "2.7.6"
  }
 },
 "nbformat": 4,
 "nbformat_minor": 0
}
